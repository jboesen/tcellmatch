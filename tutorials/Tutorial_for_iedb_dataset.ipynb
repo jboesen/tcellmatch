{
 "cells": [
  {
   "cell_type": "markdown",
   "metadata": {},
   "source": [
    "*(This is from tcellmatch authors)*\n",
    "\n",
    "This tutorial shows how to preprocess the raw data files from IEDB and feed into attention-base feed forward network for binary classification. We want to predict whether CDR3 could bind to certain antigens, so we take out (CDR3, antigen) pairs as training set, the target set would be boolean vector which indicates there is binding or not. The introduction of 10x can be found here: https://www.iedb.org.\n",
    "\n",
    "Download settings: linear epitope, MHC restriction to HLA-A*02:01 and organism as human and only human."
   ]
  },
  {
   "cell_type": "code",
   "execution_count": 24,
   "metadata": {},
   "outputs": [],
   "source": [
    "import pandas as pd\n",
    "import tensorflow as tf\n",
    "import tcellmatch.api as tm\n",
    "import os"
   ]
  },
  {
   "cell_type": "markdown",
   "metadata": {},
   "source": [
    "# Raw data"
   ]
  },
  {
   "cell_type": "markdown",
   "metadata": {},
   "source": [
    "Here, VDJdb.tsv is a downloaded file from the VDJdb website."
   ]
  },
  {
   "cell_type": "code",
   "execution_count": 3,
   "metadata": {},
   "outputs": [],
   "source": [
    "# Path of input directory.\n",
    "indir = YOUR_PATH\n",
    "# Path to IEDB raw files.\n",
    "fn_iedb = indir+\"tcell_receptor_table_export_1558607498.csv\"\n",
    "# Path to vdjdb files.\n",
    "fns_vdjdb = [indir + x for x in [\"VDJdb.tsv\"]]"
   ]
  },
  {
   "cell_type": "markdown",
   "metadata": {},
   "source": [
    "## Heads of IEDB raw files:"
   ]
  },
  {
   "cell_type": "code",
   "execution_count": 5,
   "metadata": {},
   "outputs": [
    {
     "name": "stderr",
     "output_type": "stream",
     "text": [
      "/anaconda3/lib/python3.6/site-packages/IPython/core/interactiveshell.py:2728: DtypeWarning: Columns (10,12,15,16,17,19,20,21,22,23,24,29,30,35,36,50,51,53,58,59,64,65) have mixed types. Specify dtype option on import or set low_memory=False.\n",
      "  interactivity=interactivity, compiler=compiler, result=result)\n"
     ]
    },
    {
     "data": {
      "text/html": [
       "<div>\n",
       "<style scoped>\n",
       "    .dataframe tbody tr th:only-of-type {\n",
       "        vertical-align: middle;\n",
       "    }\n",
       "\n",
       "    .dataframe tbody tr th {\n",
       "        vertical-align: top;\n",
       "    }\n",
       "\n",
       "    .dataframe thead th {\n",
       "        text-align: right;\n",
       "    }\n",
       "</style>\n",
       "<table border=\"1\" class=\"dataframe\">\n",
       "  <thead>\n",
       "    <tr style=\"text-align: right;\">\n",
       "      <th></th>\n",
       "      <th>Group Receptor ID</th>\n",
       "      <th>Receptor ID</th>\n",
       "      <th>Reference ID</th>\n",
       "      <th>Epitope ID</th>\n",
       "      <th>Description</th>\n",
       "      <th>Antigen</th>\n",
       "      <th>Organism</th>\n",
       "      <th>Response Type</th>\n",
       "      <th>Assay IDs</th>\n",
       "      <th>Reference Name</th>\n",
       "      <th>...</th>\n",
       "      <th>Chain 2 CDR1 Start Curated</th>\n",
       "      <th>Chain 2 CDR1 End Curated</th>\n",
       "      <th>Chain 2 CDR1 Start Calculated</th>\n",
       "      <th>Chain 2 CDR1 End Calculated</th>\n",
       "      <th>Chain 2 CDR2 Curated</th>\n",
       "      <th>Chain 2 CDR2 Calculated</th>\n",
       "      <th>Chain 2 CDR2 Start Curated</th>\n",
       "      <th>Chain 2 CDR2 End Curated</th>\n",
       "      <th>Chain 2 CDR2 Start Calculated</th>\n",
       "      <th>Chain 2 CDR2 End Calculated</th>\n",
       "    </tr>\n",
       "  </thead>\n",
       "  <tbody>\n",
       "    <tr>\n",
       "      <th>0</th>\n",
       "      <td>8494</td>\n",
       "      <td>59</td>\n",
       "      <td>1013533</td>\n",
       "      <td>37257</td>\n",
       "      <td>LLFGYPVYV</td>\n",
       "      <td>transcriptional activator Tax</td>\n",
       "      <td>Human T-cell leukemia virus type I</td>\n",
       "      <td>T cell</td>\n",
       "      <td>1775493, 1775496, 1779714, 1779715, 1779718</td>\n",
       "      <td>B7</td>\n",
       "      <td>...</td>\n",
       "      <td>None</td>\n",
       "      <td>None</td>\n",
       "      <td>27</td>\n",
       "      <td>31</td>\n",
       "      <td>None</td>\n",
       "      <td>SVGAGI</td>\n",
       "      <td>None</td>\n",
       "      <td>None</td>\n",
       "      <td>49</td>\n",
       "      <td>54</td>\n",
       "    </tr>\n",
       "    <tr>\n",
       "      <th>1</th>\n",
       "      <td>8494</td>\n",
       "      <td>59</td>\n",
       "      <td>1017753</td>\n",
       "      <td>186691</td>\n",
       "      <td>LLFGFPVYV</td>\n",
       "      <td>None</td>\n",
       "      <td>None</td>\n",
       "      <td>T cell</td>\n",
       "      <td>1975823, 1975824</td>\n",
       "      <td>B7</td>\n",
       "      <td>...</td>\n",
       "      <td>None</td>\n",
       "      <td>None</td>\n",
       "      <td>27</td>\n",
       "      <td>31</td>\n",
       "      <td>None</td>\n",
       "      <td>SVGAGI</td>\n",
       "      <td>None</td>\n",
       "      <td>None</td>\n",
       "      <td>49</td>\n",
       "      <td>54</td>\n",
       "    </tr>\n",
       "    <tr>\n",
       "      <th>2</th>\n",
       "      <td>8494</td>\n",
       "      <td>59</td>\n",
       "      <td>1017753</td>\n",
       "      <td>37257</td>\n",
       "      <td>LLFGYPVYV</td>\n",
       "      <td>transcriptional activator Tax</td>\n",
       "      <td>Human T-cell leukemia virus type I</td>\n",
       "      <td>T cell</td>\n",
       "      <td>1975819</td>\n",
       "      <td>B7</td>\n",
       "      <td>...</td>\n",
       "      <td>None</td>\n",
       "      <td>None</td>\n",
       "      <td>27</td>\n",
       "      <td>31</td>\n",
       "      <td>None</td>\n",
       "      <td>SVGAGI</td>\n",
       "      <td>None</td>\n",
       "      <td>None</td>\n",
       "      <td>49</td>\n",
       "      <td>54</td>\n",
       "    </tr>\n",
       "    <tr>\n",
       "      <th>3</th>\n",
       "      <td>18305</td>\n",
       "      <td>60</td>\n",
       "      <td>1016521</td>\n",
       "      <td>44920</td>\n",
       "      <td>NLVPMVATV</td>\n",
       "      <td>pp65</td>\n",
       "      <td>Human betaherpesvirus 5</td>\n",
       "      <td>T cell</td>\n",
       "      <td>1678482, 1678554</td>\n",
       "      <td>RA14</td>\n",
       "      <td>...</td>\n",
       "      <td>None</td>\n",
       "      <td>None</td>\n",
       "      <td>None</td>\n",
       "      <td>None</td>\n",
       "      <td>None</td>\n",
       "      <td>None</td>\n",
       "      <td>None</td>\n",
       "      <td>None</td>\n",
       "      <td>None</td>\n",
       "      <td>None</td>\n",
       "    </tr>\n",
       "    <tr>\n",
       "      <th>4</th>\n",
       "      <td>8500</td>\n",
       "      <td>66</td>\n",
       "      <td>1032053</td>\n",
       "      <td>6435</td>\n",
       "      <td>CINGVCWTV</td>\n",
       "      <td>polyprotein</td>\n",
       "      <td>Hepacivirus C</td>\n",
       "      <td>T cell</td>\n",
       "      <td>3468725, 3468748, 3468770, 3468771</td>\n",
       "      <td>NS3-1073</td>\n",
       "      <td>...</td>\n",
       "      <td>None</td>\n",
       "      <td>None</td>\n",
       "      <td>None</td>\n",
       "      <td>None</td>\n",
       "      <td>None</td>\n",
       "      <td>None</td>\n",
       "      <td>None</td>\n",
       "      <td>None</td>\n",
       "      <td>None</td>\n",
       "      <td>None</td>\n",
       "    </tr>\n",
       "  </tbody>\n",
       "</table>\n",
       "<p>5 rows × 70 columns</p>\n",
       "</div>"
      ],
      "text/plain": [
       "   Group Receptor ID  Receptor ID  Reference ID  Epitope ID Description  \\\n",
       "0               8494           59       1013533       37257   LLFGYPVYV   \n",
       "1               8494           59       1017753      186691   LLFGFPVYV   \n",
       "2               8494           59       1017753       37257   LLFGYPVYV   \n",
       "3              18305           60       1016521       44920   NLVPMVATV   \n",
       "4               8500           66       1032053        6435   CINGVCWTV   \n",
       "\n",
       "                         Antigen                            Organism  \\\n",
       "0  transcriptional activator Tax  Human T-cell leukemia virus type I   \n",
       "1                           None                                None   \n",
       "2  transcriptional activator Tax  Human T-cell leukemia virus type I   \n",
       "3                           pp65             Human betaherpesvirus 5   \n",
       "4                    polyprotein                       Hepacivirus C   \n",
       "\n",
       "  Response Type                                    Assay IDs Reference Name  \\\n",
       "0        T cell  1775493, 1775496, 1779714, 1779715, 1779718             B7   \n",
       "1        T cell                             1975823, 1975824             B7   \n",
       "2        T cell                                      1975819             B7   \n",
       "3        T cell                             1678482, 1678554           RA14   \n",
       "4        T cell           3468725, 3468748, 3468770, 3468771       NS3-1073   \n",
       "\n",
       "   ... Chain 2 CDR1 Start Curated Chain 2 CDR1 End Curated  \\\n",
       "0  ...                       None                     None   \n",
       "1  ...                       None                     None   \n",
       "2  ...                       None                     None   \n",
       "3  ...                       None                     None   \n",
       "4  ...                       None                     None   \n",
       "\n",
       "  Chain 2 CDR1 Start Calculated Chain 2 CDR1 End Calculated  \\\n",
       "0                            27                          31   \n",
       "1                            27                          31   \n",
       "2                            27                          31   \n",
       "3                          None                        None   \n",
       "4                          None                        None   \n",
       "\n",
       "  Chain 2 CDR2 Curated Chain 2 CDR2 Calculated Chain 2 CDR2 Start Curated  \\\n",
       "0                 None                  SVGAGI                       None   \n",
       "1                 None                  SVGAGI                       None   \n",
       "2                 None                  SVGAGI                       None   \n",
       "3                 None                    None                       None   \n",
       "4                 None                    None                       None   \n",
       "\n",
       "  Chain 2 CDR2 End Curated Chain 2 CDR2 Start Calculated  \\\n",
       "0                     None                            49   \n",
       "1                     None                            49   \n",
       "2                     None                            49   \n",
       "3                     None                          None   \n",
       "4                     None                          None   \n",
       "\n",
       "  Chain 2 CDR2 End Calculated  \n",
       "0                          54  \n",
       "1                          54  \n",
       "2                          54  \n",
       "3                        None  \n",
       "4                        None  \n",
       "\n",
       "[5 rows x 70 columns]"
      ]
     },
     "execution_count": 5,
     "metadata": {},
     "output_type": "execute_result"
    }
   ],
   "source": [
    "cellranger_out = pd.read_csv(fn_iedb).fillna(value=\"None\")\n",
    "cellranger_out.head()"
   ]
  },
  {
   "cell_type": "markdown",
   "metadata": {},
   "source": [
    "## Heads of VDJDB raw files:"
   ]
  },
  {
   "cell_type": "code",
   "execution_count": 9,
   "metadata": {},
   "outputs": [
    {
     "data": {
      "text/html": [
       "<div>\n",
       "<style scoped>\n",
       "    .dataframe tbody tr th:only-of-type {\n",
       "        vertical-align: middle;\n",
       "    }\n",
       "\n",
       "    .dataframe tbody tr th {\n",
       "        vertical-align: top;\n",
       "    }\n",
       "\n",
       "    .dataframe thead th {\n",
       "        text-align: right;\n",
       "    }\n",
       "</style>\n",
       "<table border=\"1\" class=\"dataframe\">\n",
       "  <thead>\n",
       "    <tr style=\"text-align: right;\">\n",
       "      <th></th>\n",
       "      <th>complex.id</th>\n",
       "      <th>Gene</th>\n",
       "      <th>CDR3</th>\n",
       "      <th>V</th>\n",
       "      <th>J</th>\n",
       "      <th>Species</th>\n",
       "      <th>MHC A</th>\n",
       "      <th>MHC B</th>\n",
       "      <th>MHC class</th>\n",
       "      <th>Epitope</th>\n",
       "      <th>Epitope gene</th>\n",
       "      <th>Epitope species</th>\n",
       "      <th>Reference</th>\n",
       "      <th>Method</th>\n",
       "      <th>Meta</th>\n",
       "      <th>CDR3fix</th>\n",
       "      <th>Score</th>\n",
       "    </tr>\n",
       "  </thead>\n",
       "  <tbody>\n",
       "    <tr>\n",
       "      <th>0</th>\n",
       "      <td>0</td>\n",
       "      <td>TRB</td>\n",
       "      <td>CASSSGQLTNTEAFF</td>\n",
       "      <td>TRBV9*01</td>\n",
       "      <td>TRBJ1-1*01</td>\n",
       "      <td>HomoSapiens</td>\n",
       "      <td>HLA-A*02:01</td>\n",
       "      <td>B2M</td>\n",
       "      <td>MHCI</td>\n",
       "      <td>GLCTLVAML</td>\n",
       "      <td>BMLF1</td>\n",
       "      <td>EBV</td>\n",
       "      <td>PMID:12504586</td>\n",
       "      <td>{\"frequency\": \"17/52\", \"identification\": \"anti...</td>\n",
       "      <td>{\"cell.subset\": \"CD8\", \"clone.id\": \"\", \"donor....</td>\n",
       "      <td>{\"cdr3\": \"CASSSGQLTNTEAFF\", \"cdr3_old\": \"CASSS...</td>\n",
       "      <td>1</td>\n",
       "    </tr>\n",
       "    <tr>\n",
       "      <th>1</th>\n",
       "      <td>0</td>\n",
       "      <td>TRB</td>\n",
       "      <td>CASSASARPEQFF</td>\n",
       "      <td>TRBV9*01</td>\n",
       "      <td>TRBJ2-1*01</td>\n",
       "      <td>HomoSapiens</td>\n",
       "      <td>HLA-A*02:01</td>\n",
       "      <td>B2M</td>\n",
       "      <td>MHCI</td>\n",
       "      <td>GLCTLVAML</td>\n",
       "      <td>BMLF1</td>\n",
       "      <td>EBV</td>\n",
       "      <td>PMID:12504586</td>\n",
       "      <td>{\"frequency\": \"4/52\", \"identification\": \"antig...</td>\n",
       "      <td>{\"cell.subset\": \"CD8\", \"clone.id\": \"\", \"donor....</td>\n",
       "      <td>{\"cdr3\": \"CASSASARPEQFF\", \"cdr3_old\": \"CASSASA...</td>\n",
       "      <td>0</td>\n",
       "    </tr>\n",
       "    <tr>\n",
       "      <th>2</th>\n",
       "      <td>0</td>\n",
       "      <td>TRB</td>\n",
       "      <td>CASSSGLLTADEQFF</td>\n",
       "      <td>TRBV9*01</td>\n",
       "      <td>TRBJ2-1*01</td>\n",
       "      <td>HomoSapiens</td>\n",
       "      <td>HLA-A*02:01</td>\n",
       "      <td>B2M</td>\n",
       "      <td>MHCI</td>\n",
       "      <td>GLCTLVAML</td>\n",
       "      <td>BMLF1</td>\n",
       "      <td>EBV</td>\n",
       "      <td>PMID:12504586</td>\n",
       "      <td>{\"frequency\": \"3/58\", \"identification\": \"antig...</td>\n",
       "      <td>{\"cell.subset\": \"CD8\", \"clone.id\": \"\", \"donor....</td>\n",
       "      <td>{\"cdr3\": \"CASSSGLLTADEQFF\", \"cdr3_old\": \"CASSS...</td>\n",
       "      <td>0</td>\n",
       "    </tr>\n",
       "    <tr>\n",
       "      <th>3</th>\n",
       "      <td>0</td>\n",
       "      <td>TRB</td>\n",
       "      <td>CASSSGQVSNTGELFF</td>\n",
       "      <td>TRBV9*01</td>\n",
       "      <td>TRBJ2-2*01</td>\n",
       "      <td>HomoSapiens</td>\n",
       "      <td>HLA-A*02:01</td>\n",
       "      <td>B2M</td>\n",
       "      <td>MHCI</td>\n",
       "      <td>GLCTLVAML</td>\n",
       "      <td>BMLF1</td>\n",
       "      <td>EBV</td>\n",
       "      <td>PMID:12504586</td>\n",
       "      <td>{\"frequency\": \"9/58\", \"identification\": \"antig...</td>\n",
       "      <td>{\"cell.subset\": \"CD8\", \"clone.id\": \"\", \"donor....</td>\n",
       "      <td>{\"cdr3\": \"CASSSGQVSNTGELFF\", \"cdr3_old\": \"CASS...</td>\n",
       "      <td>0</td>\n",
       "    </tr>\n",
       "    <tr>\n",
       "      <th>4</th>\n",
       "      <td>0</td>\n",
       "      <td>TRB</td>\n",
       "      <td>CSARDRTGNGYTF</td>\n",
       "      <td>TRBV20-1*01</td>\n",
       "      <td>TRBJ1-2*01</td>\n",
       "      <td>HomoSapiens</td>\n",
       "      <td>HLA-A*02:01</td>\n",
       "      <td>B2M</td>\n",
       "      <td>MHCI</td>\n",
       "      <td>GLCTLVAML</td>\n",
       "      <td>BMLF1</td>\n",
       "      <td>EBV</td>\n",
       "      <td>PMID:12504586</td>\n",
       "      <td>{\"frequency\": \"4/52\", \"identification\": \"antig...</td>\n",
       "      <td>{\"cell.subset\": \"CD8\", \"clone.id\": \"\", \"donor....</td>\n",
       "      <td>{\"cdr3\": \"CSARDRTGNGYTF\", \"cdr3_old\": \"CSARDRT...</td>\n",
       "      <td>2</td>\n",
       "    </tr>\n",
       "  </tbody>\n",
       "</table>\n",
       "</div>"
      ],
      "text/plain": [
       "   complex.id Gene              CDR3            V           J      Species  \\\n",
       "0           0  TRB   CASSSGQLTNTEAFF     TRBV9*01  TRBJ1-1*01  HomoSapiens   \n",
       "1           0  TRB     CASSASARPEQFF     TRBV9*01  TRBJ2-1*01  HomoSapiens   \n",
       "2           0  TRB   CASSSGLLTADEQFF     TRBV9*01  TRBJ2-1*01  HomoSapiens   \n",
       "3           0  TRB  CASSSGQVSNTGELFF     TRBV9*01  TRBJ2-2*01  HomoSapiens   \n",
       "4           0  TRB     CSARDRTGNGYTF  TRBV20-1*01  TRBJ1-2*01  HomoSapiens   \n",
       "\n",
       "         MHC A MHC B MHC class    Epitope Epitope gene Epitope species  \\\n",
       "0  HLA-A*02:01   B2M      MHCI  GLCTLVAML        BMLF1             EBV   \n",
       "1  HLA-A*02:01   B2M      MHCI  GLCTLVAML        BMLF1             EBV   \n",
       "2  HLA-A*02:01   B2M      MHCI  GLCTLVAML        BMLF1             EBV   \n",
       "3  HLA-A*02:01   B2M      MHCI  GLCTLVAML        BMLF1             EBV   \n",
       "4  HLA-A*02:01   B2M      MHCI  GLCTLVAML        BMLF1             EBV   \n",
       "\n",
       "       Reference                                             Method  \\\n",
       "0  PMID:12504586  {\"frequency\": \"17/52\", \"identification\": \"anti...   \n",
       "1  PMID:12504586  {\"frequency\": \"4/52\", \"identification\": \"antig...   \n",
       "2  PMID:12504586  {\"frequency\": \"3/58\", \"identification\": \"antig...   \n",
       "3  PMID:12504586  {\"frequency\": \"9/58\", \"identification\": \"antig...   \n",
       "4  PMID:12504586  {\"frequency\": \"4/52\", \"identification\": \"antig...   \n",
       "\n",
       "                                                Meta  \\\n",
       "0  {\"cell.subset\": \"CD8\", \"clone.id\": \"\", \"donor....   \n",
       "1  {\"cell.subset\": \"CD8\", \"clone.id\": \"\", \"donor....   \n",
       "2  {\"cell.subset\": \"CD8\", \"clone.id\": \"\", \"donor....   \n",
       "3  {\"cell.subset\": \"CD8\", \"clone.id\": \"\", \"donor....   \n",
       "4  {\"cell.subset\": \"CD8\", \"clone.id\": \"\", \"donor....   \n",
       "\n",
       "                                             CDR3fix  Score  \n",
       "0  {\"cdr3\": \"CASSSGQLTNTEAFF\", \"cdr3_old\": \"CASSS...      1  \n",
       "1  {\"cdr3\": \"CASSASARPEQFF\", \"cdr3_old\": \"CASSASA...      0  \n",
       "2  {\"cdr3\": \"CASSSGLLTADEQFF\", \"cdr3_old\": \"CASSS...      0  \n",
       "3  {\"cdr3\": \"CASSSGQVSNTGELFF\", \"cdr3_old\": \"CASS...      0  \n",
       "4  {\"cdr3\": \"CSARDRTGNGYTF\", \"cdr3_old\": \"CSARDRT...      2  "
      ]
     },
     "execution_count": 9,
     "metadata": {},
     "output_type": "execute_result"
    }
   ],
   "source": [
    "cellranger_out = pd.read_table(fns_vdjdb[0]).fillna(value=\"None\") \n",
    "cellranger_out.head()"
   ]
  },
  {
   "cell_type": "markdown",
   "metadata": {},
   "source": [
    "## List of target antigens.\n",
    "We can only load observations that match the target antigen sequences"
   ]
  },
  {
   "cell_type": "code",
   "execution_count": 10,
   "metadata": {},
   "outputs": [],
   "source": [
    "iedb_categ_ids = [\n",
    "    \"GILGFVFTL\",\n",
    "    \"NLVPMVATV\",\n",
    "    \"GLCTLVAML\",\n",
    "    \"LLWNGPMAV\",\n",
    "    \"VLFGLGFAI\"\n",
    "]"
   ]
  },
  {
   "cell_type": "markdown",
   "metadata": {},
   "source": [
    "# Read data"
   ]
  },
  {
   "cell_type": "markdown",
   "metadata": {},
   "source": [
    "## Create model object. \n",
    "EstimatorBinary object includes all of reading, training and testing modules."
   ]
  },
  {
   "cell_type": "code",
   "execution_count": 11,
   "metadata": {},
   "outputs": [],
   "source": [
    "ffn = tm.models.EstimatorBinary()"
   ]
  },
  {
   "cell_type": "markdown",
   "metadata": {},
   "source": [
    "## Read IEDB raw files, taking out TCR CDR3 and antigen pairs  as training data\n",
    "\n",
    "We encode the TCR CDR3 amino acid sequences (include TRA and TRB) and antigens with one-hot encoding, the embedded sequences are of shape [num_samples, tra/trb, max_sequence_length, aa_onehot_dim]. For example if we take out 4000 TRB sequences seperately, the maximal length of sequences is 30 and we have 22 amino acids, the shape of output would be [4000, 1, 30, 26]. "
   ]
  },
  {
   "cell_type": "code",
   "execution_count": 12,
   "metadata": {},
   "outputs": [
    {
     "name": "stderr",
     "output_type": "stream",
     "text": [
      "/anaconda3/lib/python3.6/site-packages/IPython/core/interactiveshell.py:2910: DtypeWarning: Columns (10,12,15,16,17,19,20,21,22,23,24,29,30,35,36,50,51,53,58,59,64,65) have mixed types. Specify dtype option on import or set low_memory=False.\n",
      "  exec(code_obj, self.user_global_ns, self.user_ns)\n"
     ]
    },
    {
     "name": "stdout",
     "output_type": "stream",
     "text": [
      "Found 87 CDR3 observations with unkown amino acids out of 13478.\n",
      "Found 0 antigen observations with unkown amino acids out of 13478.\n",
      "Found 87 CDR3+antigen observations with unkown amino acids out of 13478, leaving 13391 observations.\n",
      "Assembled 13391 single-chain observations into 13391 multiple chain observations.\n",
      "Found 12778 observations that match target antigen sequences out of 13391.\n",
      "Found 12778 observations and assigned to train data.\n"
     ]
    }
   ],
   "source": [
    "ffn.read_iedb(\n",
    "    fns=fn_iedb,\n",
    "    fn_blosum=None,\n",
    "    antigen_ids=iedb_categ_ids,\n",
    "    blosum_encoding=False,\n",
    "    is_train=True,\n",
    "    chains=\"trb\"\n",
    ")\n"
   ]
  },
  {
   "cell_type": "markdown",
   "metadata": {},
   "source": [
    "# Process data"
   ]
  },
  {
   "cell_type": "markdown",
   "metadata": {},
   "source": [
    "## Create training datasets\n",
    "The input consists of TCR CDR3 sequences and antigens we concatenate them along the third dimension, this is equal to concatenate CDR3 and antigens amino acid sequences before one-hot encoding. We don't need covariates here, so the values of covariates_train are all zero. The target set would be a boolean vector which shows the binding between TCR CDR3 and antigens."
   ]
  },
  {
   "cell_type": "code",
   "execution_count": 14,
   "metadata": {},
   "outputs": [
    {
     "name": "stdout",
     "output_type": "stream",
     "text": [
      "Shape of TCR sequences:  (12778, 1, 47, 26)\n",
      "Shape of covariates:  (12778, 1)\n",
      "Shape of target set:  (12778, 1)\n"
     ]
    }
   ],
   "source": [
    "print(\"Shape of (CDR3,antigen) sequences: \",ffn.x_train.shape)\n",
    "# print(\"The head of TCR sequences: \",ffn.x_train[0])\n",
    "print(\"Shape of covariates: \",ffn.covariates_train.shape)\n",
    "# print(\"The head of covariates: \",ffn.covariates_train[0:5])\n",
    "print(\"Shape of target set: \",ffn.y_train.shape)\n",
    "# print(\"The head of target set: \",ffn.y_train[0:5])"
   ]
  },
  {
   "cell_type": "markdown",
   "metadata": {},
   "source": [
    "## Assign clonotype by Manhatten distance"
   ]
  },
  {
   "cell_type": "code",
   "execution_count": 15,
   "metadata": {},
   "outputs": [
    {
     "name": "stdout",
     "output_type": "stream",
     "text": [
      "Found 10291 clonotypes for 12778 observations.\n"
     ]
    }
   ],
   "source": [
    "ffn.assign_clonotype(flavor=\"manhatten\")"
   ]
  },
  {
   "cell_type": "markdown",
   "metadata": {},
   "source": [
    "## Downsample clonotypes to data stored in x_train\n",
    "This avoids training, evaluation or test set to be too biased to a subset of TCRs."
   ]
  },
  {
   "cell_type": "code",
   "execution_count": 16,
   "metadata": {},
   "outputs": [
    {
     "name": "stdout",
     "output_type": "stream",
     "text": [
      "Downsampled 10291 clonotypes from 12778 cells to 11878 cells.\n"
     ]
    }
   ],
   "source": [
    "#max_obs: Maximum number of observations per clonotype.\n",
    "ffn.downsample_clonotype(max_obs=10)"
   ]
  },
  {
   "cell_type": "code",
   "execution_count": 19,
   "metadata": {},
   "outputs": [
    {
     "name": "stdout",
     "output_type": "stream",
     "text": [
      "Shape of TCR sequences:  (23756, 1, 47, 26)\n"
     ]
    }
   ],
   "source": [
    "print(\"Shape of (CDR3,antigen) sequences: \",ffn.x_train.shape)"
   ]
  },
  {
   "cell_type": "markdown",
   "metadata": {},
   "source": [
    "## Create negative (CDR3, antigen) pairs\n",
    "Since the pairs we get from IEDB dataset are all positive pairs, we need to sample negative pairs in order to keep the positive/negative rate as 50%/50%"
   ]
  },
  {
   "cell_type": "code",
   "execution_count": 18,
   "metadata": {},
   "outputs": [
    {
     "name": "stdout",
     "output_type": "stream",
     "text": [
      "Generated 11878 negative samples in train data, yielding 23756 total observations.\n"
     ]
    }
   ],
   "source": [
    "ffn.sample_negative_data(is_train=True)"
   ]
  },
  {
   "cell_type": "code",
   "execution_count": 20,
   "metadata": {},
   "outputs": [
    {
     "name": "stdout",
     "output_type": "stream",
     "text": [
      "Shape of TCR sequences:  (23756, 1, 47, 26)\n"
     ]
    }
   ],
   "source": [
    "print(\"Shape of (CDR3,antigen) sequences: \",ffn.x_train.shape)"
   ]
  },
  {
   "cell_type": "code",
   "execution_count": 26,
   "metadata": {},
   "outputs": [],
   "source": [
    "# Padding zeros to tcr sequences in both training and testing set to make sure they have same size.\n",
    "ffn.pad_sequence(target_len=40, sequence=\"tcr\")\n",
    "ffn.pad_sequence(target_len=25, sequence=\"antigen\")"
   ]
  },
  {
   "cell_type": "markdown",
   "metadata": {},
   "source": [
    "## Create test dataset\n",
    "We can either split a part of training set or use a new database as the test set. Here we use VDJDB dataset as test set."
   ]
  },
  {
   "cell_type": "code",
   "execution_count": 35,
   "metadata": {},
   "outputs": [
    {
     "name": "stdout",
     "output_type": "stream",
     "text": [
      "Found 0 CDR3 observations with unkown amino acids out of 3964.\n",
      "Found 0 antigen observations with unkown amino acids out of 3964.\n",
      "Found 0 CDR3+antigen observations with unkown amino acids out of 3964, leaving 3964 observations.\n",
      "Assembled 3964 single-chain observations into 1422 multiple chain observations.\n",
      "Found 1422 observations and assigned to test data.\n",
      "Reduced 1422 cells to 142 cells in test data because of antigen overlap.\n",
      "Found 119 clonotypes for 142 observations.\n",
      "Downsampled 119 clonotypes from 142 cells to 142 cells.\n",
      "Generated 142 negative samples in test data, yielding 284 total observations.\n"
     ]
    }
   ],
   "source": [
    "#Clear test set.\n",
    "ffn.clear_test_data()\n",
    "ffn.read_vdjdb(\n",
    "    fns=fns_vdjdb,\n",
    "    fn_blosum=None,\n",
    "    blosum_encoding=False,\n",
    "    is_train=False,\n",
    "    chains=\"trb\"\n",
    ")\n",
    "ffn.remove_overlapping_antigens(data=\"test\")\n",
    "#Assign clonotype by Manhatten distance.\n",
    "ffn.assign_clonotype(flavor=\"manhatten\", data=\"test\")\n",
    "#Downsample clonotypes to data stored in x_test.\n",
    "ffn.downsample_clonotype(max_obs=10, data=\"test\")\n",
    "# Sample negative binding pairs for training.\n",
    "ffn.sample_negative_data(is_train=False)"
   ]
  },
  {
   "cell_type": "code",
   "execution_count": 39,
   "metadata": {},
   "outputs": [
    {
     "name": "stdout",
     "output_type": "stream",
     "text": [
      "Shape of (CDR3,antigen) sequences for training:  (200, 1, 65, 26)\n",
      "Shape of target set for training:  (200, 1)\n",
      "Shape of (CDR3,antigen) sequences for test:  (200, 1, 65, 26)\n",
      "Shape of target set for test:  (200, 1)\n"
     ]
    }
   ],
   "source": [
    "print(\"Shape of (CDR3,antigen) sequences for training: \",ffn.x_train.shape)\n",
    "print(\"Shape of target set for training: \",ffn.y_train.shape)\n",
    "print(\"Shape of (CDR3,antigen) sequences for test: \",ffn.x_test.shape)\n",
    "print(\"Shape of target set for test: \",ffn.y_test.shape)"
   ]
  },
  {
   "cell_type": "markdown",
   "metadata": {},
   "source": [
    "## Downsample data to given number of observations\n",
    "In order to save time we sample a small dataset for training. Never use this method in practice. "
   ]
  },
  {
   "cell_type": "code",
   "execution_count": 37,
   "metadata": {},
   "outputs": [
    {
     "name": "stdout",
     "output_type": "stream",
     "text": [
      "Downsampled train data from 23756 cells to 200 cells.\n",
      "Downsampled test data from 284 cells to 200 cells.\n"
     ]
    }
   ],
   "source": [
    "ffn.downsample_data(n=200, data=\"train\")\n",
    "ffn.downsample_data(n=200, data=\"test\")"
   ]
  },
  {
   "cell_type": "code",
   "execution_count": 38,
   "metadata": {},
   "outputs": [
    {
     "name": "stdout",
     "output_type": "stream",
     "text": [
      "Shape of TCR CDR3 sequences for training:  (200, 1, 65, 26)\n",
      "Shape of TCR CDR3 sequences for test:  (200, 1, 65, 26)\n"
     ]
    }
   ],
   "source": [
    "print(\"Shape of TCR CDR3 sequences for training: \",ffn.x_train.shape)\n",
    "print(\"Shape of TCR CDR3 sequences for test: \",ffn.x_test.shape)"
   ]
  },
  {
   "cell_type": "markdown",
   "metadata": {},
   "source": [
    "# Build a attention-based feed forward model"
   ]
  },
  {
   "cell_type": "code",
   "execution_count": 40,
   "metadata": {},
   "outputs": [
    {
     "name": "stdout",
     "output_type": "stream",
     "text": [
      "WARNING:tensorflow:From /anaconda3/lib/python3.6/site-packages/tensorflow/python/ops/resource_variable_ops.py:435: colocate_with (from tensorflow.python.framework.ops) is deprecated and will be removed in a future version.\n",
      "Instructions for updating:\n",
      "Colocations handled automatically by placer.\n"
     ]
    }
   ],
   "source": [
    "ffn.build_self_attention(\n",
    "    residual_connection=True,\n",
    "    aa_embedding_dim=0,\n",
    "    attention_size=[5, 5],\n",
    "    attention_heads=[4, 4],\n",
    "    optimizer='adam',\n",
    "    lr=0.001,\n",
    "    loss='bce',\n",
    "    label_smoothing=0\n",
    ")"
   ]
  },
  {
   "cell_type": "markdown",
   "metadata": {},
   "source": [
    "# Train model\n",
    "Train this model for 1 epoch       "
   ]
  },
  {
   "cell_type": "code",
   "execution_count": 41,
   "metadata": {
    "scrolled": true
   },
   "outputs": [
    {
     "name": "stdout",
     "output_type": "stream",
     "text": [
      "Number of observations in evaluation data: 21\n",
      "Number of observations in training data: 179\n",
      "\n",
      "WARNING: The TensorFlow contrib module will not be included in TensorFlow 2.0.\n",
      "For more information, please see:\n",
      "  * https://github.com/tensorflow/community/blob/master/rfcs/20180907-contrib-sunset.md\n",
      "  * https://github.com/tensorflow/addons\n",
      "If you depend on functionality not listed there, please file an issue.\n",
      "\n",
      "WARNING:tensorflow:From /anaconda3/lib/python3.6/site-packages/tensorflow/python/keras/utils/losses_utils.py:170: to_float (from tensorflow.python.ops.math_ops) is deprecated and will be removed in a future version.\n",
      "Instructions for updating:\n",
      "Use tf.cast instead.\n",
      "WARNING:tensorflow:From /anaconda3/lib/python3.6/site-packages/tensorflow/python/ops/math_ops.py:3066: to_int32 (from tensorflow.python.ops.math_ops) is deprecated and will be removed in a future version.\n",
      "Instructions for updating:\n",
      "Use tf.cast instead.\n"
     ]
    }
   ],
   "source": [
    " ffn.train(\n",
    "    epochs=1,\n",
    "    steps_per_epoch=1,\n",
    "    batch_size=8\n",
    "    )"
   ]
  },
  {
   "cell_type": "markdown",
   "metadata": {},
   "source": [
    "# Use model"
   ]
  },
  {
   "cell_type": "markdown",
   "metadata": {},
   "source": [
    "## Evaluate on test set."
   ]
  },
  {
   "cell_type": "code",
   "execution_count": 42,
   "metadata": {
    "scrolled": true
   },
   "outputs": [
    {
     "name": "stdout",
     "output_type": "stream",
     "text": [
      "200/200 [==============================] - 1s 7ms/sample - loss: 0.9598 - binary_accuracy: 0.5050 - precision: 0.5050 - recall: 1.0000 - f1: 0.6711\n"
     ]
    }
   ],
   "source": [
    "ffn.evaluate()"
   ]
  },
  {
   "cell_type": "markdown",
   "metadata": {},
   "source": [
    "## Save the model."
   ]
  },
  {
   "cell_type": "code",
   "execution_count": 43,
   "metadata": {},
   "outputs": [],
   "source": [
    "os.mkdir('temp_iedb')\n",
    "fn_tmp = 'temp_iedb/temp'\n",
    "ffn.save_model(fn_tmp)"
   ]
  },
  {
   "cell_type": "markdown",
   "metadata": {},
   "source": [
    "## Print model summary."
   ]
  },
  {
   "cell_type": "code",
   "execution_count": 44,
   "metadata": {},
   "outputs": [
    {
     "name": "stdout",
     "output_type": "stream",
     "text": [
      "_________________________________________________________________\n",
      "Layer (type)                 Output Shape              Param #   \n",
      "=================================================================\n",
      "aa_embedding (LayerAaEmbeddi multiple                  702       \n",
      "_________________________________________________________________\n",
      "layer_self_attention (LayerS multiple                  3120      \n",
      "_________________________________________________________________\n",
      "layer_self_attention_1 (Laye multiple                  3120      \n",
      "_________________________________________________________________\n",
      "dense (Dense)                multiple                  1692      \n",
      "=================================================================\n",
      "Total params: 8,634\n",
      "Trainable params: 8,634\n",
      "Non-trainable params: 0\n",
      "_________________________________________________________________\n",
      "None\n"
     ]
    }
   ],
   "source": [
    "print(ffn.model.summary())"
   ]
  },
  {
   "cell_type": "markdown",
   "metadata": {},
   "source": [
    "## Reproduce evaluation in a new instance of model that receives same weights."
   ]
  },
  {
   "cell_type": "code",
   "execution_count": 45,
   "metadata": {},
   "outputs": [
    {
     "name": "stdout",
     "output_type": "stream",
     "text": [
      "Number of observations in evaluation data: 20\n",
      "Number of observations in training data: 180\n",
      "200/200 [==============================] - 1s 7ms/sample - loss: 0.9598 - binary_accuracy: 0.5050 - precision_1: 0.5050 - recall_1: 1.0000 - f1: 0.6711\n"
     ]
    }
   ],
   "source": [
    "ffn2 = tm.models.EstimatorFfn()\n",
    "ffn2.load_model(fn_tmp)\n",
    "ffn2.evaluate()\n",
    "ffn2.predict()"
   ]
  }
 ],
 "metadata": {
  "kernelspec": {
   "display_name": "Python 3 (ipykernel)",
   "language": "python",
   "name": "python3"
  },
  "language_info": {
   "codemirror_mode": {
    "name": "ipython",
    "version": 3
   },
   "file_extension": ".py",
   "mimetype": "text/x-python",
   "name": "python",
   "nbconvert_exporter": "python",
   "pygments_lexer": "ipython3",
   "version": "3.11.3"
  },
  "toc": {
   "base_numbering": 1,
   "nav_menu": {},
   "number_sections": true,
   "sideBar": true,
   "skip_h1_title": false,
   "title_cell": "Table of Contents",
   "title_sidebar": "Contents",
   "toc_cell": false,
   "toc_position": {},
   "toc_section_display": true,
   "toc_window_display": true
  }
 },
 "nbformat": 4,
 "nbformat_minor": 4
}
