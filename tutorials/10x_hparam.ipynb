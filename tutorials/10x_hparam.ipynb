{
 "cells": [
  {
   "cell_type": "markdown",
   "id": "9af24413",
   "metadata": {},
   "source": [
    "# Hyperparameter Search\n",
    "This notebook is an implementation of ``10x_dataset_training.ipynb`` with hyperparameter search. The hyperparameter search is done using Weights and Biases (wandb) and performed with the sweep method, a grid search with random sampling. The hyperparameters are:\n",
    "- ``learning_rate``: The learning rate of the optimizer.\n",
    "- ``num_specific_layers``: The number of model-specific layers (i.e., self-attention layers, convolutional layers, etc.).\n",
    "- ``aa_embedding_dim``: The dimension of the amino acid embedding.\n",
    "- ``depth_final_dense``: The number of linear layers in the network.\n",
    "- ``model_name``: The model to use. Either ``bilstm``, ``self_attention``, ``cnn``, or ``bigru``. See the ``README.md`` for more details about the implementations of these architectures. "
   ]
  },
  {
   "cell_type": "code",
   "execution_count": 1,
   "id": "208b6333-9bc2-4057-b0af-180fdd582e7a",
   "metadata": {},
   "outputs": [],
   "source": [
    "import pandas as pd\n",
    "import tcellmatch.api as tm\n",
    "from sklearn.metrics import confusion_matrix\n",
    "import matplotlib.pyplot as plt\n",
    "import seaborn as sns\n",
    "from pytorch_model_summary import summary\n",
    "from torchmetrics import Accuracy\n",
    "import torch\n",
    "import os\n",
    "import numpy as np\n",
    "import wandb"
   ]
  },
  {
   "cell_type": "markdown",
   "id": "86f2078a-fc09-4550-b3c7-14602257e274",
   "metadata": {},
   "source": [
    "# Load Data"
   ]
  },
  {
   "cell_type": "code",
   "execution_count": 2,
   "id": "284466c4-5f02-4011-b17b-24b6e800bdc0",
   "metadata": {},
   "outputs": [],
   "source": [
    "def load_model():\n",
    "    print('loading model...')\n",
    "    ffn = tm.models.EstimatorFfn()\n",
    "    indir = '../tutorial_data/'\n",
    "    data = np.load(f\"{indir}ffn_data_continuous_15k.npz\")\n",
    "    ffn.x_train = data[\"x_train\"]\n",
    "    ffn.covariates_train = data[\"covariates_train\"]\n",
    "    ffn.y_train = data[\"y_train\"]\n",
    "    ffn.x_test = data[\"x_test\"]\n",
    "    ffn.covariates_test = data[\"covariates_test\"]\n",
    "    ffn.y_test = data[\"y_test\"]\n",
    "    ffn.clone_train = data[\"clone_train\"]\n",
    "    ffn.load_idx(f'{indir}SAVED_IDX')\n",
    "    sums_across_last_dim = np.sum(ffn.x_train, axis=-1)\n",
    "\n",
    "    # Find rows which are not \"zero-hot\"\n",
    "    non_zero_hot_rows = np.any(sums_across_last_dim > 0, axis=-1)\n",
    "\n",
    "    ffn.x_train = ffn.x_train[non_zero_hot_rows]\n",
    "    ffn.x_train = ffn.x_train[:, np.newaxis, :]\n",
    "    return ffn"
   ]
  },
  {
   "cell_type": "code",
   "execution_count": 3,
   "id": "8aabdc3c",
   "metadata": {},
   "outputs": [],
   "source": [
    "# ffn = load_model()\n",
    "# print(ffn.x_train.shape, ffn.y_train.shape, ffn.covariates_train.shape)\n",
    "# attention_size = [128] * 1\n",
    "# attention_heads = [16] * 1\n",
    "# print(attention_size, attention_heads)\n",
    "# ffn.build_self_attention(\n",
    "#     residual_connection=True,\n",
    "#     aa_embedding_dim=0,\n",
    "#     attention_size=attention_size,\n",
    "#     use_covariates=False,\n",
    "#     attention_heads=attention_heads,\n",
    "#     depth_final_dense=1,\n",
    "#     optimizer='adam',\n",
    "#     lr=0.001,\n",
    "#     loss='pois',\n",
    "#     label_smoothing=0\n",
    "# )\n",
    "# EPOCHS = 2\n",
    "# batch_size = 100000\n",
    "# train_curve, val_curve, antigen_loss, antigen_loss_val = ffn.train(\n",
    "#     epochs=EPOCHS,\n",
    "#     batch_size=batch_size,\n",
    "#     log_dir='training_runs',\n",
    "#     allow_early_stopping=False,\n",
    "#     print_loss=True,\n",
    "#     lr_schedule_factor=0.99999,\n",
    "#     use_wandb=False\n",
    "# )"
   ]
  },
  {
   "cell_type": "markdown",
   "id": "2ca0e86d",
   "metadata": {},
   "source": [
    "### Add WandB Search"
   ]
  },
  {
   "cell_type": "code",
   "execution_count": 4,
   "id": "f669bd9c",
   "metadata": {},
   "outputs": [],
   "source": [
    "sweep_config = {\n",
    "   'method': 'grid',  # can be random, grid, bayes\n",
    "   'parameters': {\n",
    "       'lr': {  # learning rate\n",
    "           'values': [0.001, 0.005, 0.01, 0.1]\n",
    "       },\n",
    "       'aa_embedding_dim': {\n",
    "           'values': [0, 10, 26]\n",
    "       },\n",
    "       'depth_final_dense': {\n",
    "           'values': [1, 2, 3, 5, 9]\n",
    "       },\n",
    "       'model_name': {\n",
    "           'values': ['self-attention', 'bilstm', 'bigru', 'cnn']\n",
    "       },\n",
    "       # i.e., bilstm depth, SA depth, conv depth\n",
    "       'specific_layer_depth': {\n",
    "            'values': [1, 2, 3, 4, 5]\n",
    "       }\n",
    "   }\n",
    "}"
   ]
  },
  {
   "cell_type": "code",
   "execution_count": 5,
   "id": "fbf54108-744e-4e54-83e6-68cfa9bd3798",
   "metadata": {},
   "outputs": [],
   "source": [
    "def train():\n",
    "    # Initialize wandb with a sample project name\n",
    "    wandb.init(project=\"TCR fitting\")\n",
    "\n",
    "    config = wandb.config\n",
    "   \n",
    "    # replace your hard-coded hyperparameters with config values\n",
    "    model_name = config.model_name\n",
    "    lr = config.lr\n",
    "    aa_embedding_dim = config.aa_embedding_dim\n",
    "    depth_final_dense = config.depth_final_dense\n",
    "    ffn = load_model()\n",
    "    print(ffn.x_train.shape, ffn.y_train.shape, ffn.covariates_train.shape)\n",
    "    if model_name.lower() == 'self-attention':\n",
    "        attention_size = [128] * config.specific_layer_depth\n",
    "        attention_heads = [16] * config.specific_layer_depth\n",
    "        print(attention_size, attention_heads)\n",
    "        ffn.build_self_attention(\n",
    "            aa_embedding_dim=aa_embedding_dim,\n",
    "            attention_size=attention_size,\n",
    "            use_covariates=False,\n",
    "            attention_heads=attention_heads,\n",
    "            depth_final_dense=depth_final_dense,\n",
    "            optimizer='adam',\n",
    "            lr=lr,\n",
    "            loss='pois',\n",
    "            label_smoothing=0\n",
    "        )\n",
    "        print('built')\n",
    "    \n",
    "    elif model_name.lower() == 'bilstm':\n",
    "        topology = [32] * config.specific_layer_depth\n",
    "        ffn.build_bilstm(\n",
    "            topology=topology,\n",
    "            aa_embedding_dim=aa_embedding_dim,\n",
    "            optimizer='adam',\n",
    "            lr=lr,\n",
    "            loss='pois',\n",
    "            label_smoothing=0,\n",
    "            depth_final_dense=depth_final_dense,\n",
    "            use_covariates=False,\n",
    "            one_hot_y=False,\n",
    "        )\n",
    "        print('built')\n",
    "\n",
    "    elif model_name.lower() == 'bigru':\n",
    "        topology= [10] * config.specific_layer_depth\n",
    "        ffn.build_bigru(\n",
    "            aa_embedding_dim=aa_embedding_dim,\n",
    "            lr=lr,\n",
    "            loss='pois',\n",
    "        )\n",
    "        print('built')\n",
    "\n",
    "    elif model_name.lower() == 'cnn':\n",
    "        n_conv_layers = config.specific_layer_depth\n",
    "        # filter_widths = [3, 5, 3] \n",
    "        # filters = [16, 32, 64]\n",
    "        pool_sizes = [2] * n_conv_layers\n",
    "        pool_strides = [2] * n_conv_layers\n",
    "        ffn.build_conv(\n",
    "            n_conv_layers=n_conv_layers,\n",
    "            depth_final_dense=depth_final_dense,\n",
    "            # filter_widths=filter_widths,\n",
    "            # filters=filters,\n",
    "            pool_sizes=pool_sizes,\n",
    "            pool_strides=pool_strides,\n",
    "            loss='pois',\n",
    "        )\n",
    "        print('built')\n",
    "\n",
    "    # Training model\n",
    "    EPOCHS = 2\n",
    "    batch_size = 16\n",
    "    print('ak to train')\n",
    "    train_curve, val_curve, antigen_loss, antigen_loss_val = ffn.train(\n",
    "        epochs=EPOCHS,\n",
    "        batch_size=batch_size,\n",
    "        log_dir='training_runs',\n",
    "        allow_early_stopping=False,\n",
    "        print_loss=False,\n",
    "        lr_schedule_factor=0.99999,\n",
    "        use_wandb=True\n",
    "    )\n",
    "    # Log metrics with wandb\n",
    "    wandb.log({'Train Loss': train_curve[-1], 'Validation Loss': val_curve[-1]})"
   ]
  },
  {
   "cell_type": "code",
   "execution_count": 6,
   "id": "f4b348bb",
   "metadata": {},
   "outputs": [
    {
     "name": "stdout",
     "output_type": "stream",
     "text": [
      "Create sweep with ID: 9cv1tfh4\n",
      "Sweep URL: https://wandb.ai/jmboesen/uncategorized/sweeps/9cv1tfh4\n"
     ]
    }
   ],
   "source": [
    "sweep_id = wandb.sweep(sweep_config)"
   ]
  },
  {
   "cell_type": "code",
   "execution_count": null,
   "id": "20d95c99",
   "metadata": {},
   "outputs": [
    {
     "name": "stderr",
     "output_type": "stream",
     "text": [
      "\u001b[34m\u001b[1mwandb\u001b[0m: Agent Starting Run: 4lp2jmja with config:\n",
      "\u001b[34m\u001b[1mwandb\u001b[0m: \taa_embedding_dim: 0\n",
      "\u001b[34m\u001b[1mwandb\u001b[0m: \tdepth_final_dense: 1\n",
      "\u001b[34m\u001b[1mwandb\u001b[0m: \tlr: 0.001\n",
      "\u001b[34m\u001b[1mwandb\u001b[0m: \tmodel_name: self-attention\n",
      "\u001b[34m\u001b[1mwandb\u001b[0m: \tspecific_layer_depth: 1\n",
      "\u001b[34m\u001b[1mwandb\u001b[0m: Currently logged in as: \u001b[33mjmboesen\u001b[0m. Use \u001b[1m`wandb login --relogin`\u001b[0m to force relogin\n",
      "\u001b[34m\u001b[1mwandb\u001b[0m: \u001b[33mWARNING\u001b[0m Ignored wandb.init() arg project when running a sweep.\n"
     ]
    },
    {
     "data": {
      "text/html": [
       "Tracking run with wandb version 0.15.5"
      ],
      "text/plain": [
       "<IPython.core.display.HTML object>"
      ]
     },
     "metadata": {},
     "output_type": "display_data"
    },
    {
     "data": {
      "text/html": [
       "Run data is saved locally in <code>/home/johnboesen/tcellmatch-container/tutorials/wandb/run-20230721_122514-4lp2jmja</code>"
      ],
      "text/plain": [
       "<IPython.core.display.HTML object>"
      ]
     },
     "metadata": {},
     "output_type": "display_data"
    },
    {
     "data": {
      "text/html": [
       "Syncing run <strong><a href='https://wandb.ai/jmboesen/uncategorized/runs/4lp2jmja' target=\"_blank\">lemon-sweep-1</a></strong> to <a href='https://wandb.ai/jmboesen/uncategorized' target=\"_blank\">Weights & Biases</a> (<a href='https://wandb.me/run' target=\"_blank\">docs</a>)<br/>Sweep page: <a href='https://wandb.ai/jmboesen/uncategorized/sweeps/9cv1tfh4' target=\"_blank\">https://wandb.ai/jmboesen/uncategorized/sweeps/9cv1tfh4</a>"
      ],
      "text/plain": [
       "<IPython.core.display.HTML object>"
      ]
     },
     "metadata": {},
     "output_type": "display_data"
    },
    {
     "data": {
      "text/html": [
       " View project at <a href='https://wandb.ai/jmboesen/uncategorized' target=\"_blank\">https://wandb.ai/jmboesen/uncategorized</a>"
      ],
      "text/plain": [
       "<IPython.core.display.HTML object>"
      ]
     },
     "metadata": {},
     "output_type": "display_data"
    },
    {
     "data": {
      "text/html": [
       " View sweep at <a href='https://wandb.ai/jmboesen/uncategorized/sweeps/9cv1tfh4' target=\"_blank\">https://wandb.ai/jmboesen/uncategorized/sweeps/9cv1tfh4</a>"
      ],
      "text/plain": [
       "<IPython.core.display.HTML object>"
      ]
     },
     "metadata": {},
     "output_type": "display_data"
    },
    {
     "data": {
      "text/html": [
       " View run at <a href='https://wandb.ai/jmboesen/uncategorized/runs/4lp2jmja' target=\"_blank\">https://wandb.ai/jmboesen/uncategorized/runs/4lp2jmja</a>"
      ],
      "text/plain": [
       "<IPython.core.display.HTML object>"
      ]
     },
     "metadata": {},
     "output_type": "display_data"
    },
    {
     "name": "stdout",
     "output_type": "stream",
     "text": [
      "loading model...\n",
      "(15000, 1, 40, 26) (15000, 50) (15000, 2)\n",
      "[128] [16]\n",
      "built\n",
      "ak to train\n",
      "started training...\n",
      "Number of observations in evaluation data: 1463\n",
      "Number of observations in training data: 13537\n"
     ]
    },
    {
     "data": {
      "text/html": [
       "Waiting for W&B process to finish... <strong style=\"color:green\">(success).</strong>"
      ],
      "text/plain": [
       "<IPython.core.display.HTML object>"
      ]
     },
     "metadata": {},
     "output_type": "display_data"
    },
    {
     "data": {
      "application/vnd.jupyter.widget-view+json": {
       "model_id": "c4e4bf4f2d904e97a5965b68cde380e3",
       "version_major": 2,
       "version_minor": 0
      },
      "text/plain": [
       "VBox(children=(Label(value='0.008 MB of 0.008 MB uploaded (0.000 MB deduped)\\r'), FloatProgress(value=1.0, max…"
      ]
     },
     "metadata": {},
     "output_type": "display_data"
    },
    {
     "data": {
      "text/html": [
       "<style>\n",
       "    table.wandb td:nth-child(1) { padding: 0 10px; text-align: left ; width: auto;} td:nth-child(2) {text-align: left ; width: 100%}\n",
       "    .wandb-row { display: flex; flex-direction: row; flex-wrap: wrap; justify-content: flex-start; width: 100% }\n",
       "    .wandb-col { display: flex; flex-direction: column; flex-basis: 100%; flex: 1; padding: 10px; }\n",
       "    </style>\n",
       "<div class=\"wandb-row\"><div class=\"wandb-col\"><h3>Run history:</h3><br/><table class=\"wandb\"><tr><td>Train Loss</td><td>▁</td></tr><tr><td>Validation Loss</td><td>▁</td></tr><tr><td>antigens/antigen 0</td><td>█▁</td></tr><tr><td>antigens/antigen 0 val</td><td>█▁</td></tr><tr><td>antigens/antigen 1</td><td>█▁</td></tr><tr><td>antigens/antigen 1 val</td><td>█▁</td></tr><tr><td>antigens/antigen 10</td><td>█▁</td></tr><tr><td>antigens/antigen 10 val</td><td>█▁</td></tr><tr><td>antigens/antigen 11</td><td>█▁</td></tr><tr><td>antigens/antigen 11 val</td><td>█▁</td></tr><tr><td>antigens/antigen 12</td><td>█▁</td></tr><tr><td>antigens/antigen 12 val</td><td>▁█</td></tr><tr><td>antigens/antigen 13</td><td>█▁</td></tr><tr><td>antigens/antigen 13 val</td><td>█▁</td></tr><tr><td>antigens/antigen 14</td><td>█▁</td></tr><tr><td>antigens/antigen 14 val</td><td>█▁</td></tr><tr><td>antigens/antigen 15</td><td>█▁</td></tr><tr><td>antigens/antigen 15 val</td><td>█▁</td></tr><tr><td>antigens/antigen 16</td><td>█▁</td></tr><tr><td>antigens/antigen 16 val</td><td>█▁</td></tr><tr><td>antigens/antigen 17</td><td>█▁</td></tr><tr><td>antigens/antigen 17 val</td><td>▁█</td></tr><tr><td>antigens/antigen 18</td><td>█▁</td></tr><tr><td>antigens/antigen 18 val</td><td>█▁</td></tr><tr><td>antigens/antigen 19</td><td>█▁</td></tr><tr><td>antigens/antigen 19 val</td><td>▁█</td></tr><tr><td>antigens/antigen 2</td><td>█▁</td></tr><tr><td>antigens/antigen 2 val</td><td>█▁</td></tr><tr><td>antigens/antigen 20</td><td>█▁</td></tr><tr><td>antigens/antigen 20 val</td><td>█▁</td></tr><tr><td>antigens/antigen 21</td><td>█▁</td></tr><tr><td>antigens/antigen 21 val</td><td>█▁</td></tr><tr><td>antigens/antigen 22</td><td>█▁</td></tr><tr><td>antigens/antigen 22 val</td><td>▁█</td></tr><tr><td>antigens/antigen 23</td><td>█▁</td></tr><tr><td>antigens/antigen 23 val</td><td>█▁</td></tr><tr><td>antigens/antigen 24</td><td>█▁</td></tr><tr><td>antigens/antigen 24 val</td><td>▁█</td></tr><tr><td>antigens/antigen 25</td><td>█▁</td></tr><tr><td>antigens/antigen 25 val</td><td>█▁</td></tr><tr><td>antigens/antigen 26</td><td>▁█</td></tr><tr><td>antigens/antigen 26 val</td><td>█▁</td></tr><tr><td>antigens/antigen 27</td><td>█▁</td></tr><tr><td>antigens/antigen 27 val</td><td>█▁</td></tr><tr><td>antigens/antigen 28</td><td>█▁</td></tr><tr><td>antigens/antigen 28 val</td><td>▁█</td></tr><tr><td>antigens/antigen 29</td><td>█▁</td></tr><tr><td>antigens/antigen 29 val</td><td>▁█</td></tr><tr><td>antigens/antigen 3</td><td>█▁</td></tr><tr><td>antigens/antigen 3 val</td><td>█▁</td></tr><tr><td>antigens/antigen 30</td><td>█▁</td></tr><tr><td>antigens/antigen 30 val</td><td>█▁</td></tr><tr><td>antigens/antigen 31</td><td>█▁</td></tr><tr><td>antigens/antigen 31 val</td><td>█▁</td></tr><tr><td>antigens/antigen 32</td><td>█▁</td></tr><tr><td>antigens/antigen 32 val</td><td>█▁</td></tr><tr><td>antigens/antigen 33</td><td>█▁</td></tr><tr><td>antigens/antigen 33 val</td><td>▁█</td></tr><tr><td>antigens/antigen 34</td><td>█▁</td></tr><tr><td>antigens/antigen 34 val</td><td>█▁</td></tr><tr><td>antigens/antigen 35</td><td>▁█</td></tr><tr><td>antigens/antigen 35 val</td><td>█▁</td></tr><tr><td>antigens/antigen 36</td><td>█▁</td></tr><tr><td>antigens/antigen 36 val</td><td>█▁</td></tr><tr><td>antigens/antigen 37</td><td>█▁</td></tr><tr><td>antigens/antigen 37 val</td><td>█▁</td></tr><tr><td>antigens/antigen 38</td><td>█▁</td></tr><tr><td>antigens/antigen 38 val</td><td>█▁</td></tr><tr><td>antigens/antigen 39</td><td>█▁</td></tr><tr><td>antigens/antigen 39 val</td><td>█▁</td></tr><tr><td>antigens/antigen 4</td><td>█▁</td></tr><tr><td>antigens/antigen 4 val</td><td>█▁</td></tr><tr><td>antigens/antigen 40</td><td>█▁</td></tr><tr><td>antigens/antigen 40 val</td><td>█▁</td></tr><tr><td>antigens/antigen 41</td><td>█▁</td></tr><tr><td>antigens/antigen 41 val</td><td>█▁</td></tr><tr><td>antigens/antigen 42</td><td>█▁</td></tr><tr><td>antigens/antigen 42 val</td><td>█▁</td></tr><tr><td>antigens/antigen 43</td><td>█▁</td></tr><tr><td>antigens/antigen 43 val</td><td>▁█</td></tr><tr><td>antigens/antigen 44</td><td>█▁</td></tr><tr><td>antigens/antigen 44 val</td><td>█▁</td></tr><tr><td>antigens/antigen 45</td><td>█▁</td></tr><tr><td>antigens/antigen 45 val</td><td>█▁</td></tr><tr><td>antigens/antigen 46</td><td>█▁</td></tr><tr><td>antigens/antigen 46 val</td><td>█▁</td></tr><tr><td>antigens/antigen 47</td><td>█▁</td></tr><tr><td>antigens/antigen 47 val</td><td>█▁</td></tr><tr><td>antigens/antigen 48</td><td>█▁</td></tr><tr><td>antigens/antigen 48 val</td><td>█▁</td></tr><tr><td>antigens/antigen 49</td><td>█▁</td></tr><tr><td>antigens/antigen 49 val</td><td>█▁</td></tr><tr><td>antigens/antigen 5</td><td>█▁</td></tr><tr><td>antigens/antigen 5 val</td><td>█▁</td></tr><tr><td>antigens/antigen 6</td><td>█▁</td></tr><tr><td>antigens/antigen 6 val</td><td>▁█</td></tr><tr><td>antigens/antigen 7</td><td>█▁</td></tr><tr><td>antigens/antigen 7 val</td><td>█▁</td></tr><tr><td>antigens/antigen 8</td><td>█▁</td></tr><tr><td>antigens/antigen 8 val</td><td>▁█</td></tr><tr><td>antigens/antigen 9</td><td>█▁</td></tr><tr><td>antigens/antigen 9 val</td><td>▁█</td></tr><tr><td>avg_norm</td><td>▁█</td></tr><tr><td>epoch</td><td>▁▁██</td></tr><tr><td>sum/loss</td><td>█▁</td></tr><tr><td>sum/train_loss</td><td>█▁</td></tr><tr><td>sum/val_loss</td><td>█▁</td></tr></table><br/></div><div class=\"wandb-col\"><h3>Run summary:</h3><br/><table class=\"wandb\"><tr><td>Train Loss</td><td>1.10636</td></tr><tr><td>Validation Loss</td><td>1.03885</td></tr><tr><td>antigens/antigen 0</td><td>0.26795</td></tr><tr><td>antigens/antigen 0 val</td><td>0.21294</td></tr><tr><td>antigens/antigen 1</td><td>0.20968</td></tr><tr><td>antigens/antigen 1 val</td><td>0.25331</td></tr><tr><td>antigens/antigen 10</td><td>0.04109</td></tr><tr><td>antigens/antigen 10 val</td><td>0.04925</td></tr><tr><td>antigens/antigen 11</td><td>0.03834</td></tr><tr><td>antigens/antigen 11 val</td><td>0.00848</td></tr><tr><td>antigens/antigen 12</td><td>0.30639</td></tr><tr><td>antigens/antigen 12 val</td><td>0.17419</td></tr><tr><td>antigens/antigen 13</td><td>0.60106</td></tr><tr><td>antigens/antigen 13 val</td><td>0.38186</td></tr><tr><td>antigens/antigen 14</td><td>9.54031</td></tr><tr><td>antigens/antigen 14 val</td><td>9.57436</td></tr><tr><td>antigens/antigen 15</td><td>1.97302</td></tr><tr><td>antigens/antigen 15 val</td><td>1.32682</td></tr><tr><td>antigens/antigen 16</td><td>0.31007</td></tr><tr><td>antigens/antigen 16 val</td><td>0.31133</td></tr><tr><td>antigens/antigen 17</td><td>0.24488</td></tr><tr><td>antigens/antigen 17 val</td><td>0.24229</td></tr><tr><td>antigens/antigen 18</td><td>0.30787</td></tr><tr><td>antigens/antigen 18 val</td><td>0.86995</td></tr><tr><td>antigens/antigen 19</td><td>0.50777</td></tr><tr><td>antigens/antigen 19 val</td><td>0.31064</td></tr><tr><td>antigens/antigen 2</td><td>0.8059</td></tr><tr><td>antigens/antigen 2 val</td><td>0.52457</td></tr><tr><td>antigens/antigen 20</td><td>0.33357</td></tr><tr><td>antigens/antigen 20 val</td><td>0.19307</td></tr><tr><td>antigens/antigen 21</td><td>0.28704</td></tr><tr><td>antigens/antigen 21 val</td><td>0.28393</td></tr><tr><td>antigens/antigen 22</td><td>0.38467</td></tr><tr><td>antigens/antigen 22 val</td><td>0.33401</td></tr><tr><td>antigens/antigen 23</td><td>0.27496</td></tr><tr><td>antigens/antigen 23 val</td><td>0.27873</td></tr><tr><td>antigens/antigen 24</td><td>0.10395</td></tr><tr><td>antigens/antigen 24 val</td><td>0.05692</td></tr><tr><td>antigens/antigen 25</td><td>0.24491</td></tr><tr><td>antigens/antigen 25 val</td><td>0.27556</td></tr><tr><td>antigens/antigen 26</td><td>0.34927</td></tr><tr><td>antigens/antigen 26 val</td><td>0.33924</td></tr><tr><td>antigens/antigen 27</td><td>0.33391</td></tr><tr><td>antigens/antigen 27 val</td><td>0.38203</td></tr><tr><td>antigens/antigen 28</td><td>0.38473</td></tr><tr><td>antigens/antigen 28 val</td><td>0.29668</td></tr><tr><td>antigens/antigen 29</td><td>4.55238</td></tr><tr><td>antigens/antigen 29 val</td><td>4.42154</td></tr><tr><td>antigens/antigen 3</td><td>0.09641</td></tr><tr><td>antigens/antigen 3 val</td><td>0.07395</td></tr><tr><td>antigens/antigen 30</td><td>2.23474</td></tr><tr><td>antigens/antigen 30 val</td><td>2.17265</td></tr><tr><td>antigens/antigen 31</td><td>0.9513</td></tr><tr><td>antigens/antigen 31 val</td><td>0.97605</td></tr><tr><td>antigens/antigen 32</td><td>7.22922</td></tr><tr><td>antigens/antigen 32 val</td><td>5.83685</td></tr><tr><td>antigens/antigen 33</td><td>4.78406</td></tr><tr><td>antigens/antigen 33 val</td><td>4.07502</td></tr><tr><td>antigens/antigen 34</td><td>0.32782</td></tr><tr><td>antigens/antigen 34 val</td><td>0.34412</td></tr><tr><td>antigens/antigen 35</td><td>0.38751</td></tr><tr><td>antigens/antigen 35 val</td><td>0.41551</td></tr><tr><td>antigens/antigen 36</td><td>0.35138</td></tr><tr><td>antigens/antigen 36 val</td><td>0.42596</td></tr><tr><td>antigens/antigen 37</td><td>0.46966</td></tr><tr><td>antigens/antigen 37 val</td><td>0.5334</td></tr><tr><td>antigens/antigen 38</td><td>0.36192</td></tr><tr><td>antigens/antigen 38 val</td><td>0.43483</td></tr><tr><td>antigens/antigen 39</td><td>0.51967</td></tr><tr><td>antigens/antigen 39 val</td><td>0.64677</td></tr><tr><td>antigens/antigen 4</td><td>0.31804</td></tr><tr><td>antigens/antigen 4 val</td><td>0.27146</td></tr><tr><td>antigens/antigen 40</td><td>0.28994</td></tr><tr><td>antigens/antigen 40 val</td><td>0.33629</td></tr><tr><td>antigens/antigen 41</td><td>8.88603</td></tr><tr><td>antigens/antigen 41 val</td><td>8.3775</td></tr><tr><td>antigens/antigen 42</td><td>0.46858</td></tr><tr><td>antigens/antigen 42 val</td><td>0.61407</td></tr><tr><td>antigens/antigen 43</td><td>0.93915</td></tr><tr><td>antigens/antigen 43 val</td><td>0.67971</td></tr><tr><td>antigens/antigen 44</td><td>0.28759</td></tr><tr><td>antigens/antigen 44 val</td><td>0.32469</td></tr><tr><td>antigens/antigen 45</td><td>0.3433</td></tr><tr><td>antigens/antigen 45 val</td><td>0.34676</td></tr><tr><td>antigens/antigen 46</td><td>0.30394</td></tr><tr><td>antigens/antigen 46 val</td><td>0.32497</td></tr><tr><td>antigens/antigen 47</td><td>0.66854</td></tr><tr><td>antigens/antigen 47 val</td><td>0.56451</td></tr><tr><td>antigens/antigen 48</td><td>0.38714</td></tr><tr><td>antigens/antigen 48 val</td><td>0.56834</td></tr><tr><td>antigens/antigen 49</td><td>0.38812</td></tr><tr><td>antigens/antigen 49 val</td><td>0.57912</td></tr><tr><td>antigens/antigen 5</td><td>0.17946</td></tr><tr><td>antigens/antigen 5 val</td><td>0.5962</td></tr><tr><td>antigens/antigen 6</td><td>0.22901</td></tr><tr><td>antigens/antigen 6 val</td><td>0.20481</td></tr><tr><td>antigens/antigen 7</td><td>0.35194</td></tr><tr><td>antigens/antigen 7 val</td><td>0.31988</td></tr><tr><td>antigens/antigen 8</td><td>0.19626</td></tr><tr><td>antigens/antigen 8 val</td><td>0.14929</td></tr><tr><td>antigens/antigen 9</td><td>0.99986</td></tr><tr><td>antigens/antigen 9 val</td><td>0.64797</td></tr><tr><td>avg_norm</td><td>10.85643</td></tr><tr><td>epoch</td><td>1</td></tr><tr><td>sum/loss</td><td>1.10636</td></tr><tr><td>sum/train_loss</td><td>0.06922</td></tr><tr><td>sum/val_loss</td><td>1.03885</td></tr></table><br/></div></div>"
      ],
      "text/plain": [
       "<IPython.core.display.HTML object>"
      ]
     },
     "metadata": {},
     "output_type": "display_data"
    },
    {
     "data": {
      "text/html": [
       " View run <strong style=\"color:#cdcd00\">lemon-sweep-1</strong> at: <a href='https://wandb.ai/jmboesen/uncategorized/runs/4lp2jmja' target=\"_blank\">https://wandb.ai/jmboesen/uncategorized/runs/4lp2jmja</a><br/>Synced 6 W&B file(s), 0 media file(s), 0 artifact file(s) and 0 other file(s)"
      ],
      "text/plain": [
       "<IPython.core.display.HTML object>"
      ]
     },
     "metadata": {},
     "output_type": "display_data"
    },
    {
     "data": {
      "text/html": [
       "Find logs at: <code>./wandb/run-20230721_122514-4lp2jmja/logs</code>"
      ],
      "text/plain": [
       "<IPython.core.display.HTML object>"
      ]
     },
     "metadata": {},
     "output_type": "display_data"
    },
    {
     "name": "stderr",
     "output_type": "stream",
     "text": [
      "\u001b[34m\u001b[1mwandb\u001b[0m: Agent Starting Run: izrfb2j3 with config:\n",
      "\u001b[34m\u001b[1mwandb\u001b[0m: \taa_embedding_dim: 0\n",
      "\u001b[34m\u001b[1mwandb\u001b[0m: \tdepth_final_dense: 1\n",
      "\u001b[34m\u001b[1mwandb\u001b[0m: \tlr: 0.001\n",
      "\u001b[34m\u001b[1mwandb\u001b[0m: \tmodel_name: self-attention\n",
      "\u001b[34m\u001b[1mwandb\u001b[0m: \tspecific_layer_depth: 2\n",
      "\u001b[34m\u001b[1mwandb\u001b[0m: \u001b[33mWARNING\u001b[0m Ignored wandb.init() arg project when running a sweep.\n"
     ]
    },
    {
     "data": {
      "text/html": [
       "Tracking run with wandb version 0.15.5"
      ],
      "text/plain": [
       "<IPython.core.display.HTML object>"
      ]
     },
     "metadata": {},
     "output_type": "display_data"
    },
    {
     "data": {
      "text/html": [
       "Run data is saved locally in <code>/home/johnboesen/tcellmatch-container/tutorials/wandb/run-20230721_122556-izrfb2j3</code>"
      ],
      "text/plain": [
       "<IPython.core.display.HTML object>"
      ]
     },
     "metadata": {},
     "output_type": "display_data"
    },
    {
     "data": {
      "text/html": [
       "Syncing run <strong><a href='https://wandb.ai/jmboesen/uncategorized/runs/izrfb2j3' target=\"_blank\">twilight-sweep-2</a></strong> to <a href='https://wandb.ai/jmboesen/uncategorized' target=\"_blank\">Weights & Biases</a> (<a href='https://wandb.me/run' target=\"_blank\">docs</a>)<br/>Sweep page: <a href='https://wandb.ai/jmboesen/uncategorized/sweeps/9cv1tfh4' target=\"_blank\">https://wandb.ai/jmboesen/uncategorized/sweeps/9cv1tfh4</a>"
      ],
      "text/plain": [
       "<IPython.core.display.HTML object>"
      ]
     },
     "metadata": {},
     "output_type": "display_data"
    },
    {
     "data": {
      "text/html": [
       " View project at <a href='https://wandb.ai/jmboesen/uncategorized' target=\"_blank\">https://wandb.ai/jmboesen/uncategorized</a>"
      ],
      "text/plain": [
       "<IPython.core.display.HTML object>"
      ]
     },
     "metadata": {},
     "output_type": "display_data"
    },
    {
     "data": {
      "text/html": [
       " View sweep at <a href='https://wandb.ai/jmboesen/uncategorized/sweeps/9cv1tfh4' target=\"_blank\">https://wandb.ai/jmboesen/uncategorized/sweeps/9cv1tfh4</a>"
      ],
      "text/plain": [
       "<IPython.core.display.HTML object>"
      ]
     },
     "metadata": {},
     "output_type": "display_data"
    },
    {
     "data": {
      "text/html": [
       " View run at <a href='https://wandb.ai/jmboesen/uncategorized/runs/izrfb2j3' target=\"_blank\">https://wandb.ai/jmboesen/uncategorized/runs/izrfb2j3</a>"
      ],
      "text/plain": [
       "<IPython.core.display.HTML object>"
      ]
     },
     "metadata": {},
     "output_type": "display_data"
    },
    {
     "name": "stdout",
     "output_type": "stream",
     "text": [
      "loading model...\n",
      "(15000, 1, 40, 26) (15000, 50) (15000, 2)\n",
      "[128, 128] [16, 16]\n",
      "built\n",
      "ak to train\n",
      "started training...\n",
      "Number of observations in evaluation data: 1497\n",
      "Number of observations in training data: 13503\n"
     ]
    },
    {
     "data": {
      "text/html": [
       "Waiting for W&B process to finish... <strong style=\"color:green\">(success).</strong>"
      ],
      "text/plain": [
       "<IPython.core.display.HTML object>"
      ]
     },
     "metadata": {},
     "output_type": "display_data"
    },
    {
     "data": {
      "text/html": [
       "<style>\n",
       "    table.wandb td:nth-child(1) { padding: 0 10px; text-align: left ; width: auto;} td:nth-child(2) {text-align: left ; width: 100%}\n",
       "    .wandb-row { display: flex; flex-direction: row; flex-wrap: wrap; justify-content: flex-start; width: 100% }\n",
       "    .wandb-col { display: flex; flex-direction: column; flex-basis: 100%; flex: 1; padding: 10px; }\n",
       "    </style>\n",
       "<div class=\"wandb-row\"><div class=\"wandb-col\"><h3>Run history:</h3><br/><table class=\"wandb\"><tr><td>Train Loss</td><td>▁</td></tr><tr><td>Validation Loss</td><td>▁</td></tr><tr><td>antigens/antigen 0</td><td>█▁</td></tr><tr><td>antigens/antigen 0 val</td><td>█▁</td></tr><tr><td>antigens/antigen 1</td><td>█▁</td></tr><tr><td>antigens/antigen 1 val</td><td>█▁</td></tr><tr><td>antigens/antigen 10</td><td>█▁</td></tr><tr><td>antigens/antigen 10 val</td><td>█▁</td></tr><tr><td>antigens/antigen 11</td><td>█▁</td></tr><tr><td>antigens/antigen 11 val</td><td>▁█</td></tr><tr><td>antigens/antigen 12</td><td>█▁</td></tr><tr><td>antigens/antigen 12 val</td><td>█▁</td></tr><tr><td>antigens/antigen 13</td><td>█▁</td></tr><tr><td>antigens/antigen 13 val</td><td>▁█</td></tr><tr><td>antigens/antigen 14</td><td>█▁</td></tr><tr><td>antigens/antigen 14 val</td><td>█▁</td></tr><tr><td>antigens/antigen 15</td><td>█▁</td></tr><tr><td>antigens/antigen 15 val</td><td>█▁</td></tr><tr><td>antigens/antigen 16</td><td>█▁</td></tr><tr><td>antigens/antigen 16 val</td><td>█▁</td></tr><tr><td>antigens/antigen 17</td><td>█▁</td></tr><tr><td>antigens/antigen 17 val</td><td>█▁</td></tr><tr><td>antigens/antigen 18</td><td>█▁</td></tr><tr><td>antigens/antigen 18 val</td><td>█▁</td></tr><tr><td>antigens/antigen 19</td><td>█▁</td></tr><tr><td>antigens/antigen 19 val</td><td>█▁</td></tr><tr><td>antigens/antigen 2</td><td>▁█</td></tr><tr><td>antigens/antigen 2 val</td><td>▁█</td></tr><tr><td>antigens/antigen 20</td><td>▁█</td></tr><tr><td>antigens/antigen 20 val</td><td>█▁</td></tr><tr><td>antigens/antigen 21</td><td>█▁</td></tr><tr><td>antigens/antigen 21 val</td><td>█▁</td></tr><tr><td>antigens/antigen 22</td><td>█▁</td></tr><tr><td>antigens/antigen 22 val</td><td>█▁</td></tr><tr><td>antigens/antigen 23</td><td>█▁</td></tr><tr><td>antigens/antigen 23 val</td><td>█▁</td></tr><tr><td>antigens/antigen 24</td><td>█▁</td></tr><tr><td>antigens/antigen 24 val</td><td>█▁</td></tr><tr><td>antigens/antigen 25</td><td>█▁</td></tr><tr><td>antigens/antigen 25 val</td><td>█▁</td></tr><tr><td>antigens/antigen 26</td><td>█▁</td></tr><tr><td>antigens/antigen 26 val</td><td>█▁</td></tr><tr><td>antigens/antigen 27</td><td>█▁</td></tr><tr><td>antigens/antigen 27 val</td><td>█▁</td></tr><tr><td>antigens/antigen 28</td><td>█▁</td></tr><tr><td>antigens/antigen 28 val</td><td>█▁</td></tr><tr><td>antigens/antigen 29</td><td>█▁</td></tr><tr><td>antigens/antigen 29 val</td><td>█▁</td></tr><tr><td>antigens/antigen 3</td><td>█▁</td></tr><tr><td>antigens/antigen 3 val</td><td>█▁</td></tr><tr><td>antigens/antigen 30</td><td>█▁</td></tr><tr><td>antigens/antigen 30 val</td><td>▁█</td></tr><tr><td>antigens/antigen 31</td><td>█▁</td></tr><tr><td>antigens/antigen 31 val</td><td>▁█</td></tr><tr><td>antigens/antigen 32</td><td>█▁</td></tr><tr><td>antigens/antigen 32 val</td><td>█▁</td></tr><tr><td>antigens/antigen 33</td><td>█▁</td></tr><tr><td>antigens/antigen 33 val</td><td>▁█</td></tr><tr><td>antigens/antigen 34</td><td>█▁</td></tr><tr><td>antigens/antigen 34 val</td><td>█▁</td></tr><tr><td>antigens/antigen 35</td><td>█▁</td></tr><tr><td>antigens/antigen 35 val</td><td>█▁</td></tr><tr><td>antigens/antigen 36</td><td>█▁</td></tr><tr><td>antigens/antigen 36 val</td><td>█▁</td></tr><tr><td>antigens/antigen 37</td><td>▁█</td></tr><tr><td>antigens/antigen 37 val</td><td>█▁</td></tr><tr><td>antigens/antigen 38</td><td>█▁</td></tr><tr><td>antigens/antigen 38 val</td><td>█▁</td></tr><tr><td>antigens/antigen 39</td><td>█▁</td></tr><tr><td>antigens/antigen 39 val</td><td>█▁</td></tr><tr><td>antigens/antigen 4</td><td>█▁</td></tr><tr><td>antigens/antigen 4 val</td><td>█▁</td></tr><tr><td>antigens/antigen 40</td><td>█▁</td></tr><tr><td>antigens/antigen 40 val</td><td>█▁</td></tr><tr><td>antigens/antigen 41</td><td>█▁</td></tr><tr><td>antigens/antigen 41 val</td><td>█▁</td></tr><tr><td>antigens/antigen 42</td><td>█▁</td></tr><tr><td>antigens/antigen 42 val</td><td>█▁</td></tr><tr><td>antigens/antigen 43</td><td>▁█</td></tr><tr><td>antigens/antigen 43 val</td><td>▁█</td></tr><tr><td>antigens/antigen 44</td><td>█▁</td></tr><tr><td>antigens/antigen 44 val</td><td>█▁</td></tr><tr><td>antigens/antigen 45</td><td>█▁</td></tr><tr><td>antigens/antigen 45 val</td><td>█▁</td></tr><tr><td>antigens/antigen 46</td><td>█▁</td></tr><tr><td>antigens/antigen 46 val</td><td>█▁</td></tr><tr><td>antigens/antigen 47</td><td>█▁</td></tr><tr><td>antigens/antigen 47 val</td><td>█▁</td></tr><tr><td>antigens/antigen 48</td><td>█▁</td></tr><tr><td>antigens/antigen 48 val</td><td>█▁</td></tr><tr><td>antigens/antigen 49</td><td>█▁</td></tr><tr><td>antigens/antigen 49 val</td><td>█▁</td></tr><tr><td>antigens/antigen 5</td><td>▁█</td></tr><tr><td>antigens/antigen 5 val</td><td>█▁</td></tr><tr><td>antigens/antigen 6</td><td>█▁</td></tr><tr><td>antigens/antigen 6 val</td><td>█▁</td></tr><tr><td>antigens/antigen 7</td><td>█▁</td></tr><tr><td>antigens/antigen 7 val</td><td>█▁</td></tr><tr><td>antigens/antigen 8</td><td>█▁</td></tr><tr><td>antigens/antigen 8 val</td><td>█▁</td></tr><tr><td>antigens/antigen 9</td><td>▁█</td></tr><tr><td>antigens/antigen 9 val</td><td>▁█</td></tr><tr><td>avg_norm</td><td>█▁</td></tr><tr><td>epoch</td><td>▁▁██</td></tr><tr><td>sum/loss</td><td>█▁</td></tr><tr><td>sum/train_loss</td><td>█▁</td></tr><tr><td>sum/val_loss</td><td>█▁</td></tr></table><br/></div><div class=\"wandb-col\"><h3>Run summary:</h3><br/><table class=\"wandb\"><tr><td>Train Loss</td><td>1.29696</td></tr><tr><td>Validation Loss</td><td>1.3806</td></tr><tr><td>antigens/antigen 0</td><td>0.27036</td></tr><tr><td>antigens/antigen 0 val</td><td>0.26285</td></tr><tr><td>antigens/antigen 1</td><td>0.22295</td></tr><tr><td>antigens/antigen 1 val</td><td>0.16251</td></tr><tr><td>antigens/antigen 10</td><td>0.04518</td></tr><tr><td>antigens/antigen 10 val</td><td>0.05287</td></tr><tr><td>antigens/antigen 11</td><td>0.04276</td></tr><tr><td>antigens/antigen 11 val</td><td>0.01306</td></tr><tr><td>antigens/antigen 12</td><td>0.24604</td></tr><tr><td>antigens/antigen 12 val</td><td>0.88077</td></tr><tr><td>antigens/antigen 13</td><td>1.05302</td></tr><tr><td>antigens/antigen 13 val</td><td>0.71125</td></tr><tr><td>antigens/antigen 14</td><td>15.17591</td></tr><tr><td>antigens/antigen 14 val</td><td>13.62254</td></tr><tr><td>antigens/antigen 15</td><td>2.23778</td></tr><tr><td>antigens/antigen 15 val</td><td>4.06565</td></tr><tr><td>antigens/antigen 16</td><td>0.31327</td></tr><tr><td>antigens/antigen 16 val</td><td>0.26582</td></tr><tr><td>antigens/antigen 17</td><td>0.25033</td></tr><tr><td>antigens/antigen 17 val</td><td>0.18394</td></tr><tr><td>antigens/antigen 18</td><td>0.40062</td></tr><tr><td>antigens/antigen 18 val</td><td>0.2175</td></tr><tr><td>antigens/antigen 19</td><td>0.49079</td></tr><tr><td>antigens/antigen 19 val</td><td>0.40981</td></tr><tr><td>antigens/antigen 2</td><td>0.79604</td></tr><tr><td>antigens/antigen 2 val</td><td>0.72666</td></tr><tr><td>antigens/antigen 20</td><td>0.37585</td></tr><tr><td>antigens/antigen 20 val</td><td>0.14248</td></tr><tr><td>antigens/antigen 21</td><td>0.28854</td></tr><tr><td>antigens/antigen 21 val</td><td>0.24654</td></tr><tr><td>antigens/antigen 22</td><td>0.40328</td></tr><tr><td>antigens/antigen 22 val</td><td>0.23221</td></tr><tr><td>antigens/antigen 23</td><td>0.26705</td></tr><tr><td>antigens/antigen 23 val</td><td>0.33717</td></tr><tr><td>antigens/antigen 24</td><td>0.10289</td></tr><tr><td>antigens/antigen 24 val</td><td>0.07486</td></tr><tr><td>antigens/antigen 25</td><td>0.2471</td></tr><tr><td>antigens/antigen 25 val</td><td>0.29299</td></tr><tr><td>antigens/antigen 26</td><td>0.33527</td></tr><tr><td>antigens/antigen 26 val</td><td>0.3944</td></tr><tr><td>antigens/antigen 27</td><td>0.3473</td></tr><tr><td>antigens/antigen 27 val</td><td>0.23215</td></tr><tr><td>antigens/antigen 28</td><td>0.36653</td></tr><tr><td>antigens/antigen 28 val</td><td>0.48823</td></tr><tr><td>antigens/antigen 29</td><td>4.58025</td></tr><tr><td>antigens/antigen 29 val</td><td>4.4589</td></tr><tr><td>antigens/antigen 3</td><td>0.10094</td></tr><tr><td>antigens/antigen 3 val</td><td>0.07014</td></tr><tr><td>antigens/antigen 30</td><td>2.24191</td></tr><tr><td>antigens/antigen 30 val</td><td>2.2207</td></tr><tr><td>antigens/antigen 31</td><td>0.9654</td></tr><tr><td>antigens/antigen 31 val</td><td>0.90418</td></tr><tr><td>antigens/antigen 32</td><td>7.88986</td></tr><tr><td>antigens/antigen 32 val</td><td>13.26884</td></tr><tr><td>antigens/antigen 33</td><td>4.91035</td></tr><tr><td>antigens/antigen 33 val</td><td>8.05146</td></tr><tr><td>antigens/antigen 34</td><td>0.33863</td></tr><tr><td>antigens/antigen 34 val</td><td>0.23479</td></tr><tr><td>antigens/antigen 35</td><td>0.38985</td></tr><tr><td>antigens/antigen 35 val</td><td>0.32308</td></tr><tr><td>antigens/antigen 36</td><td>0.36837</td></tr><tr><td>antigens/antigen 36 val</td><td>0.29286</td></tr><tr><td>antigens/antigen 37</td><td>0.48576</td></tr><tr><td>antigens/antigen 37 val</td><td>0.37559</td></tr><tr><td>antigens/antigen 38</td><td>0.37439</td></tr><tr><td>antigens/antigen 38 val</td><td>0.26037</td></tr><tr><td>antigens/antigen 39</td><td>0.54265</td></tr><tr><td>antigens/antigen 39 val</td><td>0.36021</td></tr><tr><td>antigens/antigen 4</td><td>0.32194</td></tr><tr><td>antigens/antigen 4 val</td><td>0.30765</td></tr><tr><td>antigens/antigen 40</td><td>0.29914</td></tr><tr><td>antigens/antigen 40 val</td><td>0.20941</td></tr><tr><td>antigens/antigen 41</td><td>10.54115</td></tr><tr><td>antigens/antigen 41 val</td><td>8.98319</td></tr><tr><td>antigens/antigen 42</td><td>0.48821</td></tr><tr><td>antigens/antigen 42 val</td><td>0.37073</td></tr><tr><td>antigens/antigen 43</td><td>0.95925</td></tr><tr><td>antigens/antigen 43 val</td><td>0.91722</td></tr><tr><td>antigens/antigen 44</td><td>0.29665</td></tr><tr><td>antigens/antigen 44 val</td><td>0.22769</td></tr><tr><td>antigens/antigen 45</td><td>0.34832</td></tr><tr><td>antigens/antigen 45 val</td><td>0.35371</td></tr><tr><td>antigens/antigen 46</td><td>0.30262</td></tr><tr><td>antigens/antigen 46 val</td><td>0.3175</td></tr><tr><td>antigens/antigen 47</td><td>0.64492</td></tr><tr><td>antigens/antigen 47 val</td><td>0.71536</td></tr><tr><td>antigens/antigen 48</td><td>0.41606</td></tr><tr><td>antigens/antigen 48 val</td><td>0.27639</td></tr><tr><td>antigens/antigen 49</td><td>0.40976</td></tr><tr><td>antigens/antigen 49 val</td><td>0.33856</td></tr><tr><td>antigens/antigen 5</td><td>0.24276</td></tr><tr><td>antigens/antigen 5 val</td><td>0.15174</td></tr><tr><td>antigens/antigen 6</td><td>0.23276</td></tr><tr><td>antigens/antigen 6 val</td><td>0.15141</td></tr><tr><td>antigens/antigen 7</td><td>0.35337</td></tr><tr><td>antigens/antigen 7 val</td><td>0.32313</td></tr><tr><td>antigens/antigen 8</td><td>0.19009</td></tr><tr><td>antigens/antigen 8 val</td><td>0.18467</td></tr><tr><td>antigens/antigen 9</td><td>1.33295</td></tr><tr><td>antigens/antigen 9 val</td><td>0.36408</td></tr><tr><td>avg_norm</td><td>12.39097</td></tr><tr><td>epoch</td><td>1</td></tr><tr><td>sum/loss</td><td>1.29696</td></tr><tr><td>sum/train_loss</td><td>0.08107</td></tr><tr><td>sum/val_loss</td><td>1.3806</td></tr></table><br/></div></div>"
      ],
      "text/plain": [
       "<IPython.core.display.HTML object>"
      ]
     },
     "metadata": {},
     "output_type": "display_data"
    },
    {
     "data": {
      "text/html": [
       " View run <strong style=\"color:#cdcd00\">twilight-sweep-2</strong> at: <a href='https://wandb.ai/jmboesen/uncategorized/runs/izrfb2j3' target=\"_blank\">https://wandb.ai/jmboesen/uncategorized/runs/izrfb2j3</a><br/>Synced 6 W&B file(s), 0 media file(s), 0 artifact file(s) and 0 other file(s)"
      ],
      "text/plain": [
       "<IPython.core.display.HTML object>"
      ]
     },
     "metadata": {},
     "output_type": "display_data"
    },
    {
     "data": {
      "text/html": [
       "Find logs at: <code>./wandb/run-20230721_122556-izrfb2j3/logs</code>"
      ],
      "text/plain": [
       "<IPython.core.display.HTML object>"
      ]
     },
     "metadata": {},
     "output_type": "display_data"
    },
    {
     "name": "stderr",
     "output_type": "stream",
     "text": [
      "\u001b[34m\u001b[1mwandb\u001b[0m: Agent Starting Run: l66167ct with config:\n",
      "\u001b[34m\u001b[1mwandb\u001b[0m: \taa_embedding_dim: 0\n",
      "\u001b[34m\u001b[1mwandb\u001b[0m: \tdepth_final_dense: 1\n",
      "\u001b[34m\u001b[1mwandb\u001b[0m: \tlr: 0.001\n",
      "\u001b[34m\u001b[1mwandb\u001b[0m: \tmodel_name: self-attention\n",
      "\u001b[34m\u001b[1mwandb\u001b[0m: \tspecific_layer_depth: 3\n",
      "\u001b[34m\u001b[1mwandb\u001b[0m: \u001b[33mWARNING\u001b[0m Ignored wandb.init() arg project when running a sweep.\n"
     ]
    },
    {
     "data": {
      "text/html": [
       "Tracking run with wandb version 0.15.5"
      ],
      "text/plain": [
       "<IPython.core.display.HTML object>"
      ]
     },
     "metadata": {},
     "output_type": "display_data"
    },
    {
     "data": {
      "text/html": [
       "Run data is saved locally in <code>/home/johnboesen/tcellmatch-container/tutorials/wandb/run-20230721_122637-l66167ct</code>"
      ],
      "text/plain": [
       "<IPython.core.display.HTML object>"
      ]
     },
     "metadata": {},
     "output_type": "display_data"
    },
    {
     "data": {
      "text/html": [
       "Syncing run <strong><a href='https://wandb.ai/jmboesen/uncategorized/runs/l66167ct' target=\"_blank\">swift-sweep-3</a></strong> to <a href='https://wandb.ai/jmboesen/uncategorized' target=\"_blank\">Weights & Biases</a> (<a href='https://wandb.me/run' target=\"_blank\">docs</a>)<br/>Sweep page: <a href='https://wandb.ai/jmboesen/uncategorized/sweeps/9cv1tfh4' target=\"_blank\">https://wandb.ai/jmboesen/uncategorized/sweeps/9cv1tfh4</a>"
      ],
      "text/plain": [
       "<IPython.core.display.HTML object>"
      ]
     },
     "metadata": {},
     "output_type": "display_data"
    },
    {
     "data": {
      "text/html": [
       " View project at <a href='https://wandb.ai/jmboesen/uncategorized' target=\"_blank\">https://wandb.ai/jmboesen/uncategorized</a>"
      ],
      "text/plain": [
       "<IPython.core.display.HTML object>"
      ]
     },
     "metadata": {},
     "output_type": "display_data"
    },
    {
     "data": {
      "text/html": [
       " View sweep at <a href='https://wandb.ai/jmboesen/uncategorized/sweeps/9cv1tfh4' target=\"_blank\">https://wandb.ai/jmboesen/uncategorized/sweeps/9cv1tfh4</a>"
      ],
      "text/plain": [
       "<IPython.core.display.HTML object>"
      ]
     },
     "metadata": {},
     "output_type": "display_data"
    },
    {
     "data": {
      "text/html": [
       " View run at <a href='https://wandb.ai/jmboesen/uncategorized/runs/l66167ct' target=\"_blank\">https://wandb.ai/jmboesen/uncategorized/runs/l66167ct</a>"
      ],
      "text/plain": [
       "<IPython.core.display.HTML object>"
      ]
     },
     "metadata": {},
     "output_type": "display_data"
    },
    {
     "name": "stdout",
     "output_type": "stream",
     "text": [
      "loading model...\n",
      "(15000, 1, 40, 26) (15000, 50) (15000, 2)\n",
      "[128, 128, 128] [16, 16, 16]\n",
      "built\n",
      "ak to train\n",
      "started training...\n",
      "Number of observations in evaluation data: 1506\n",
      "Number of observations in training data: 13494\n"
     ]
    },
    {
     "data": {
      "text/html": [
       "Waiting for W&B process to finish... <strong style=\"color:green\">(success).</strong>"
      ],
      "text/plain": [
       "<IPython.core.display.HTML object>"
      ]
     },
     "metadata": {},
     "output_type": "display_data"
    },
    {
     "data": {
      "application/vnd.jupyter.widget-view+json": {
       "model_id": "acdc254915364bb3a3918b0b2fd496eb",
       "version_major": 2,
       "version_minor": 0
      },
      "text/plain": [
       "VBox(children=(Label(value='0.008 MB of 0.008 MB uploaded (0.000 MB deduped)\\r'), FloatProgress(value=1.0, max…"
      ]
     },
     "metadata": {},
     "output_type": "display_data"
    },
    {
     "data": {
      "text/html": [
       "<style>\n",
       "    table.wandb td:nth-child(1) { padding: 0 10px; text-align: left ; width: auto;} td:nth-child(2) {text-align: left ; width: 100%}\n",
       "    .wandb-row { display: flex; flex-direction: row; flex-wrap: wrap; justify-content: flex-start; width: 100% }\n",
       "    .wandb-col { display: flex; flex-direction: column; flex-basis: 100%; flex: 1; padding: 10px; }\n",
       "    </style>\n",
       "<div class=\"wandb-row\"><div class=\"wandb-col\"><h3>Run history:</h3><br/><table class=\"wandb\"><tr><td>Train Loss</td><td>▁</td></tr><tr><td>Validation Loss</td><td>▁</td></tr><tr><td>antigens/antigen 0</td><td>█▁</td></tr><tr><td>antigens/antigen 0 val</td><td>▁█</td></tr><tr><td>antigens/antigen 1</td><td>█▁</td></tr><tr><td>antigens/antigen 1 val</td><td>▁█</td></tr><tr><td>antigens/antigen 10</td><td>█▁</td></tr><tr><td>antigens/antigen 10 val</td><td>▁█</td></tr><tr><td>antigens/antigen 11</td><td>█▁</td></tr><tr><td>antigens/antigen 11 val</td><td>▁█</td></tr><tr><td>antigens/antigen 12</td><td>█▁</td></tr><tr><td>antigens/antigen 12 val</td><td>▁█</td></tr><tr><td>antigens/antigen 13</td><td>█▁</td></tr><tr><td>antigens/antigen 13 val</td><td>█▁</td></tr><tr><td>antigens/antigen 14</td><td>█▁</td></tr><tr><td>antigens/antigen 14 val</td><td>█▁</td></tr><tr><td>antigens/antigen 15</td><td>█▁</td></tr><tr><td>antigens/antigen 15 val</td><td>█▁</td></tr><tr><td>antigens/antigen 16</td><td>█▁</td></tr><tr><td>antigens/antigen 16 val</td><td>▁█</td></tr><tr><td>antigens/antigen 17</td><td>█▁</td></tr><tr><td>antigens/antigen 17 val</td><td>▁█</td></tr><tr><td>antigens/antigen 18</td><td>█▁</td></tr><tr><td>antigens/antigen 18 val</td><td>█▁</td></tr><tr><td>antigens/antigen 19</td><td>█▁</td></tr><tr><td>antigens/antigen 19 val</td><td>█▁</td></tr><tr><td>antigens/antigen 2</td><td>█▁</td></tr><tr><td>antigens/antigen 2 val</td><td>█▁</td></tr><tr><td>antigens/antigen 20</td><td>█▁</td></tr><tr><td>antigens/antigen 20 val</td><td>█▁</td></tr><tr><td>antigens/antigen 21</td><td>█▁</td></tr><tr><td>antigens/antigen 21 val</td><td>▁█</td></tr><tr><td>antigens/antigen 22</td><td>█▁</td></tr><tr><td>antigens/antigen 22 val</td><td>█▁</td></tr><tr><td>antigens/antigen 23</td><td>█▁</td></tr><tr><td>antigens/antigen 23 val</td><td>▁█</td></tr><tr><td>antigens/antigen 24</td><td>█▁</td></tr><tr><td>antigens/antigen 24 val</td><td>▁█</td></tr><tr><td>antigens/antigen 25</td><td>█▁</td></tr><tr><td>antigens/antigen 25 val</td><td>█▁</td></tr><tr><td>antigens/antigen 26</td><td>█▁</td></tr><tr><td>antigens/antigen 26 val</td><td>█▁</td></tr><tr><td>antigens/antigen 27</td><td>█▁</td></tr><tr><td>antigens/antigen 27 val</td><td>▁█</td></tr><tr><td>antigens/antigen 28</td><td>█▁</td></tr><tr><td>antigens/antigen 28 val</td><td>█▁</td></tr><tr><td>antigens/antigen 29</td><td>█▁</td></tr><tr><td>antigens/antigen 29 val</td><td>▁█</td></tr><tr><td>antigens/antigen 3</td><td>█▁</td></tr><tr><td>antigens/antigen 3 val</td><td>█▁</td></tr><tr><td>antigens/antigen 30</td><td>█▁</td></tr><tr><td>antigens/antigen 30 val</td><td>█▁</td></tr><tr><td>antigens/antigen 31</td><td>█▁</td></tr><tr><td>antigens/antigen 31 val</td><td>█▁</td></tr><tr><td>antigens/antigen 32</td><td>█▁</td></tr><tr><td>antigens/antigen 32 val</td><td>█▁</td></tr><tr><td>antigens/antigen 33</td><td>█▁</td></tr><tr><td>antigens/antigen 33 val</td><td>▁█</td></tr><tr><td>antigens/antigen 34</td><td>█▁</td></tr><tr><td>antigens/antigen 34 val</td><td>▁█</td></tr><tr><td>antigens/antigen 35</td><td>█▁</td></tr><tr><td>antigens/antigen 35 val</td><td>█▁</td></tr><tr><td>antigens/antigen 36</td><td>█▁</td></tr><tr><td>antigens/antigen 36 val</td><td>█▁</td></tr><tr><td>antigens/antigen 37</td><td>█▁</td></tr><tr><td>antigens/antigen 37 val</td><td>█▁</td></tr><tr><td>antigens/antigen 38</td><td>█▁</td></tr><tr><td>antigens/antigen 38 val</td><td>▁█</td></tr><tr><td>antigens/antigen 39</td><td>█▁</td></tr><tr><td>antigens/antigen 39 val</td><td>█▁</td></tr><tr><td>antigens/antigen 4</td><td>█▁</td></tr><tr><td>antigens/antigen 4 val</td><td>▁█</td></tr><tr><td>antigens/antigen 40</td><td>█▁</td></tr><tr><td>antigens/antigen 40 val</td><td>▁█</td></tr><tr><td>antigens/antigen 41</td><td>█▁</td></tr><tr><td>antigens/antigen 41 val</td><td>█▁</td></tr><tr><td>antigens/antigen 42</td><td>█▁</td></tr><tr><td>antigens/antigen 42 val</td><td>█▁</td></tr><tr><td>antigens/antigen 43</td><td>█▁</td></tr><tr><td>antigens/antigen 43 val</td><td>▁█</td></tr><tr><td>antigens/antigen 44</td><td>█▁</td></tr><tr><td>antigens/antigen 44 val</td><td>█▁</td></tr><tr><td>antigens/antigen 45</td><td>█▁</td></tr><tr><td>antigens/antigen 45 val</td><td>▁█</td></tr><tr><td>antigens/antigen 46</td><td>█▁</td></tr><tr><td>antigens/antigen 46 val</td><td>▁█</td></tr><tr><td>antigens/antigen 47</td><td>█▁</td></tr><tr><td>antigens/antigen 47 val</td><td>▁█</td></tr><tr><td>antigens/antigen 48</td><td>█▁</td></tr><tr><td>antigens/antigen 48 val</td><td>▁█</td></tr><tr><td>antigens/antigen 49</td><td>█▁</td></tr><tr><td>antigens/antigen 49 val</td><td>█▁</td></tr><tr><td>antigens/antigen 5</td><td>█▁</td></tr><tr><td>antigens/antigen 5 val</td><td>▁█</td></tr><tr><td>antigens/antigen 6</td><td>█▁</td></tr><tr><td>antigens/antigen 6 val</td><td>█▁</td></tr><tr><td>antigens/antigen 7</td><td>█▁</td></tr><tr><td>antigens/antigen 7 val</td><td>▁█</td></tr><tr><td>antigens/antigen 8</td><td>█▁</td></tr><tr><td>antigens/antigen 8 val</td><td>█▁</td></tr><tr><td>antigens/antigen 9</td><td>█▁</td></tr><tr><td>antigens/antigen 9 val</td><td>█▁</td></tr><tr><td>avg_norm</td><td>▁█</td></tr><tr><td>epoch</td><td>▁▁██</td></tr><tr><td>sum/loss</td><td>█▁</td></tr><tr><td>sum/train_loss</td><td>█▁</td></tr><tr><td>sum/val_loss</td><td>█▁</td></tr></table><br/></div><div class=\"wandb-col\"><h3>Run summary:</h3><br/><table class=\"wandb\"><tr><td>Train Loss</td><td>1.216</td></tr><tr><td>Validation Loss</td><td>1.33795</td></tr><tr><td>antigens/antigen 0</td><td>0.26409</td></tr><tr><td>antigens/antigen 0 val</td><td>0.30462</td></tr><tr><td>antigens/antigen 1</td><td>0.22043</td></tr><tr><td>antigens/antigen 1 val</td><td>0.20456</td></tr><tr><td>antigens/antigen 10</td><td>0.05441</td></tr><tr><td>antigens/antigen 10 val</td><td>0.06788</td></tr><tr><td>antigens/antigen 11</td><td>0.03952</td></tr><tr><td>antigens/antigen 11 val</td><td>0.04955</td></tr><tr><td>antigens/antigen 12</td><td>0.30097</td></tr><tr><td>antigens/antigen 12 val</td><td>0.26082</td></tr><tr><td>antigens/antigen 13</td><td>0.93254</td></tr><tr><td>antigens/antigen 13 val</td><td>1.29665</td></tr><tr><td>antigens/antigen 14</td><td>12.12517</td></tr><tr><td>antigens/antigen 14 val</td><td>9.18186</td></tr><tr><td>antigens/antigen 15</td><td>2.38529</td></tr><tr><td>antigens/antigen 15 val</td><td>2.54464</td></tr><tr><td>antigens/antigen 16</td><td>0.31177</td></tr><tr><td>antigens/antigen 16 val</td><td>0.27208</td></tr><tr><td>antigens/antigen 17</td><td>0.24267</td></tr><tr><td>antigens/antigen 17 val</td><td>0.25674</td></tr><tr><td>antigens/antigen 18</td><td>0.33289</td></tr><tr><td>antigens/antigen 18 val</td><td>0.85235</td></tr><tr><td>antigens/antigen 19</td><td>0.47604</td></tr><tr><td>antigens/antigen 19 val</td><td>0.57627</td></tr><tr><td>antigens/antigen 2</td><td>0.78497</td></tr><tr><td>antigens/antigen 2 val</td><td>0.77387</td></tr><tr><td>antigens/antigen 20</td><td>0.18184</td></tr><tr><td>antigens/antigen 20 val</td><td>1.5209</td></tr><tr><td>antigens/antigen 21</td><td>0.28788</td></tr><tr><td>antigens/antigen 21 val</td><td>0.28813</td></tr><tr><td>antigens/antigen 22</td><td>0.40161</td></tr><tr><td>antigens/antigen 22 val</td><td>0.27757</td></tr><tr><td>antigens/antigen 23</td><td>0.27361</td></tr><tr><td>antigens/antigen 23 val</td><td>0.25641</td></tr><tr><td>antigens/antigen 24</td><td>0.10082</td></tr><tr><td>antigens/antigen 24 val</td><td>0.10074</td></tr><tr><td>antigens/antigen 25</td><td>0.24652</td></tr><tr><td>antigens/antigen 25 val</td><td>0.25849</td></tr><tr><td>antigens/antigen 26</td><td>0.34412</td></tr><tr><td>antigens/antigen 26 val</td><td>0.32018</td></tr><tr><td>antigens/antigen 27</td><td>0.34465</td></tr><tr><td>antigens/antigen 27 val</td><td>0.29223</td></tr><tr><td>antigens/antigen 28</td><td>0.35668</td></tr><tr><td>antigens/antigen 28 val</td><td>0.55733</td></tr><tr><td>antigens/antigen 29</td><td>4.56654</td></tr><tr><td>antigens/antigen 29 val</td><td>4.20619</td></tr><tr><td>antigens/antigen 3</td><td>0.09265</td></tr><tr><td>antigens/antigen 3 val</td><td>0.1225</td></tr><tr><td>antigens/antigen 30</td><td>2.24866</td></tr><tr><td>antigens/antigen 30 val</td><td>2.09518</td></tr><tr><td>antigens/antigen 31</td><td>0.96247</td></tr><tr><td>antigens/antigen 31 val</td><td>0.90675</td></tr><tr><td>antigens/antigen 32</td><td>8.47554</td></tr><tr><td>antigens/antigen 32 val</td><td>9.28296</td></tr><tr><td>antigens/antigen 33</td><td>4.48427</td></tr><tr><td>antigens/antigen 33 val</td><td>10.91795</td></tr><tr><td>antigens/antigen 34</td><td>0.32692</td></tr><tr><td>antigens/antigen 34 val</td><td>0.31622</td></tr><tr><td>antigens/antigen 35</td><td>0.3771</td></tr><tr><td>antigens/antigen 35 val</td><td>0.39153</td></tr><tr><td>antigens/antigen 36</td><td>0.35777</td></tr><tr><td>antigens/antigen 36 val</td><td>0.40229</td></tr><tr><td>antigens/antigen 37</td><td>0.47229</td></tr><tr><td>antigens/antigen 37 val</td><td>0.44157</td></tr><tr><td>antigens/antigen 38</td><td>0.36931</td></tr><tr><td>antigens/antigen 38 val</td><td>0.35866</td></tr><tr><td>antigens/antigen 39</td><td>0.52058</td></tr><tr><td>antigens/antigen 39 val</td><td>0.56813</td></tr><tr><td>antigens/antigen 4</td><td>0.3095</td></tr><tr><td>antigens/antigen 4 val</td><td>0.34686</td></tr><tr><td>antigens/antigen 40</td><td>0.29409</td></tr><tr><td>antigens/antigen 40 val</td><td>0.30211</td></tr><tr><td>antigens/antigen 41</td><td>9.94745</td></tr><tr><td>antigens/antigen 41 val</td><td>8.66499</td></tr><tr><td>antigens/antigen 42</td><td>0.4818</td></tr><tr><td>antigens/antigen 42 val</td><td>0.49302</td></tr><tr><td>antigens/antigen 43</td><td>1.02142</td></tr><tr><td>antigens/antigen 43 val</td><td>0.66575</td></tr><tr><td>antigens/antigen 44</td><td>0.28412</td></tr><tr><td>antigens/antigen 44 val</td><td>0.33808</td></tr><tr><td>antigens/antigen 45</td><td>0.3491</td></tr><tr><td>antigens/antigen 45 val</td><td>0.3167</td></tr><tr><td>antigens/antigen 46</td><td>0.3039</td></tr><tr><td>antigens/antigen 46 val</td><td>0.31112</td></tr><tr><td>antigens/antigen 47</td><td>0.64904</td></tr><tr><td>antigens/antigen 47 val</td><td>0.66599</td></tr><tr><td>antigens/antigen 48</td><td>0.41003</td></tr><tr><td>antigens/antigen 48 val</td><td>0.3696</td></tr><tr><td>antigens/antigen 49</td><td>0.41262</td></tr><tr><td>antigens/antigen 49 val</td><td>0.3667</td></tr><tr><td>antigens/antigen 5</td><td>0.22599</td></tr><tr><td>antigens/antigen 5 val</td><td>0.19321</td></tr><tr><td>antigens/antigen 6</td><td>0.22081</td></tr><tr><td>antigens/antigen 6 val</td><td>0.26282</td></tr><tr><td>antigens/antigen 7</td><td>0.34865</td></tr><tr><td>antigens/antigen 7 val</td><td>0.36385</td></tr><tr><td>antigens/antigen 8</td><td>0.18867</td></tr><tr><td>antigens/antigen 8 val</td><td>0.20044</td></tr><tr><td>antigens/antigen 9</td><td>1.12015</td></tr><tr><td>antigens/antigen 9 val</td><td>2.51266</td></tr><tr><td>avg_norm</td><td>13.42435</td></tr><tr><td>epoch</td><td>1</td></tr><tr><td>sum/loss</td><td>1.216</td></tr><tr><td>sum/train_loss</td><td>0.07606</td></tr><tr><td>sum/val_loss</td><td>1.33795</td></tr></table><br/></div></div>"
      ],
      "text/plain": [
       "<IPython.core.display.HTML object>"
      ]
     },
     "metadata": {},
     "output_type": "display_data"
    },
    {
     "data": {
      "text/html": [
       " View run <strong style=\"color:#cdcd00\">swift-sweep-3</strong> at: <a href='https://wandb.ai/jmboesen/uncategorized/runs/l66167ct' target=\"_blank\">https://wandb.ai/jmboesen/uncategorized/runs/l66167ct</a><br/>Synced 6 W&B file(s), 0 media file(s), 0 artifact file(s) and 0 other file(s)"
      ],
      "text/plain": [
       "<IPython.core.display.HTML object>"
      ]
     },
     "metadata": {},
     "output_type": "display_data"
    },
    {
     "data": {
      "text/html": [
       "Find logs at: <code>./wandb/run-20230721_122637-l66167ct/logs</code>"
      ],
      "text/plain": [
       "<IPython.core.display.HTML object>"
      ]
     },
     "metadata": {},
     "output_type": "display_data"
    },
    {
     "name": "stderr",
     "output_type": "stream",
     "text": [
      "\u001b[34m\u001b[1mwandb\u001b[0m: Agent Starting Run: ws48dcui with config:\n",
      "\u001b[34m\u001b[1mwandb\u001b[0m: \taa_embedding_dim: 0\n",
      "\u001b[34m\u001b[1mwandb\u001b[0m: \tdepth_final_dense: 1\n",
      "\u001b[34m\u001b[1mwandb\u001b[0m: \tlr: 0.001\n",
      "\u001b[34m\u001b[1mwandb\u001b[0m: \tmodel_name: self-attention\n",
      "\u001b[34m\u001b[1mwandb\u001b[0m: \tspecific_layer_depth: 4\n",
      "\u001b[34m\u001b[1mwandb\u001b[0m: \u001b[33mWARNING\u001b[0m Ignored wandb.init() arg project when running a sweep.\n"
     ]
    },
    {
     "data": {
      "text/html": [
       "Tracking run with wandb version 0.15.5"
      ],
      "text/plain": [
       "<IPython.core.display.HTML object>"
      ]
     },
     "metadata": {},
     "output_type": "display_data"
    },
    {
     "data": {
      "text/html": [
       "Run data is saved locally in <code>/home/johnboesen/tcellmatch-container/tutorials/wandb/run-20230721_122719-ws48dcui</code>"
      ],
      "text/plain": [
       "<IPython.core.display.HTML object>"
      ]
     },
     "metadata": {},
     "output_type": "display_data"
    },
    {
     "data": {
      "text/html": [
       "Syncing run <strong><a href='https://wandb.ai/jmboesen/uncategorized/runs/ws48dcui' target=\"_blank\">clear-sweep-4</a></strong> to <a href='https://wandb.ai/jmboesen/uncategorized' target=\"_blank\">Weights & Biases</a> (<a href='https://wandb.me/run' target=\"_blank\">docs</a>)<br/>Sweep page: <a href='https://wandb.ai/jmboesen/uncategorized/sweeps/9cv1tfh4' target=\"_blank\">https://wandb.ai/jmboesen/uncategorized/sweeps/9cv1tfh4</a>"
      ],
      "text/plain": [
       "<IPython.core.display.HTML object>"
      ]
     },
     "metadata": {},
     "output_type": "display_data"
    },
    {
     "data": {
      "text/html": [
       " View project at <a href='https://wandb.ai/jmboesen/uncategorized' target=\"_blank\">https://wandb.ai/jmboesen/uncategorized</a>"
      ],
      "text/plain": [
       "<IPython.core.display.HTML object>"
      ]
     },
     "metadata": {},
     "output_type": "display_data"
    },
    {
     "data": {
      "text/html": [
       " View sweep at <a href='https://wandb.ai/jmboesen/uncategorized/sweeps/9cv1tfh4' target=\"_blank\">https://wandb.ai/jmboesen/uncategorized/sweeps/9cv1tfh4</a>"
      ],
      "text/plain": [
       "<IPython.core.display.HTML object>"
      ]
     },
     "metadata": {},
     "output_type": "display_data"
    },
    {
     "data": {
      "text/html": [
       " View run at <a href='https://wandb.ai/jmboesen/uncategorized/runs/ws48dcui' target=\"_blank\">https://wandb.ai/jmboesen/uncategorized/runs/ws48dcui</a>"
      ],
      "text/plain": [
       "<IPython.core.display.HTML object>"
      ]
     },
     "metadata": {},
     "output_type": "display_data"
    },
    {
     "name": "stdout",
     "output_type": "stream",
     "text": [
      "loading model...\n",
      "(15000, 1, 40, 26) (15000, 50) (15000, 2)\n",
      "[128, 128, 128, 128] [16, 16, 16, 16]\n",
      "built\n",
      "ak to train\n",
      "started training...\n",
      "Number of observations in evaluation data: 1523\n",
      "Number of observations in training data: 13477\n"
     ]
    },
    {
     "data": {
      "text/html": [
       "Waiting for W&B process to finish... <strong style=\"color:green\">(success).</strong>"
      ],
      "text/plain": [
       "<IPython.core.display.HTML object>"
      ]
     },
     "metadata": {},
     "output_type": "display_data"
    },
    {
     "data": {
      "application/vnd.jupyter.widget-view+json": {
       "model_id": "afafcd00e21547fd875b91a5cf79fddf",
       "version_major": 2,
       "version_minor": 0
      },
      "text/plain": [
       "VBox(children=(Label(value='0.008 MB of 0.008 MB uploaded (0.000 MB deduped)\\r'), FloatProgress(value=1.0, max…"
      ]
     },
     "metadata": {},
     "output_type": "display_data"
    }
   ],
   "source": [
    "wandb.agent(sweep_id, function=train)"
   ]
  },
  {
   "cell_type": "code",
   "execution_count": null,
   "id": "7989bfdc-ddd4-4da9-9ae7-8fde78cf038a",
   "metadata": {},
   "outputs": [],
   "source": []
  }
 ],
 "metadata": {
  "kernelspec": {
   "display_name": "jboesen tcellmatch",
   "language": "python",
   "name": "jboesen"
  },
  "language_info": {
   "codemirror_mode": {
    "name": "ipython",
    "version": 3
   },
   "file_extension": ".py",
   "mimetype": "text/x-python",
   "name": "python",
   "nbconvert_exporter": "python",
   "pygments_lexer": "ipython3",
   "version": "3.11.0"
  }
 },
 "nbformat": 4,
 "nbformat_minor": 5
}
