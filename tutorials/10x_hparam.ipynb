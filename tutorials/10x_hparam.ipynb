{
 "cells": [
  {
   "cell_type": "markdown",
   "id": "9af24413",
   "metadata": {},
   "source": [
    "# Hyperparameter Search\n",
    "This notebook is an implementation of ``10x_dataset_training.ipynb`` with hyperparameter search. The hyperparameter search is done using Weights and Biases (wandb) and performed with the sweep method, a grid search with random sampling. The hyperparameters are:\n",
    "- ``learning_rate``: The learning rate of the optimizer.\n",
    "- ``num_specific_layers``: The number of model-specific layers (i.e., self-attention layers, convolutional layers, etc.).\n",
    "- ``aa_embedding_dim``: The dimension of the amino acid embedding.\n",
    "- ``depth_final_dense``: The number of linear layers in the network.\n",
    "- ``model_name``: The model to use. Either ``bilstm``, ``self_attention``, ``cnn``, or ``bigru``. See the ``README.md`` for more details about the implementations of these architectures. "
   ]
  },
  {
   "cell_type": "code",
   "execution_count": 1,
   "id": "208b6333-9bc2-4057-b0af-180fdd582e7a",
   "metadata": {},
   "outputs": [],
   "source": [
    "import pandas as pd\n",
    "import tcellmatch.api as tm\n",
    "from sklearn.metrics import confusion_matrix\n",
    "import matplotlib.pyplot as plt\n",
    "import seaborn as sns\n",
    "from pytorch_model_summary import summary\n",
    "from torchmetrics import Accuracy\n",
    "import torch\n",
    "import os\n",
    "import numpy as np\n",
    "import wandb"
   ]
  },
  {
   "cell_type": "markdown",
   "id": "86f2078a-fc09-4550-b3c7-14602257e274",
   "metadata": {},
   "source": [
    "# Load Data"
   ]
  },
  {
   "cell_type": "code",
   "execution_count": 3,
   "id": "284466c4-5f02-4011-b17b-24b6e800bdc0",
   "metadata": {},
   "outputs": [],
   "source": [
    "ffn = tm.models.EstimatorFfn()\n",
    "indir = '../tutorial_data/'\n",
    "data = np.load(f\"{indir}ffn_data_continuous_15k.npz\")\n",
    "ffn.x_train = data[\"x_train\"]\n",
    "ffn.covariates_train = data[\"covariates_train\"]\n",
    "ffn.y_train = data[\"y_train\"]\n",
    "ffn.x_test = data[\"x_test\"]\n",
    "ffn.covariates_test = data[\"covariates_test\"]\n",
    "ffn.y_test = data[\"y_test\"]\n",
    "ffn.clone_train = data[\"clone_train\"]"
   ]
  },
  {
   "cell_type": "code",
   "execution_count": 4,
   "id": "95fe810f-b685-493e-a664-220e06e463b6",
   "metadata": {},
   "outputs": [],
   "source": [
    "ffn.load_idx(f'{indir}SAVED_IDX')"
   ]
  },
  {
   "cell_type": "markdown",
   "id": "c1f0f299-78ab-4e7a-a1b8-27e1720f1f0a",
   "metadata": {},
   "source": [
    "## Reshape Data"
   ]
  },
  {
   "cell_type": "code",
   "execution_count": 5,
   "id": "1c1ae0ce-17aa-4d7c-8bc4-a0a4b8e6ab77",
   "metadata": {},
   "outputs": [
    {
     "ename": "IndexError",
     "evalue": "boolean index did not match indexed array along dimension 0; dimension is 5437 but corresponding boolean dimension is 15000",
     "output_type": "error",
     "traceback": [
      "\u001b[0;31m---------------------------------------------------------------------------\u001b[0m",
      "\u001b[0;31mIndexError\u001b[0m                                Traceback (most recent call last)",
      "Cell \u001b[0;32mIn[5], line 7\u001b[0m\n\u001b[1;32m      4\u001b[0m non_zero_hot_rows \u001b[38;5;241m=\u001b[39m np\u001b[38;5;241m.\u001b[39many(sums_across_last_dim \u001b[38;5;241m>\u001b[39m \u001b[38;5;241m0\u001b[39m, axis\u001b[38;5;241m=\u001b[39m\u001b[38;5;241m-\u001b[39m\u001b[38;5;241m1\u001b[39m)\n\u001b[1;32m      6\u001b[0m ffn\u001b[38;5;241m.\u001b[39mx_train \u001b[38;5;241m=\u001b[39m ffn\u001b[38;5;241m.\u001b[39mx_train[non_zero_hot_rows]\n\u001b[0;32m----> 7\u001b[0m ffn\u001b[38;5;241m.\u001b[39mx_test \u001b[38;5;241m=\u001b[39m ffn\u001b[38;5;241m.\u001b[39mx_test[non_zero_hot_rows]\n",
      "\u001b[0;31mIndexError\u001b[0m: boolean index did not match indexed array along dimension 0; dimension is 5437 but corresponding boolean dimension is 15000"
     ]
    }
   ],
   "source": [
    "sums_across_last_dim = np.sum(ffn.x_train, axis=-1)\n",
    "\n",
    "# Find rows which are not \"zero-hot\"\n",
    "non_zero_hot_rows = np.any(sums_across_last_dim > 0, axis=-1)\n",
    "\n",
    "ffn.x_train = ffn.x_train[non_zero_hot_rows]\n",
    "ffn.x_test = ffn.x_test[non_zero_hot_rows]"
   ]
  },
  {
   "cell_type": "code",
   "execution_count": 6,
   "id": "8633a3dd-1247-48da-b44a-c1de1a9dd338",
   "metadata": {},
   "outputs": [],
   "source": [
    "ffn.x_train = ffn.x_train[:, np.newaxis, :]"
   ]
  },
  {
   "cell_type": "markdown",
   "id": "d984895f-988f-4944-9c2d-ae0946148f72",
   "metadata": {},
   "source": [
    "# Build Model"
   ]
  },
  {
   "cell_type": "code",
   "execution_count": 7,
   "id": "0d1dd677-d229-49c8-b31d-e52417c55e10",
   "metadata": {},
   "outputs": [],
   "source": [
    "model_name = 'CNN'\n",
    "USE_BIND_COUNTS = True"
   ]
  },
  {
   "cell_type": "markdown",
   "id": "565807b7-637c-4cb1-9383-960f63112d6f",
   "metadata": {},
   "source": [
    "# Train model\n",
    "Train this model for 2 epochs     "
   ]
  },
  {
   "cell_type": "markdown",
   "id": "2ca0e86d",
   "metadata": {},
   "source": [
    "### Add WandB Search"
   ]
  },
  {
   "cell_type": "code",
   "execution_count": 8,
   "id": "f669bd9c",
   "metadata": {},
   "outputs": [],
   "source": [
    "sweep_config = {\n",
    "   'method': 'grid',  # can be random, grid, bayes\n",
    "   'parameters': {\n",
    "       'lr': {  # learning rate\n",
    "           'values': [0.001, 0.005, 0.01, 0.1]\n",
    "       },\n",
    "       'aa_embedding_dim': {\n",
    "           'values': [0, 10, 26]\n",
    "       },\n",
    "       'depth_final_dense': {\n",
    "           'values': [1, 2, 3, 5, 9]\n",
    "       },\n",
    "       'model_name': {\n",
    "           'values': ['self-attention', 'bilstm', 'bigru', 'cnn']\n",
    "       },\n",
    "       # i.e., bilstm depth, SA depth, conv depth\n",
    "       'specific_layer_depth': {\n",
    "            'values': [1, 2, 3, 4, 5]\n",
    "       }\n",
    "   }\n",
    "}"
   ]
  },
  {
   "cell_type": "code",
   "execution_count": 9,
   "id": "fbf54108-744e-4e54-83e6-68cfa9bd3798",
   "metadata": {},
   "outputs": [],
   "source": [
    "def train():\n",
    "    # Initialize wandb with a sample project name\n",
    "    wandb.init(project=\"TCR fitting\")\n",
    "\n",
    "    config = wandb.config\n",
    "   \n",
    "    # replace your hard-coded hyperparameters with config values\n",
    "    model_name = config.model_name\n",
    "    lr = config.lr\n",
    "    aa_embedding_dim = config.aa_embedding_dim\n",
    "    depth_final_dense = config.depth_final_dense\n",
    "\n",
    "    if model_name.lower() == 'self-attention':\n",
    "        attention_size = [128] * config.specific_layer_depth\n",
    "        attention_heads = [16] * config.specific_layer_depth\n",
    "\n",
    "        ffn.build_self_attention(\n",
    "            residual_connection=True,\n",
    "            aa_embedding_dim=aa_embedding_dim,\n",
    "            attention_size=attention_size,\n",
    "            use_covariates=False,\n",
    "            attention_heads=attention_heads,\n",
    "            depth_final_dense=depth_final_dense,\n",
    "            optimizer='adam',\n",
    "            lr=lr,\n",
    "            loss='pois' if USE_BIND_COUNTS else 'wbce',\n",
    "            label_smoothing=0\n",
    "        )\n",
    "    elif model_name.lower() == 'bilstm':\n",
    "        topology = [32] * config.specific_layer_depth\n",
    "        ffn.build_bilstm(\n",
    "            topology=topology,\n",
    "            residual_connection=True,\n",
    "            aa_embedding_dim=aa_embedding_dim,\n",
    "            optimizer='adam',\n",
    "            lr=lr,\n",
    "            loss='pois' if USE_BIND_COUNTS else 'wcbe',\n",
    "            label_smoothing=0,\n",
    "            depth_final_dense=depth_final_dense,\n",
    "            use_covariates=False,\n",
    "            one_hot_y=not USE_BIND_COUNTS\n",
    "        )\n",
    "    elif model_name.lower() == 'bigru':\n",
    "        topology= [10] * config.specific_layer_depth\n",
    "        ffn.build_bigru(\n",
    "            aa_embedding_dim=aa_embedding_dim,\n",
    "            residual_connection=True,\n",
    "            lr=lr,\n",
    "            loss='pois' if USE_BIND_COUNTS else 'wbce',\n",
    "        )\n",
    "    elif model_name.lower() == 'cnn':\n",
    "        n_conv_layers = config.specific_layer_depth\n",
    "        # filter_widths = [3, 5, 3] \n",
    "        # filters = [16, 32, 64]\n",
    "        pool_sizes = [2] * n_conv_layers\n",
    "        pool_strides = [2] * n_conv_layers\n",
    "        ffn.build_conv(\n",
    "            n_conv_layers=n_conv_layers,\n",
    "            depth_final_dense=depth_final_dense,\n",
    "            # filter_widths=filter_widths,\n",
    "            # filters=filters,\n",
    "            pool_sizes=pool_sizes,\n",
    "            pool_strides=pool_strides,\n",
    "            loss='pois' if USE_BIND_COUNTS else 'wbce',\n",
    "        )\n",
    "\n",
    "    # Training model\n",
    "    EPOCHS = 2\n",
    "    batch_size = 100000\n",
    "    train_curve, val_curve, antigen_loss, antigen_loss_val = ffn.train(\n",
    "        epochs=EPOCHS,\n",
    "        batch_size=batch_size,\n",
    "        log_dir='training_runs',\n",
    "        allow_early_stopping=False,\n",
    "        print_loss=True,\n",
    "        lr_schedule_factor=0.99999,\n",
    "        use_wandb=True\n",
    "    )\n",
    "   \n",
    "    # Log metrics with wandb\n",
    "    wandb.log({'Train Loss': train_curve[-1], 'Validation Loss': val_curve[-1]})"
   ]
  },
  {
   "cell_type": "code",
   "execution_count": 10,
   "id": "f4b348bb",
   "metadata": {},
   "outputs": [
    {
     "name": "stdout",
     "output_type": "stream",
     "text": [
      "Create sweep with ID: jdl4t6mu\n",
      "Sweep URL: https://wandb.ai/jmboesen/uncategorized/sweeps/jdl4t6mu\n"
     ]
    }
   ],
   "source": [
    "sweep_id = wandb.sweep(sweep_config)"
   ]
  },
  {
   "cell_type": "code",
   "execution_count": 11,
   "id": "20d95c99",
   "metadata": {},
   "outputs": [
    {
     "name": "stderr",
     "output_type": "stream",
     "text": [
      "\u001b[34m\u001b[1mwandb\u001b[0m: Agent Starting Run: 3bxl3c99 with config:\n",
      "\u001b[34m\u001b[1mwandb\u001b[0m: \taa_embedding_dim: 0\n",
      "\u001b[34m\u001b[1mwandb\u001b[0m: \tdepth_final_dense: 1\n",
      "\u001b[34m\u001b[1mwandb\u001b[0m: \tlr: 0.001\n",
      "\u001b[34m\u001b[1mwandb\u001b[0m: \tmodel_name: self-attention\n",
      "\u001b[34m\u001b[1mwandb\u001b[0m: \tspecific_layer_depth: 1\n",
      "\u001b[34m\u001b[1mwandb\u001b[0m: Currently logged in as: \u001b[33mjmboesen\u001b[0m. Use \u001b[1m`wandb login --relogin`\u001b[0m to force relogin\n",
      "\u001b[34m\u001b[1mwandb\u001b[0m: \u001b[33mWARNING\u001b[0m Ignored wandb.init() arg project when running a sweep.\n"
     ]
    },
    {
     "data": {
      "text/html": [
       "Tracking run with wandb version 0.15.5"
      ],
      "text/plain": [
       "<IPython.core.display.HTML object>"
      ]
     },
     "metadata": {},
     "output_type": "display_data"
    },
    {
     "data": {
      "text/html": [
       "Run data is saved locally in <code>/home/johnboesen/tcellmatch-container/tutorials/wandb/run-20230721_153036-3bxl3c99</code>"
      ],
      "text/plain": [
       "<IPython.core.display.HTML object>"
      ]
     },
     "metadata": {},
     "output_type": "display_data"
    },
    {
     "data": {
      "text/html": [
       "Syncing run <strong><a href='https://wandb.ai/jmboesen/uncategorized/runs/3bxl3c99' target=\"_blank\">splendid-sweep-1</a></strong> to <a href='https://wandb.ai/jmboesen/uncategorized' target=\"_blank\">Weights & Biases</a> (<a href='https://wandb.me/run' target=\"_blank\">docs</a>)<br/>Sweep page: <a href='https://wandb.ai/jmboesen/uncategorized/sweeps/jdl4t6mu' target=\"_blank\">https://wandb.ai/jmboesen/uncategorized/sweeps/jdl4t6mu</a>"
      ],
      "text/plain": [
       "<IPython.core.display.HTML object>"
      ]
     },
     "metadata": {},
     "output_type": "display_data"
    },
    {
     "data": {
      "text/html": [
       " View project at <a href='https://wandb.ai/jmboesen/uncategorized' target=\"_blank\">https://wandb.ai/jmboesen/uncategorized</a>"
      ],
      "text/plain": [
       "<IPython.core.display.HTML object>"
      ]
     },
     "metadata": {},
     "output_type": "display_data"
    },
    {
     "data": {
      "text/html": [
       " View sweep at <a href='https://wandb.ai/jmboesen/uncategorized/sweeps/jdl4t6mu' target=\"_blank\">https://wandb.ai/jmboesen/uncategorized/sweeps/jdl4t6mu</a>"
      ],
      "text/plain": [
       "<IPython.core.display.HTML object>"
      ]
     },
     "metadata": {},
     "output_type": "display_data"
    },
    {
     "data": {
      "text/html": [
       " View run at <a href='https://wandb.ai/jmboesen/uncategorized/runs/3bxl3c99' target=\"_blank\">https://wandb.ai/jmboesen/uncategorized/runs/3bxl3c99</a>"
      ],
      "text/plain": [
       "<IPython.core.display.HTML object>"
      ]
     },
     "metadata": {},
     "output_type": "display_data"
    },
    {
     "name": "stdout",
     "output_type": "stream",
     "text": [
      "started training...\n",
      "Number of observations in evaluation data: 1498\n",
      "Number of observations in training data: 13502\n",
      "2.554189920425415\n",
      "1.804654598236084\n"
     ]
    },
    {
     "data": {
      "text/html": [
       "Waiting for W&B process to finish... <strong style=\"color:green\">(success).</strong>"
      ],
      "text/plain": [
       "<IPython.core.display.HTML object>"
      ]
     },
     "metadata": {},
     "output_type": "display_data"
    },
    {
     "name": "stderr",
     "output_type": "stream",
     "text": [
      "\u001b[34m\u001b[1mwandb\u001b[0m: Ctrl + C detected. Stopping sweep.\n"
     ]
    },
    {
     "data": {
      "application/vnd.jupyter.widget-view+json": {
       "model_id": "900ffad957104d0a97e7148ecfe34601",
       "version_major": 2,
       "version_minor": 0
      },
      "text/plain": [
       "VBox(children=(Label(value='0.012 MB of 0.032 MB uploaded (0.000 MB deduped)\\r'), FloatProgress(value=0.369231…"
      ]
     },
     "metadata": {},
     "output_type": "display_data"
    }
   ],
   "source": [
    "wandb.agent(sweep_id, function=train)"
   ]
  }
 ],
 "metadata": {
  "kernelspec": {
   "display_name": "jboesen tcellmatch",
   "language": "python",
   "name": "jboesen"
  },
  "language_info": {
   "codemirror_mode": {
    "name": "ipython",
    "version": 3
   },
   "file_extension": ".py",
   "mimetype": "text/x-python",
   "name": "python",
   "nbconvert_exporter": "python",
   "pygments_lexer": "ipython3",
   "version": "3.11.0"
  }
 },
 "nbformat": 4,
 "nbformat_minor": 5
}
