{
 "cells": [
  {
   "cell_type": "code",
   "execution_count": 1,
   "id": "ce68c02e",
   "metadata": {},
   "outputs": [
    {
     "name": "stderr",
     "output_type": "stream",
     "text": [
      "2023-05-22 09:45:09.722524: I tensorflow/core/platform/cpu_feature_guard.cc:182] This TensorFlow binary is optimized to use available CPU instructions in performance-critical operations.\n",
      "To enable the following instructions: AVX2 AVX512F AVX512_VNNI FMA, in other operations, rebuild TensorFlow with the appropriate compiler flags.\n"
     ]
    }
   ],
   "source": [
    "import numpy as np\n",
    "# import tensorflow as tf\n",
    "import tcellmatch.api as tm"
   ]
  },
  {
   "cell_type": "code",
   "execution_count": 2,
   "id": "a06ec7a0",
   "metadata": {},
   "outputs": [],
   "source": [
    "ffn = tm.models.EstimatorFfn()\n",
    "\n",
    "ffn.x_train = np.load('x_train.npy')\n",
    "ffn.covariates_train = np.load('cov_train.npy')\n",
    "ffn.y_train = np.load('y_train.npy')\n",
    "ffn.clone_train = np.load('clone_train.npy')"
   ]
  },
  {
   "cell_type": "code",
   "execution_count": 3,
   "id": "5f38a3a1",
   "metadata": {},
   "outputs": [
    {
     "name": "stdout",
     "output_type": "stream",
     "text": [
      "layeraaemd -> shape_emb 26 input_shape torch.Size([1, 40, 26])\n",
      "5 4\n",
      "ATTN -> input shape torch.Size([1, 40, 26])\n",
      "5 4\n",
      "ATTN -> input shape torch.Size([1, 40, 26])\n"
     ]
    }
   ],
   "source": [
    "ffn.build_self_attention(\n",
    "    residual_connection=True,\n",
    "    aa_embedding_dim=0,\n",
    "    attention_size=[5, 5],\n",
    "    attention_heads=[4, 4],\n",
    "    optimizer='adam',\n",
    "    lr=0.001,\n",
    "    loss='cce',\n",
    "    label_smoothing=0\n",
    ")"
   ]
  },
  {
   "cell_type": "code",
   "execution_count": 4,
   "id": "70a1fcef",
   "metadata": {},
   "outputs": [
    {
     "ename": "IndexError",
     "evalue": "index 0 is out of bounds for axis 0 with size 0",
     "output_type": "error",
     "traceback": [
      "\u001b[0;31m---------------------------------------------------------------------------\u001b[0m",
      "\u001b[0;31mIndexError\u001b[0m                                Traceback (most recent call last)",
      "Cell \u001b[0;32mIn[4], line 1\u001b[0m\n\u001b[0;32m----> 1\u001b[0m \u001b[43mffn\u001b[49m\u001b[38;5;241;43m.\u001b[39;49m\u001b[43mtrain\u001b[49m\u001b[43m(\u001b[49m\n\u001b[1;32m      2\u001b[0m \u001b[43m    \u001b[49m\u001b[43mepochs\u001b[49m\u001b[38;5;241;43m=\u001b[39;49m\u001b[38;5;241;43m1\u001b[39;49m\u001b[43m,\u001b[49m\n\u001b[1;32m      3\u001b[0m \u001b[43m    \u001b[49m\u001b[43mbatch_size\u001b[49m\u001b[38;5;241;43m=\u001b[39;49m\u001b[38;5;241;43m8\u001b[39;49m\n\u001b[1;32m      4\u001b[0m \u001b[43m    \u001b[49m\u001b[43m)\u001b[49m\n",
      "File \u001b[0;32m~/Documents/Code/#Work/tcellmatch/tcell-env/lib/python3.11/site-packages/tcellmatch/estimators/estimator_ffn.py:829\u001b[0m, in \u001b[0;36mEstimatorFfn.train\u001b[0;34m(self, epochs, batch_size, validation_split, patience, lr_schedule_min_lr, lr_schedule_factor, lr_schedule_patience, log_dir, use_existing_eval_partition, validation_batch_size)\u001b[0m\n\u001b[1;32m    819\u001b[0m idx_train \u001b[38;5;241m=\u001b[39m np\u001b[38;5;241m.\u001b[39mwhere([x \u001b[38;5;129;01min\u001b[39;00m clones_train \u001b[38;5;28;01mfor\u001b[39;00m x \u001b[38;5;129;01min\u001b[39;00m \u001b[38;5;28mself\u001b[39m\u001b[38;5;241m.\u001b[39mclone_train])[\u001b[38;5;241m0\u001b[39m]\n\u001b[1;32m    820\u001b[0m \u001b[38;5;66;03m# if isinstance(self.idx_train, np.ndarray):\u001b[39;00m\n\u001b[1;32m    821\u001b[0m \u001b[38;5;66;03m#     print('idx train shape', self.idx_train.shape)\u001b[39;00m\n\u001b[1;32m    822\u001b[0m \u001b[38;5;66;03m# else:\u001b[39;00m\n\u001b[0;32m   (...)\u001b[0m\n\u001b[1;32m    827\u001b[0m \u001b[38;5;66;03m#     print(type(self.idx_train_val))\u001b[39;00m\n\u001b[1;32m    828\u001b[0m \u001b[38;5;66;03m# Save partitions in terms of original indexing.\u001b[39;00m\n\u001b[0;32m--> 829\u001b[0m \u001b[38;5;28mself\u001b[39m\u001b[38;5;241m.\u001b[39midx_train \u001b[38;5;241m=\u001b[39m \u001b[38;5;28;43mself\u001b[39;49m\u001b[38;5;241;43m.\u001b[39;49m\u001b[43midx_train_val\u001b[49m\u001b[43m[\u001b[49m\u001b[43midx_train\u001b[49m\u001b[43m]\u001b[49m\n\u001b[1;32m    830\u001b[0m \u001b[38;5;28mself\u001b[39m\u001b[38;5;241m.\u001b[39midx_val \u001b[38;5;241m=\u001b[39m \u001b[38;5;28mself\u001b[39m\u001b[38;5;241m.\u001b[39midx_train_val[idx_val]\n\u001b[1;32m    831\u001b[0m \u001b[38;5;28mprint\u001b[39m(\u001b[38;5;124m'\u001b[39m\u001b[38;5;124mds arg 1: \u001b[39m\u001b[38;5;124m'\u001b[39m, \u001b[38;5;28mself\u001b[39m\u001b[38;5;241m.\u001b[39mx_train\u001b[38;5;241m.\u001b[39mshape, idx_train\u001b[38;5;241m.\u001b[39mshape, \u001b[38;5;28mself\u001b[39m\u001b[38;5;241m.\u001b[39mx_train[idx_train]\u001b[38;5;241m.\u001b[39mshape)\n",
      "\u001b[0;31mIndexError\u001b[0m: index 0 is out of bounds for axis 0 with size 0"
     ]
    }
   ],
   "source": [
    "ffn.train(\n",
    "    epochs=1,\n",
    "    batch_size=8\n",
    "    )"
   ]
  },
  {
   "cell_type": "code",
   "execution_count": null,
   "id": "4e7842e9",
   "metadata": {},
   "outputs": [],
   "source": []
  }
 ],
 "metadata": {
  "kernelspec": {
   "display_name": "tcell-env",
   "language": "python",
   "name": "tcell-env"
  },
  "language_info": {
   "codemirror_mode": {
    "name": "ipython",
    "version": 3
   },
   "file_extension": ".py",
   "mimetype": "text/x-python",
   "name": "python",
   "nbconvert_exporter": "python",
   "pygments_lexer": "ipython3",
   "version": "3.11.2"
  }
 },
 "nbformat": 4,
 "nbformat_minor": 5
}
