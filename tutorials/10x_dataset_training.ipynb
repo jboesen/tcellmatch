{
 "cells": [
  {
   "cell_type": "markdown",
   "id": "db7736ad",
   "metadata": {},
   "source": [
    "# 10X `tcellmatch` Tutorial - Training\n",
    "Make sure to run the previous notebook `10x_dataset_preprocessing.ipynb` before running this notebook. It also contains details on the dataset used in this tutorial and how it is processed. "
   ]
  },
  {
   "cell_type": "code",
   "execution_count": 1,
   "id": "208b6333-9bc2-4057-b0af-180fdd582e7a",
   "metadata": {},
   "outputs": [],
   "source": [
    "import pandas as pd\n",
    "import tcellmatch.api as tm\n",
    "from sklearn.metrics import confusion_matrix\n",
    "import matplotlib.pyplot as plt\n",
    "import seaborn as sns\n",
    "from pytorch_model_summary import summary\n",
    "from torchmetrics import Accuracy\n",
    "import torch\n",
    "import os\n",
    "import numpy as np\n",
    "import wandb"
   ]
  },
  {
   "cell_type": "markdown",
   "id": "86f2078a-fc09-4550-b3c7-14602257e274",
   "metadata": {},
   "source": [
    "# Load Data"
   ]
  },
  {
   "cell_type": "markdown",
   "id": "275f00c4",
   "metadata": {},
   "source": [
    "This data is saved when running the previous notebook `10x_dataset_preprocessing.ipynb`."
   ]
  },
  {
   "cell_type": "code",
   "execution_count": 2,
   "id": "284466c4-5f02-4011-b17b-24b6e800bdc0",
   "metadata": {},
   "outputs": [],
   "source": [
    "ffn = tm.models.EstimatorFfn()\n",
    "indir = '../tutorial_data/'\n",
    "data = np.load(f\"{indir}ffn_data_continuous_15k.npz\")\n",
    "ffn.x_train = data[\"x_train\"]\n",
    "ffn.covariates_train = data[\"covariates_train\"]\n",
    "ffn.y_train = data[\"y_train\"]\n",
    "ffn.x_test = data[\"x_test\"]\n",
    "ffn.covariates_test = data[\"covariates_test\"]\n",
    "ffn.y_test = data[\"y_test\"]\n",
    "ffn.clone_train = data[\"clone_train\"]"
   ]
  },
  {
   "cell_type": "markdown",
   "id": "4e260df0",
   "metadata": {},
   "source": [
    "These indices are used to split the data into train, validation, and test sets.\n",
    "\n",
    "```python"
   ]
  },
  {
   "cell_type": "code",
   "execution_count": 3,
   "id": "95fe810f-b685-493e-a664-220e06e463b6",
   "metadata": {},
   "outputs": [],
   "source": [
    "ffn.load_idx(f'{indir}SAVED_IDX')"
   ]
  },
  {
   "cell_type": "markdown",
   "id": "d984895f-988f-4944-9c2d-ae0946148f72",
   "metadata": {},
   "source": [
    "# Build Model\n",
    "Here, we can build two models: a BiLSTM-based or self-attention-based model, detailed above.\n",
    "\n",
    "Loss has the following possible parameters\n",
    "\n",
    "1. Discrete\n",
    "    1. Binary Crossentropy (param \"bce\")\n",
    "    2. Weighted Binary Crossentropy (param \"wbce\")\n",
    "    3. Categorical Crossentropy (param \"cce\")\n",
    "2. Continuous\n",
    "    1. MMD (param \"mmd\")\n",
    "    2. Mean Squared error (param \"mse\")\n",
    "    3. Poisson (param \"pois\")\n",
    "    \n",
    "Calling one of these creates the model and sets the ffn.model attribute."
   ]
  },
  {
   "cell_type": "code",
   "execution_count": 4,
   "id": "0d1dd677-d229-49c8-b31d-e52417c55e10",
   "metadata": {},
   "outputs": [],
   "source": [
    "model_name = 'self-attention'\n",
    "USE_BIND_COUNTS = True"
   ]
  },
  {
   "cell_type": "code",
   "execution_count": 6,
   "id": "9a56ad08-aa34-433d-900c-d8bb8efb86a9",
   "metadata": {},
   "outputs": [],
   "source": [
    "if model_name.lower() == 'self-attention':\n",
    "    # ffn.build_self_attention(\n",
    "    #     residual_connection=True,\n",
    "    #     aa_embedding_dim=0,\n",
    "    #     # hidden size of each attention layer\n",
    "    #     attention_size=[5, 5],\n",
    "    #     # number of heads at each layer\n",
    "    #     attention_heads=[4, 4],\n",
    "    #     optimizer='adam',\n",
    "    #     lr=0.001,\n",
    "    #     loss='pois' if USE_BIND_COUNTS else 'wbce',\n",
    "    #     label_smoothing=0\n",
    "    # )\n",
    "    ffn.build_self_attention(\n",
    "            residual_connection=True,\n",
    "            aa_embedding_dim=0,\n",
    "            attention_size=[128],\n",
    "            use_covariates=False,\n",
    "            attention_heads=[16],\n",
    "            depth_final_dense=1,\n",
    "            optimizer='adam',\n",
    "            lr=0.001,\n",
    "            loss='pois' if USE_BIND_COUNTS else 'wbce',\n",
    "            label_smoothing=0\n",
    "        )\n",
    "elif model_name.lower() == 'bilstm':\n",
    "    ffn.build_bilstm(\n",
    "        # The depth of each bilstm layer (length of feature vector)\n",
    "        topology = [10, 10, 10, 10],\n",
    "        # Dimension of the linear amino acid embedding, ie number of 1x1 convolutional filters.\n",
    "        # set to input dimension if aa_embedding_dim==0.\n",
    "        aa_embedding_dim=0,\n",
    "        optimizer='adam',\n",
    "        lr=0.001,\n",
    "        loss='pois' if USE_BIND_COUNTS else 'wcbe',\n",
    "        label_smoothing=0,\n",
    "        # whether to assume covariates in model architecture\n",
    "        use_covariates=False,\n",
    "        # whether we are predicting max binding categorical\n",
    "        # or binding counts\n",
    "        one_hot_y=not USE_BIND_COUNTS\n",
    "    )\n",
    "elif model_name.lower() == 'bigru':\n",
    "    ffn.build_bigru(\n",
    "        topology=[10, 10, 10],\n",
    "        aa_embedding_dim=0,\n",
    "        lr=0.005,\n",
    "        loss='pois' if USE_BIND_COUNTS else 'wbce',\n",
    "        optimize_for_gpu= True,\n",
    "    )\n",
    "elif model_name.lower() == 'cnn':\n",
    "    ffn.build_conv(\n",
    "        n_conv_layers = 3,\n",
    "        depth_final_dense = 3,\n",
    "        filter_widths = [3, 5, 3],  # Filter widths for the three convolutional layers\n",
    "        filters = [16, 32, 64],  # Output channels for the three convolutional layers\n",
    "        pool_sizes = [2] * 3,  # Size of the pooling window\n",
    "        pool_strides = [2] * 3,  # Stride for moving the pooling window,\n",
    "        loss='pois' if USE_BIND_COUNTS else 'wbce',\n",
    "    )"
   ]
  },
  {
   "cell_type": "markdown",
   "id": "565807b7-637c-4cb1-9383-960f63112d6f",
   "metadata": {},
   "source": [
    "# Train model\n",
    "Train this model for 2 epochs     "
   ]
  },
  {
   "cell_type": "code",
   "execution_count": 7,
   "id": "fbf54108-744e-4e54-83e6-68cfa9bd3798",
   "metadata": {},
   "outputs": [],
   "source": [
    "EPOCHS = 7\n",
    "batch_size = 40\n",
    "lr = 0.001\n",
    "depth_final_dense = 2\n",
    "# wandb.init(\n",
    "#     # set the wandb project where this run will be logged\n",
    "#     project=\"TCR fitting\",\n",
    "#     # track hyperparameters and run metadata\n",
    "#     config={\n",
    "#     \"learning_rate\": lr,\n",
    "#     \"architecture\": model_name,\n",
    "#     \"batch_size\": batch_size,\n",
    "#     \"depth_final_dense\" : depth_final_dense,\n",
    "#     },\n",
    "#     reinit=True\n",
    "# )"
   ]
  },
  {
   "cell_type": "code",
   "execution_count": 8,
   "id": "49b938ec-e881-4a08-afd8-0e8615179dca",
   "metadata": {
    "scrolled": true
   },
   "outputs": [
    {
     "name": "stdout",
     "output_type": "stream",
     "text": [
      "started training...\n",
      "pre partition\n",
      "Number of observations in evaluation data: 1449\n",
      "Number of observations in training data: 13551\n",
      "post partition partition\n",
      "loaded up data\n",
      "At beginning of epoch...\n",
      "2.5775511264801025\n",
      "2.666121244430542\n",
      "1.3285143375396729\n",
      "1.5547277927398682\n",
      "0.8679112792015076\n",
      "0.7886121869087219\n",
      "1.462367057800293\n",
      "0.8629075884819031\n",
      "1.0750466585159302\n",
      "1.1556934118270874\n",
      "2.569833993911743\n",
      "1.9020313024520874\n",
      "1.3056129217147827\n",
      "1.286444902420044\n",
      "2.254241704940796\n",
      "1.34165620803833\n",
      "2.1755688190460205\n"
     ]
    },
    {
     "ename": "KeyboardInterrupt",
     "evalue": "",
     "output_type": "error",
     "traceback": [
      "\u001b[0;31m---------------------------------------------------------------------------\u001b[0m",
      "\u001b[0;31mKeyboardInterrupt\u001b[0m                         Traceback (most recent call last)",
      "Cell \u001b[0;32mIn[8], line 1\u001b[0m\n\u001b[0;32m----> 1\u001b[0m train_curve, val_curve, antigen_loss, antigen_loss_val \u001b[39m=\u001b[39m ffn\u001b[39m.\u001b[39;49mtrain(\n\u001b[1;32m      2\u001b[0m     epochs\u001b[39m=\u001b[39;49mEPOCHS,\n\u001b[1;32m      3\u001b[0m     batch_size\u001b[39m=\u001b[39;49mbatch_size,\n\u001b[1;32m      4\u001b[0m     \u001b[39m# tensorboard logs to this directory\u001b[39;49;00m\n\u001b[1;32m      5\u001b[0m     log_dir\u001b[39m=\u001b[39;49m\u001b[39m'\u001b[39;49m\u001b[39mtraining_runs\u001b[39;49m\u001b[39m'\u001b[39;49m,\n\u001b[1;32m      6\u001b[0m     \u001b[39m# if true, saves epochs x n_classes as ffn.antigen_loss\u001b[39;49;00m\n\u001b[1;32m      7\u001b[0m     \u001b[39m# ijth element is loss of ith epoch on jth antigen\u001b[39;49;00m\n\u001b[1;32m      8\u001b[0m     \u001b[39m# save_antigen_loss=True,\u001b[39;49;00m\n\u001b[1;32m      9\u001b[0m     allow_early_stopping\u001b[39m=\u001b[39;49m\u001b[39mTrue\u001b[39;49;00m,\n\u001b[1;32m     10\u001b[0m     print_loss\u001b[39m=\u001b[39;49m\u001b[39mTrue\u001b[39;49;00m,\n\u001b[1;32m     11\u001b[0m     lr_schedule_factor\u001b[39m=\u001b[39;49m\u001b[39m0.99999\u001b[39;49m,\n\u001b[1;32m     12\u001b[0m     use_wandb\u001b[39m=\u001b[39;49m\u001b[39mFalse\u001b[39;49;00m\n\u001b[1;32m     13\u001b[0m )\n",
      "File \u001b[0;32m~/Documents/Code/#Work/tcellmatch/tcell-env/lib/python3.11/site-packages/tcellmatch/estimators/estimator_ffn.py:972\u001b[0m, in \u001b[0;36mEstimatorFfn.train\u001b[0;34m(self, epochs, batch_size, validation_split, patience, lr_schedule_min_lr, lr_schedule_factor, lr_schedule_patience, log_dir, use_existing_eval_partition, validation_batch_size, allow_early_stopping, print_loss, use_wandb)\u001b[0m\n\u001b[1;32m    969\u001b[0m \u001b[39mfor\u001b[39;00m i \u001b[39min\u001b[39;00m \u001b[39mrange\u001b[39m(num_classes):\n\u001b[1;32m    970\u001b[0m     antigen_loss[epoch, i]\u001b[39m+\u001b[39m\u001b[39m=\u001b[39m\u001b[39mself\u001b[39m\u001b[39m.\u001b[39mcriterion(outputs[:,i],  y[:,i])\u001b[39m.\u001b[39mitem() \u001b[39m*\u001b[39m x\u001b[39m.\u001b[39msize(\u001b[39m0\u001b[39m)\n\u001b[0;32m--> 972\u001b[0m loss\u001b[39m.\u001b[39;49mbackward()\n\u001b[1;32m    973\u001b[0m optimizer\u001b[39m.\u001b[39mstep()\n\u001b[1;32m    974\u001b[0m running_loss \u001b[39m+\u001b[39m\u001b[39m=\u001b[39m loss\u001b[39m.\u001b[39mitem()\n",
      "File \u001b[0;32m~/Documents/Code/#Work/tcellmatch/tcell-env/lib/python3.11/site-packages/torch/_tensor.py:487\u001b[0m, in \u001b[0;36mTensor.backward\u001b[0;34m(self, gradient, retain_graph, create_graph, inputs)\u001b[0m\n\u001b[1;32m    477\u001b[0m \u001b[39mif\u001b[39;00m has_torch_function_unary(\u001b[39mself\u001b[39m):\n\u001b[1;32m    478\u001b[0m     \u001b[39mreturn\u001b[39;00m handle_torch_function(\n\u001b[1;32m    479\u001b[0m         Tensor\u001b[39m.\u001b[39mbackward,\n\u001b[1;32m    480\u001b[0m         (\u001b[39mself\u001b[39m,),\n\u001b[0;32m   (...)\u001b[0m\n\u001b[1;32m    485\u001b[0m         inputs\u001b[39m=\u001b[39minputs,\n\u001b[1;32m    486\u001b[0m     )\n\u001b[0;32m--> 487\u001b[0m torch\u001b[39m.\u001b[39;49mautograd\u001b[39m.\u001b[39;49mbackward(\n\u001b[1;32m    488\u001b[0m     \u001b[39mself\u001b[39;49m, gradient, retain_graph, create_graph, inputs\u001b[39m=\u001b[39;49minputs\n\u001b[1;32m    489\u001b[0m )\n",
      "File \u001b[0;32m~/Documents/Code/#Work/tcellmatch/tcell-env/lib/python3.11/site-packages/torch/autograd/__init__.py:200\u001b[0m, in \u001b[0;36mbackward\u001b[0;34m(tensors, grad_tensors, retain_graph, create_graph, grad_variables, inputs)\u001b[0m\n\u001b[1;32m    195\u001b[0m     retain_graph \u001b[39m=\u001b[39m create_graph\n\u001b[1;32m    197\u001b[0m \u001b[39m# The reason we repeat same the comment below is that\u001b[39;00m\n\u001b[1;32m    198\u001b[0m \u001b[39m# some Python versions print out the first line of a multi-line function\u001b[39;00m\n\u001b[1;32m    199\u001b[0m \u001b[39m# calls in the traceback and some print out the last line\u001b[39;00m\n\u001b[0;32m--> 200\u001b[0m Variable\u001b[39m.\u001b[39;49m_execution_engine\u001b[39m.\u001b[39;49mrun_backward(  \u001b[39m# Calls into the C++ engine to run the backward pass\u001b[39;49;00m\n\u001b[1;32m    201\u001b[0m     tensors, grad_tensors_, retain_graph, create_graph, inputs,\n\u001b[1;32m    202\u001b[0m     allow_unreachable\u001b[39m=\u001b[39;49m\u001b[39mTrue\u001b[39;49;00m, accumulate_grad\u001b[39m=\u001b[39;49m\u001b[39mTrue\u001b[39;49;00m)\n",
      "\u001b[0;31mKeyboardInterrupt\u001b[0m: "
     ]
    }
   ],
   "source": [
    "train_curve, val_curve, antigen_loss, antigen_loss_val = ffn.train(\n",
    "    epochs=EPOCHS,\n",
    "    batch_size=batch_size,\n",
    "    # tensorboard logs to this directory\n",
    "    log_dir='training_runs',\n",
    "    # if true, saves epochs x n_classes as ffn.antigen_loss\n",
    "    # ijth element is loss of ith epoch on jth antigen\n",
    "    # save_antigen_loss=True,\n",
    "    allow_early_stopping=True,\n",
    "    print_loss=True,\n",
    "    lr_schedule_factor=0.99999,\n",
    "    use_wandb=False\n",
    ")"
   ]
  },
  {
   "cell_type": "markdown",
   "id": "35fa9ccc-b798-431f-a9f5-d89e5a1a62bb",
   "metadata": {},
   "source": [
    "### Plot Loss Curves"
   ]
  },
  {
   "cell_type": "code",
   "execution_count": null,
   "id": "5b91a999-22ea-4fb6-9c49-d6b171a41f49",
   "metadata": {},
   "outputs": [
    {
     "data": {
      "image/png": "[encoded data removed]",
      "text/plain": [
       "<Figure size 640x480 with 1 Axes>"
      ]
     },
     "metadata": {},
     "output_type": "display_data"
    }
   ],
   "source": [
    "# Plotting the curves\n",
    "plt.plot(train_curve, label='Train Curve')\n",
    "plt.plot(val_curve, label='Validation Curve')\n",
    "\n",
    "# Adding labels and title\n",
    "plt.xlabel('Epochs')\n",
    "plt.ylabel('Loss')\n",
    "plt.title('Training and Validation Curves')\n",
    "\n",
    "# Adding legend\n",
    "plt.legend()\n",
    "\n",
    "# Displaying the plot\n",
    "plt.show()"
   ]
  },
  {
   "cell_type": "markdown",
   "id": "27fb561b-47f3-4869-b7ee-be4b312080db",
   "metadata": {},
   "source": [
    "## Get embeddings"
   ]
  },
  {
   "cell_type": "markdown",
   "id": "599b996d-9a85-4f45-bbe6-04baa196b2d7",
   "metadata": {},
   "source": [
    "Use this function to get the ouputs before our linear layer and store them for other use."
   ]
  },
  {
   "cell_type": "code",
   "execution_count": null,
   "id": "bc9580fe-6891-4cdf-8ef4-5d66922a9b11",
   "metadata": {},
   "outputs": [
    {
     "data": {
      "text/plain": [
       "tensor([[-0.9197,  1.5621, -0.0556,  ..., -0.5244,  0.0515,  0.0914]],\n",
       "       grad_fn=<ViewBackward0>)"
      ]
     },
     "execution_count": 9,
     "metadata": {},
     "output_type": "execute_result"
    }
   ],
   "source": [
    "ffn.model.get_embeddings(torch.ones(1, 1, 40, 26))"
   ]
  },
  {
   "cell_type": "markdown",
   "id": "8d4c73d9-ac5e-40b0-8502-e0201e8b5aa7",
   "metadata": {},
   "source": [
    "# Use model"
   ]
  },
  {
   "cell_type": "markdown",
   "id": "6aca9184-ecb6-4a9c-a100-430c9daf93cb",
   "metadata": {},
   "source": [
    "## Evaluate on test set\n",
    "This evaluates the data and returns binary and custom (i.e., based on how the model was built above) loss metrics"
   ]
  },
  {
   "cell_type": "code",
   "execution_count": null,
   "id": "09fc012c-33e0-4328-8004-61ad4f018508",
   "metadata": {},
   "outputs": [
    {
     "data": {
      "text/plain": [
       "{'test': {PoissonNLLLoss(): 0.9598842775662333,\n",
       "  'Binary Accuracy': 44.03131294634682}}"
      ]
     },
     "execution_count": 10,
     "metadata": {},
     "output_type": "execute_result"
    }
   ],
   "source": [
    "ffn.evaluate(\n",
    "    # given k, returns loss only over the kth antigen in test\n",
    "    antigen_col=None\n",
    ")"
   ]
  },
  {
   "cell_type": "markdown",
   "id": "222086ed-32da-4510-addf-e33df11b90b2",
   "metadata": {},
   "source": [
    "## Save the model"
   ]
  },
  {
   "cell_type": "code",
   "execution_count": null,
   "id": "12123000-75fc-48da-8058-37346afcc1a7",
   "metadata": {},
   "outputs": [],
   "source": [
    "os.makedirs(f'{indir}saved_model', exist_ok=True)\n",
    "# save_yhat means save predictions\n",
    "ffn.save_model_full(f'{indir}saved_model', save_yhat=True, save_train_data=False)"
   ]
  },
  {
   "cell_type": "markdown",
   "id": "0e26a624-432e-46d9-b849-85f682ea476c",
   "metadata": {},
   "source": [
    "# Evaluate/Compare the Model\n",
    "We predict the labels on test data and store to `ffn.predictions`"
   ]
  },
  {
   "cell_type": "code",
   "execution_count": null,
   "id": "c5ea71ab-f060-4458-8980-f351a9ac5414",
   "metadata": {},
   "outputs": [
    {
     "data": {
      "text/plain": [
       "(5461, 50)"
      ]
     },
     "execution_count": 12,
     "metadata": {},
     "output_type": "execute_result"
    }
   ],
   "source": [
    "ffn.predict()\n",
    "ffn.predictions.shape"
   ]
  },
  {
   "cell_type": "markdown",
   "id": "46dd29e7-9b2a-40b1-b1c3-de8f0ab8a44c",
   "metadata": {},
   "source": [
    "### Create Confusion Matrix\n",
    "This is only applicable, of course, if you've used the one-hot encoded maximum binding y-data. If it is, you can use this to also compare with the original tcellmatch in torch"
   ]
  },
  {
   "cell_type": "code",
   "execution_count": null,
   "id": "c3182a51-34d2-418a-9702-124faaaea062",
   "metadata": {},
   "outputs": [],
   "source": [
    "if not USE_BIND_COUNTS:\n",
    "    true_labels = np.argmax(ffn.y_test, axis=1)\n",
    "    predicted_labels = np.argmax(ffn.predictions, axis=1)\n",
    "\n",
    "    cm = confusion_matrix(true_labels, predicted_labels)\n",
    "\n",
    "    plt.figure(figsize=(8, 6))\n",
    "    sns.heatmap(cm, annot=True, cmap='Blues', fmt='d')\n",
    "    plt.xlabel('Predicted')\n",
    "    plt.ylabel('True')\n",
    "    plt.title('Confusion Matrix')\n",
    "    plt.show()"
   ]
  },
  {
   "cell_type": "markdown",
   "id": "2d5fa08f-05f7-4ff8-a0ee-12ba114695c1",
   "metadata": {},
   "source": [
    "## Reproduce evaluation in a new instance of model w/ same weights\n",
    "\n",
    "We load the model, with weights and data included, and evaluate and predict on the test data"
   ]
  },
  {
   "cell_type": "code",
   "execution_count": null,
   "id": "05c08b1b-935b-40cb-b938-555646579c75",
   "metadata": {},
   "outputs": [
    {
     "ename": "KeyError",
     "evalue": "'use_covariates'",
     "output_type": "error",
     "traceback": [
      "\u001b[0;31m---------------------------------------------------------------------------\u001b[0m",
      "\u001b[0;31mKeyError\u001b[0m                                  Traceback (most recent call last)",
      "Cell \u001b[0;32mIn[14], line 2\u001b[0m\n\u001b[1;32m      1\u001b[0m ffn2 \u001b[39m=\u001b[39m tm\u001b[39m.\u001b[39mmodels\u001b[39m.\u001b[39mEstimatorFfn()\n\u001b[0;32m----> 2\u001b[0m ffn2\u001b[39m.\u001b[39;49mload_model_full(fn\u001b[39m=\u001b[39;49m\u001b[39mf\u001b[39;49m\u001b[39m'\u001b[39;49m\u001b[39m{\u001b[39;49;00mindir\u001b[39m}\u001b[39;49;00m\u001b[39msaved_model\u001b[39;49m\u001b[39m'\u001b[39;49m, load_train_data\u001b[39m=\u001b[39;49m\u001b[39mFalse\u001b[39;49;00m)\n\u001b[1;32m      3\u001b[0m \u001b[39mprint\u001b[39m(ffn2\u001b[39m.\u001b[39mevaluate(test_only\u001b[39m=\u001b[39m\u001b[39mTrue\u001b[39;00m))\n\u001b[1;32m      4\u001b[0m ffn2\u001b[39m.\u001b[39mpredict()\n",
      "File \u001b[0;32m~/Documents/Code/#Work/tcellmatch/tcell-env/lib/python3.11/site-packages/tcellmatch/estimators/estimator_ffn.py:1663\u001b[0m, in \u001b[0;36mEstimatorFfn.load_model_full\u001b[0;34m(self, fn, fn_settings, fn_data, fn_model, load_train_data)\u001b[0m\n\u001b[1;32m   1661\u001b[0m \u001b[39mif\u001b[39;00m \u001b[39mnot\u001b[39;00m fn_settings:\n\u001b[1;32m   1662\u001b[0m     \u001b[39mself\u001b[39m\u001b[39m.\u001b[39mload_data(fn\u001b[39m=\u001b[39m\u001b[39mf\u001b[39m\u001b[39m'\u001b[39m\u001b[39m{\u001b[39;00mfn\u001b[39m}\u001b[39;00m\u001b[39m/data\u001b[39m\u001b[39m'\u001b[39m, load_train_data\u001b[39m=\u001b[39mload_train_data)\n\u001b[0;32m-> 1663\u001b[0m     \u001b[39mself\u001b[39;49m\u001b[39m.\u001b[39;49mload_model(\n\u001b[1;32m   1664\u001b[0m         fn\u001b[39m=\u001b[39;49mfn\n\u001b[1;32m   1665\u001b[0m     )\n\u001b[1;32m   1666\u001b[0m \u001b[39melse\u001b[39;00m:\n\u001b[1;32m   1667\u001b[0m     \u001b[39mself\u001b[39m\u001b[39m.\u001b[39mload_data(fn\u001b[39m=\u001b[39mfn_data, load_train_data\u001b[39m=\u001b[39mload_train_data)\n",
      "File \u001b[0;32m~/Documents/Code/#Work/tcellmatch/tcell-env/lib/python3.11/site-packages/tcellmatch/estimators/estimator_ffn.py:1689\u001b[0m, in \u001b[0;36mEstimatorFfn.load_model\u001b[0;34m(self, fn, fn_settings, fn_model)\u001b[0m\n\u001b[1;32m   1687\u001b[0m \u001b[39mif\u001b[39;00m \u001b[39mnot\u001b[39;00m fn_settings \u001b[39mor\u001b[39;00m \u001b[39mnot\u001b[39;00m fn_model:\n\u001b[1;32m   1688\u001b[0m     \u001b[39mself\u001b[39m\u001b[39m.\u001b[39mload_model_settings(fn\u001b[39m=\u001b[39m\u001b[39mf\u001b[39m\u001b[39m'\u001b[39m\u001b[39m{\u001b[39;00mfn\u001b[39m}\u001b[39;00m\u001b[39m/args\u001b[39m\u001b[39m'\u001b[39m)\n\u001b[0;32m-> 1689\u001b[0m     \u001b[39mself\u001b[39;49m\u001b[39m.\u001b[39;49minitialise_model_from_settings()\n\u001b[1;32m   1690\u001b[0m     \u001b[39mself\u001b[39m\u001b[39m.\u001b[39mmodel\u001b[39m.\u001b[39mload_state_dict(torch\u001b[39m.\u001b[39mload(\u001b[39mf\u001b[39m\u001b[39m'\u001b[39m\u001b[39m{\u001b[39;00mfn\u001b[39m}\u001b[39;00m\u001b[39m/model\u001b[39m\u001b[39m'\u001b[39m))  \u001b[39m# Load the saved state dictionary\u001b[39;00m\n\u001b[1;32m   1691\u001b[0m \u001b[39melse\u001b[39;00m:\n",
      "File \u001b[0;32m~/Documents/Code/#Work/tcellmatch/tcell-env/lib/python3.11/site-packages/tcellmatch/estimators/estimator_ffn.py:1771\u001b[0m, in \u001b[0;36mEstimatorFfn.initialise_model_from_settings\u001b[0;34m(self)\u001b[0m\n\u001b[1;32m   1741\u001b[0m     \u001b[39mself\u001b[39m\u001b[39m.\u001b[39m_build_sequential(\n\u001b[1;32m   1742\u001b[0m         split\u001b[39m=\u001b[39m\u001b[39mself\u001b[39m\u001b[39m.\u001b[39mmodel_hyperparam[\u001b[39m\"\u001b[39m\u001b[39msplit\u001b[39m\u001b[39m\"\u001b[39m],\n\u001b[1;32m   1743\u001b[0m         model\u001b[39m=\u001b[39m\u001b[39mself\u001b[39m\u001b[39m.\u001b[39mmodel_hyperparam[\u001b[39m\"\u001b[39m\u001b[39mmodel\u001b[39m\u001b[39m\"\u001b[39m],\n\u001b[0;32m   (...)\u001b[0m\n\u001b[1;32m   1757\u001b[0m         labels_dim\u001b[39m=\u001b[39m\u001b[39mself\u001b[39m\u001b[39m.\u001b[39mmodel_hyperparam[\u001b[39m\"\u001b[39m\u001b[39mlabels_dim\u001b[39m\u001b[39m\"\u001b[39m]\n\u001b[1;32m   1758\u001b[0m     )\n\u001b[1;32m   1759\u001b[0m \u001b[39melif\u001b[39;00m \u001b[39mself\u001b[39m\u001b[39m.\u001b[39mmodel_hyperparam[\u001b[39m\"\u001b[39m\u001b[39mmodel\u001b[39m\u001b[39m\"\u001b[39m]\u001b[39m.\u001b[39mlower() \u001b[39min\u001b[39;00m [\u001b[39m\"\u001b[39m\u001b[39msa\u001b[39m\u001b[39m\"\u001b[39m, \u001b[39m\"\u001b[39m\u001b[39mselfattention\u001b[39m\u001b[39m\"\u001b[39m]:\n\u001b[1;32m   1760\u001b[0m     \u001b[39mself\u001b[39m\u001b[39m.\u001b[39mbuild_self_attention(\n\u001b[1;32m   1761\u001b[0m         residual_connection\u001b[39m=\u001b[39m\u001b[39mself\u001b[39m\u001b[39m.\u001b[39mmodel_hyperparam[\u001b[39m\"\u001b[39m\u001b[39mresidual_connection\u001b[39m\u001b[39m\"\u001b[39m],\n\u001b[1;32m   1762\u001b[0m         aa_embedding_dim\u001b[39m=\u001b[39m\u001b[39mself\u001b[39m\u001b[39m.\u001b[39mmodel_hyperparam[\u001b[39m\"\u001b[39m\u001b[39maa_embedding_dim\u001b[39m\u001b[39m\"\u001b[39m],\n\u001b[1;32m   1763\u001b[0m         attention_size\u001b[39m=\u001b[39m\u001b[39mself\u001b[39m\u001b[39m.\u001b[39mmodel_hyperparam[\u001b[39m\"\u001b[39m\u001b[39mattention_size\u001b[39m\u001b[39m\"\u001b[39m],\n\u001b[1;32m   1764\u001b[0m         attention_heads\u001b[39m=\u001b[39m\u001b[39mself\u001b[39m\u001b[39m.\u001b[39mmodel_hyperparam[\u001b[39m\"\u001b[39m\u001b[39mattention_heads\u001b[39m\u001b[39m\"\u001b[39m],\n\u001b[1;32m   1765\u001b[0m         optimizer\u001b[39m=\u001b[39m\u001b[39mself\u001b[39m\u001b[39m.\u001b[39mmodel_hyperparam[\u001b[39m\"\u001b[39m\u001b[39moptimizer\u001b[39m\u001b[39m\"\u001b[39m],\n\u001b[1;32m   1766\u001b[0m         lr\u001b[39m=\u001b[39m\u001b[39mself\u001b[39m\u001b[39m.\u001b[39mmodel_hyperparam[\u001b[39m\"\u001b[39m\u001b[39mlr\u001b[39m\u001b[39m\"\u001b[39m],\n\u001b[1;32m   1767\u001b[0m         loss\u001b[39m=\u001b[39m\u001b[39mself\u001b[39m\u001b[39m.\u001b[39mmodel_hyperparam[\u001b[39m\"\u001b[39m\u001b[39mloss\u001b[39m\u001b[39m\"\u001b[39m],\n\u001b[1;32m   1768\u001b[0m         label_smoothing\u001b[39m=\u001b[39m\u001b[39mself\u001b[39m\u001b[39m.\u001b[39mmodel_hyperparam[\u001b[39m\"\u001b[39m\u001b[39mlabel_smoothing\u001b[39m\u001b[39m\"\u001b[39m],\n\u001b[1;32m   1769\u001b[0m         input_shapes\u001b[39m=\u001b[39m\u001b[39mself\u001b[39m\u001b[39m.\u001b[39mmodel_hyperparam[\u001b[39m\"\u001b[39m\u001b[39minput_shapes\u001b[39m\u001b[39m\"\u001b[39m],\n\u001b[1;32m   1770\u001b[0m         labels_dim\u001b[39m=\u001b[39m\u001b[39mself\u001b[39m\u001b[39m.\u001b[39mmodel_hyperparam[\u001b[39m\"\u001b[39m\u001b[39mlabels_dim\u001b[39m\u001b[39m\"\u001b[39m],\n\u001b[0;32m-> 1771\u001b[0m         use_covariates\u001b[39m=\u001b[39m\u001b[39mself\u001b[39;49m\u001b[39m.\u001b[39;49mmodel_hyperparam[\u001b[39m\"\u001b[39;49m\u001b[39muse_covariates\u001b[39;49m\u001b[39m\"\u001b[39;49m]\n\u001b[1;32m   1772\u001b[0m     )\n\u001b[1;32m   1773\u001b[0m \u001b[39melif\u001b[39;00m \u001b[39mself\u001b[39m\u001b[39m.\u001b[39mmodel_hyperparam[\u001b[39m\"\u001b[39m\u001b[39mmodel\u001b[39m\u001b[39m\"\u001b[39m]\u001b[39m.\u001b[39mlower() \u001b[39min\u001b[39;00m [\u001b[39m\"\u001b[39m\u001b[39mconv\u001b[39m\u001b[39m\"\u001b[39m, \u001b[39m\"\u001b[39m\u001b[39mconvolutional\u001b[39m\u001b[39m\"\u001b[39m]:\n\u001b[1;32m   1774\u001b[0m     \u001b[39mself\u001b[39m\u001b[39m.\u001b[39mbuild_conv(\n\u001b[1;32m   1775\u001b[0m         activations\u001b[39m=\u001b[39m\u001b[39mself\u001b[39m\u001b[39m.\u001b[39mmodel_hyperparam[\u001b[39m\"\u001b[39m\u001b[39mactivations\u001b[39m\u001b[39m\"\u001b[39m],\n\u001b[1;32m   1776\u001b[0m         n_conv_layers\u001b[39m=\u001b[39m\u001b[39mself\u001b[39m\u001b[39m.\u001b[39mmodel_hyperparam[\u001b[39m\"\u001b[39m\u001b[39mn_conv_layers\u001b[39m\u001b[39m\"\u001b[39m],\n\u001b[0;32m   (...)\u001b[0m\n\u001b[1;32m   1792\u001b[0m         dtype\u001b[39m=\u001b[39m\u001b[39mself\u001b[39m\u001b[39m.\u001b[39mmodel_hyperparam[\u001b[39m\"\u001b[39m\u001b[39mdtype\u001b[39m\u001b[39m\"\u001b[39m]\n\u001b[1;32m   1793\u001b[0m     )\n",
      "\u001b[0;31mKeyError\u001b[0m: 'use_covariates'"
     ]
    }
   ],
   "source": [
    "ffn2 = tm.models.EstimatorFfn()\n",
    "ffn2.load_model_full(fn=f'{indir}saved_model', load_train_data=False)\n",
    "print(ffn2.evaluate(test_only=True))\n",
    "ffn2.predict()"
   ]
  },
  {
   "cell_type": "markdown",
   "id": "854b66a9-1527-40d4-b3da-ebee91c32e33",
   "metadata": {},
   "source": [
    "## Plot Residuals\n",
    "This function outputs a MatPlotLib histogram of the residuals of the given antigen index (here `0`) over the test data. `predict()` must be called first to generate our test predictions."
   ]
  },
  {
   "cell_type": "code",
   "execution_count": null,
   "id": "a3ae7bbf",
   "metadata": {},
   "outputs": [],
   "source": [
    "# %% [collapsed] Import list of target binders and non-binders\n",
    "target_ids = [\n",
    "    'A0101_VTEHDTLLY_IE-1_CMV',\n",
    "    'A0201_KTWGQYWQV_gp100_Cancer',\n",
    "    'A0201_ELAGIGILTV_MART-1_Cancer',\n",
    "    'A0201_CLLWSFQTSA_Tyrosinase_Cancer',\n",
    "    'A0201_IMDQVPFSV_gp100_Cancer',\n",
    "    'A0201_SLLMWITQV_NY-ESO-1_Cancer',\n",
    "    'A0201_KVAELVHFL_MAGE-A3_Cancer',\n",
    "    'A0201_KVLEYVIKV_MAGE-A1_Cancer',\n",
    "    'A0201_CLLGTYTQDV_Kanamycin-B-dioxygenase',\n",
    "    'A0201_LLDFVRFMGV_EBNA-3B_EBV',\n",
    "    'A0201_LLMGTLGIVC_HPV-16E7_82-91',\n",
    "    'A0201_CLGGLLTMV_LMP-2A_EBV',\n",
    "    'A0201_YLLEMLWRL_LMP1_EBV',\n",
    "    'A0201_FLYALALLL_LMP2A_EBV',\n",
    "    'A0201_GILGFVFTL_Flu-MP_Influenza',\n",
    "    'A0201_GLCTLVAML_BMLF1_EBV',\n",
    "    'A0201_NLVPMVATV_pp65_CMV',\n",
    "    'A0201_ILKEPVHGV_RT_HIV',\n",
    "    'A0201_FLASKIGRLV_Ca2-indepen-Plip-A2',\n",
    "    'A2402_CYTWNQMNL_WT1-(235-243)236M_Y',\n",
    "    'A0201_RTLNAWVKV_Gag-protein_HIV',\n",
    "    'A0201_KLQCVDLHV_PSA146-154',\n",
    "    'A0201_LLFGYPVYV_HTLV-1',\n",
    "    'A0201_SLFNTVATL_Gag-protein_HIV',\n",
    "    'A0201_SLYNTVATLY_Gag-protein_HIV',\n",
    "    'A0201_SLFNTVATLY_Gag-protein_HIV',\n",
    "    'A0201_RMFPNAPYL_WT-1',\n",
    "    'A0201_YLNDHLEPWI_BCL-X_Cancer',\n",
    "    'A0201_MLDLQPETT_16E7_HPV',\n",
    "    'A0301_KLGGALQAK_IE-1_CMV',\n",
    "    'A0301_RLRAEAQVK_EMNA-3A_EBV',\n",
    "    'A0301_RIAAWMATY_BCL-2L1_Cancer',\n",
    "    'A1101_IVTDFSVIK_EBNA-3B_EBV',\n",
    "    'A1101_AVFDRKSDAK_EBNA-3B_EBV',\n",
    "    'B3501_IPSINVHHY_pp65_CMV',\n",
    "    'A2402_AYAQKIFKI_IE-1_CMV',\n",
    "    'A2402_QYDPVAALF_pp65_CMV',\n",
    "    'B0702_QPRAPIRPI_EBNA-6_EBV',\n",
    "    'B0702_TPRVTGGGAM_pp65_CMV',\n",
    "    'B0702_RPPIFIRRL_EBNA-3A_EBV',\n",
    "    'B0702_RPHERNGFTVL_pp65_CMV',\n",
    "    'B0801_RAKFKQLL_BZLF1_EBV',\n",
    "    'B0801_ELRRKMMYM_IE-1_CMV',\n",
    "    'B0801_FLRGRAYGL_EBNA-3A_EBV',\n",
    "    'A0101_SLEGGGLGY_NC',\n",
    "    'A0101_STEGGGLAY_NC',\n",
    "    'A0201_ALIAPVHAV_NC',\n",
    "    'A2402_AYSSAGASI_NC',\n",
    "    'B0702_GPAESAAGL_NC',\n",
    "    'NR(B0801)_AAKGRGAAL_NC',\n",
    "]\n",
    "nc_cols = [\n",
    "    'A0101_SLEGGGLGY_NC',\n",
    "    'A0101_STEGGGLAY_NC',\n",
    "    'A0201_ALIAPVHAV_NC',\n",
    "    'A2402_AYSSAGASI_NC',\n",
    "    'B0702_GPAESAAGL_NC',\n",
    "    'NR(B0801)_AAKGRGAAL_NC'\n",
    "]"
   ]
  },
  {
   "cell_type": "code",
   "execution_count": null,
   "id": "23410fcb-a1cf-49aa-8bf0-14f041ec5376",
   "metadata": {},
   "outputs": [
    {
     "data": {
      "image/png": "[encoded data removed]",
      "text/plain": [
       "<Figure size 640x480 with 1 Axes>"
      ]
     },
     "metadata": {},
     "output_type": "display_data"
    },
    {
     "data": {
      "image/png": "[encoded data removed]",
      "text/plain": [
       "<Figure size 640x480 with 1 Axes>"
      ]
     },
     "metadata": {},
     "output_type": "display_data"
    }
   ],
   "source": [
    "ffn.plot_residuals(antigen_idx=0, target_ids=target_ids)\n",
    "ffn.compare_preds(antigen_idx=0, target_ids=target_ids)"
   ]
  }
 ],
 "metadata": {
  "kernelspec": {
   "display_name": "tcell-env",
   "language": "python",
   "name": "python3"
  },
  "language_info": {
   "codemirror_mode": {
    "name": "ipython",
    "version": 3
   },
   "file_extension": ".py",
   "mimetype": "text/x-python",
   "name": "python",
   "nbconvert_exporter": "python",
   "pygments_lexer": "ipython3",
   "version": "3.11.3"
  }
 },
 "nbformat": 4,
 "nbformat_minor": 5
}
