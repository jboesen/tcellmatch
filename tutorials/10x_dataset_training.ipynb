{
 "cells": [
  {
   "cell_type": "markdown",
   "metadata": {
    "tags": []
   },
   "source": [
    "# 10X ``tcellmatch`` Tutorial - Training"
   ]
  },
  {
   "cell_type": "markdown",
   "metadata": {},
   "source": [
    "Make sure to run the previous notebook 10x_dataset_preprocessing.ipynb before running this notebook. It also contains details on the dataset used in this tutorial and how it is processed."
   ]
  },
  {
   "cell_type": "code",
   "execution_count": 1,
   "metadata": {
    "scrolled": true
   },
   "outputs": [],
   "source": [
    "# Third party libraries\n",
    "import pandas as pd\n",
    "import torch\n",
    "import numpy as np  \n",
    "import wandb\n",
    "\n",
    "# Visualization\n",
    "import matplotlib.pyplot as plt\n",
    "import seaborn as sns\n",
    "\n",
    "# Utils\n",
    "from datetime import datetime\n",
    "import os\n",
    "\n",
    "# Custom/local \n",
    "import tcellmatch.api as tm\n",
    "\n",
    "# ML models\n",
    "from sklearn.metrics import confusion_matrix"
   ]
  },
  {
   "cell_type": "code",
   "execution_count": 2,
   "metadata": {},
   "outputs": [],
   "source": [
    "device = 'cpu'\n",
    "if torch.cuda.is_available():\n",
    "    device = 'cuda'"
   ]
  },
  {
   "cell_type": "markdown",
   "metadata": {
    "tags": []
   },
   "source": [
    "# Load Data"
   ]
  },
  {
   "cell_type": "markdown",
   "metadata": {},
   "source": [
    "This data is saved when running the previous notebook ``10x_dataset_preprocessing.ipynb.``"
   ]
  },
  {
   "cell_type": "code",
   "execution_count": 3,
   "metadata": {},
   "outputs": [],
   "source": [
    "ffn = tm.models.EstimatorFfn()\n",
    "indir = '../tutorial_data/'\n",
    "data = np.load(f\"{indir}ffn_data_big_c.npz\")\n",
    "ffn.x_train = data[\"x_train\"]\n",
    "ffn.covariates_train = data[\"covariates_train\"]\n",
    "ffn.y_train = data[\"y_train\"]\n",
    "ffn.x_test = data[\"x_test\"]\n",
    "ffn.covariates_test = data[\"covariates_test\"]\n",
    "ffn.y_test = data[\"y_test\"]\n",
    "ffn.clone_train = data[\"clone_train\"]"
   ]
  },
  {
   "cell_type": "markdown",
   "metadata": {},
   "source": [
    "These indices are used to split the data into train, validation, and test sets."
   ]
  },
  {
   "cell_type": "code",
   "execution_count": 4,
   "metadata": {},
   "outputs": [],
   "source": [
    "ffn.load_idx(f'{indir}SAVED_IDX')"
   ]
  },
  {
   "cell_type": "markdown",
   "metadata": {},
   "source": [
    "# Build Model\n",
    "Here, we can build two models: a BiLSTM-based or self-attention-based model, detailed above.\n",
    "\n",
    "Loss has the following possible parameters\n",
    "\n",
    "1. Discrete\n",
    "    1. Binary Crossentropy (param \"bce\")\n",
    "    2. Weighted Binary Crossentropy (param \"wbce\")\n",
    "    3. Categorical Crossentropy (param \"cce\")\n",
    "2. Continuous\n",
    "    1. MMD (param \"mmd\")\n",
    "    2. Mean Squared error (param \"mse\")\n",
    "    3. Poisson (param \"pois\")\n",
    "    \n",
    "Calling one of these creates the model and sets the ffn.model attribute."
   ]
  },
  {
   "cell_type": "code",
   "execution_count": 5,
   "metadata": {},
   "outputs": [],
   "source": [
    "model_name = 'self-attention'\n",
    "USE_BIND_COUNTS = True"
   ]
  },
  {
   "cell_type": "code",
   "execution_count": 6,
   "metadata": {},
   "outputs": [],
   "source": [
    "if model_name.lower() == 'self-attention':\n",
    "    n_layers = 5\n",
    "    ffn.build_self_attention(\n",
    "        aa_embedding_dim=0,\n",
    "        attention_size=[5] * n_layers, # hidden size of each attention layer\n",
    "        attention_heads=[4] * n_layers, # number of heads at each layer\n",
    "        optimizer='adam',\n",
    "        lr=0.001,\n",
    "        loss='pois' if USE_BIND_COUNTS else 'wbce',\n",
    "        label_smoothing=0\n",
    "    )\n",
    "elif model_name.lower() == 'bilstm':\n",
    "    ffn.build_bilstm(\n",
    "        topology = [10, 10, 10, 10], # The depth of each bilstm layer (length of feature vector)\n",
    "        # Dimension of the linear amino acid embedding, ie number of 1x1 convolutional filters.\n",
    "        # set to input dimension if aa_embedding_dim==0.\n",
    "        aa_embedding_dim=0,\n",
    "        optimizer='adam',\n",
    "        lr=0.001,\n",
    "        loss='pois' if USE_BIND_COUNTS else 'wcbe',\n",
    "        label_smoothing=0,\n",
    "        use_covariates=False,        # whether to assume covariates in model architecture\n",
    "        one_hot_y=not USE_BIND_COUNTS # whether we are predicting max binding categorical or bind counts\n",
    "    )\n",
    "elif model_name.lower() == 'bigru':\n",
    "    ffn.build_bigru(\n",
    "        topology=[10, 10, 10],\n",
    "        aa_embedding_dim=0,\n",
    "        lr=0.005,\n",
    "        loss='pois' if USE_BIND_COUNTS else 'wbce',\n",
    "        optimize_for_gpu= True,\n",
    "    )\n",
    "elif model_name.lower() == 'cnn':\n",
    "    ffn.build_conv(\n",
    "        n_conv_layers = 3,\n",
    "        depth_final_dense = 3,\n",
    "        filter_widths = [3, 5, 3],  # Filter widths for the three convolutional layers\n",
    "        filters = [16, 32, 64],  # Output channels for the three convolutional layers\n",
    "        pool_sizes = [2] * 3,  # Size of the pooling window\n",
    "        pool_strides = [2] * 3,  # Stride for moving the pooling window,\n",
    "        loss='pois' if USE_BIND_COUNTS else 'wbce',\n",
    "    )\n",
    "ffn.model = ffn.model.to(device) \n",
    "\n",
    "for param in ffn.model.parameters():\n",
    "    param = param.to(device) "
   ]
  },
  {
   "cell_type": "markdown",
   "metadata": {},
   "source": [
    "# Train model\n",
    "Train this model for 2 epochs     "
   ]
  },
  {
   "cell_type": "code",
   "execution_count": 7,
   "metadata": {},
   "outputs": [
    {
     "data": {
      "text/plain": [
       "(0,)"
      ]
     },
     "execution_count": 7,
     "metadata": {},
     "output_type": "execute_result"
    }
   ],
   "source": [
    "ffn.idx_train.shape"
   ]
  },
  {
   "cell_type": "code",
   "execution_count": 8,
   "metadata": {},
   "outputs": [],
   "source": [
    "EPOCHS = 100\n",
    "batch_size = 100000"
   ]
  },
  {
   "cell_type": "code",
   "execution_count": 9,
   "metadata": {
    "scrolled": true,
    "tags": []
   },
   "outputs": [
    {
     "name": "stdout",
     "output_type": "stream",
     "text": [
      "started training...\n",
      "Number of observations in evaluation data: 7903\n",
      "Number of observations in training data: 71093\n",
      "Epoch 0, loss: 2.41\n",
      "Epoch 1, loss: 2.27\n",
      "Epoch 2, loss: 2.14\n",
      "Epoch 3, loss: 2.02\n",
      "Epoch 4, loss: 1.91\n",
      "Epoch 5, loss: 1.8\n",
      "Epoch 6, loss: 1.7\n",
      "Epoch 7, loss: 1.61\n",
      "Epoch 8, loss: 1.53\n",
      "Epoch 9, loss: 1.47\n",
      "Epoch 10, loss: 1.44\n",
      "Epoch 11, loss: 1.43\n",
      "Epoch 12, loss: 1.43\n",
      "Epoch 13, loss: 1.43\n",
      "Epoch 14, loss: 1.42\n",
      "Epoch 15, loss: 1.4\n",
      "Epoch 16, loss: 1.38\n",
      "Epoch 17, loss: 1.37\n",
      "Epoch 18, loss: 1.36\n",
      "Epoch 19, loss: 1.36\n",
      "Epoch 20, loss: 1.36\n",
      "Epoch 21, loss: 1.37\n",
      "Epoch 22, loss: 1.37\n",
      "Training stopped early at epoch 22\n"
     ]
    }
   ],
   "source": [
    "train_curve, val_curve, antigen_loss, antigen_loss_val = ffn.train(\n",
    "    epochs=EPOCHS,\n",
    "    batch_size=batch_size,\n",
    "    allow_early_stopping=True,\n",
    "    print_loss=True,\n",
    "    lr_schedule_factor=0.99999,\n",
    "    use_wandb=False\n",
    "    )"
   ]
  },
  {
   "cell_type": "markdown",
   "metadata": {},
   "source": [
    "# Plot Loss Curves"
   ]
  },
  {
   "cell_type": "code",
   "execution_count": 10,
   "metadata": {},
   "outputs": [
    {
     "data": {
      "image/png": "[encoded data removed]",
      "text/plain": [
       "<Figure size 432x288 with 1 Axes>"
      ]
     },
     "metadata": {
      "needs_background": "light"
     },
     "output_type": "display_data"
    }
   ],
   "source": [
    "# Plotting the curves\n",
    "plt.plot(train_curve, label='Train Curve')\n",
    "plt.plot(val_curve, label='Validation Curve')\n",
    "\n",
    "# Adding labels and title\n",
    "plt.xlabel('Epochs')\n",
    "plt.ylabel('Loss')\n",
    "plt.title('Training and Validation Curves')\n",
    "\n",
    "# Adding legend\n",
    "plt.legend()\n",
    "\n",
    "# Displaying the plot\n",
    "plt.show()\n"
   ]
  },
  {
   "cell_type": "markdown",
   "metadata": {},
   "source": [
    "## Get Embeddings"
   ]
  },
  {
   "cell_type": "code",
   "execution_count": 11,
   "metadata": {},
   "outputs": [
    {
     "data": {
      "text/plain": [
       "tensor([[-0.1753,  0.2306,  0.0907,  ...,  0.2247,  0.1784,  0.1645]],\n",
       "       device='cuda:0', grad_fn=<ViewBackward0>)"
      ]
     },
     "execution_count": 11,
     "metadata": {},
     "output_type": "execute_result"
    }
   ],
   "source": [
    "ffn.model.get_embeddings(torch.ones(1, 1, 40, 26, device=device))"
   ]
  },
  {
   "cell_type": "markdown",
   "metadata": {},
   "source": [
    "# Use Model"
   ]
  },
  {
   "cell_type": "markdown",
   "metadata": {},
   "source": [
    "## Evaluate on test set\n",
    "This evaluates the data and returns binary and custom (i.e., based on how the model was built above) loss metrics"
   ]
  },
  {
   "cell_type": "code",
   "execution_count": 12,
   "metadata": {},
   "outputs": [
    {
     "data": {
      "text/plain": [
       "{'test': {PoissonNLLLoss(): 1.45388891432994,\n",
       "  'Binary Accuracy': 42.63280988974273}}"
      ]
     },
     "execution_count": 12,
     "metadata": {},
     "output_type": "execute_result"
    }
   ],
   "source": [
    "ffn.evaluate(\n",
    "    # given k, returns loss only over the kth antigen in test\n",
    "    antigen_col=None\n",
    ")"
   ]
  },
  {
   "cell_type": "markdown",
   "metadata": {},
   "source": [
    "## Save the Model"
   ]
  },
  {
   "cell_type": "code",
   "execution_count": 13,
   "metadata": {},
   "outputs": [
    {
     "name": "stdout",
     "output_type": "stream",
     "text": [
      "Saved model to ../tutorial_data/saved_model-8-2--18:56\n"
     ]
    }
   ],
   "source": [
    "timestamp = datetime.now().strftime(\"%-m-%-d--%-H:%M\")\n",
    "os.makedirs(f'{indir}saved_model-{timestamp}', exist_ok=True)\n",
    "# save_yhat means save predictions\n",
    "ffn.save_model_full(f'{indir}saved_model-{timestamp}', save_yhat=True, save_train_data=False)\n",
    "print(f'Saved model to {indir}saved_model-{timestamp}')"
   ]
  },
  {
   "cell_type": "code",
   "execution_count": 14,
   "metadata": {},
   "outputs": [
    {
     "data": {
      "text/plain": [
       "'8-2--18:56'"
      ]
     },
     "execution_count": 14,
     "metadata": {},
     "output_type": "execute_result"
    }
   ],
   "source": [
    "timestamp"
   ]
  },
  {
   "cell_type": "markdown",
   "metadata": {},
   "source": [
    "## Evaluate/Compare the Model\n",
    "We predict the labels on test data and store to ``ffn.predictions``"
   ]
  },
  {
   "cell_type": "code",
   "execution_count": 15,
   "metadata": {},
   "outputs": [
    {
     "data": {
      "text/plain": [
       "(8979, 50)"
      ]
     },
     "execution_count": 15,
     "metadata": {},
     "output_type": "execute_result"
    }
   ],
   "source": [
    "ffn.predict()\n",
    "ffn.predictions.shape"
   ]
  },
  {
   "cell_type": "markdown",
   "metadata": {},
   "source": [
    "## Create Confusion Matrix\n",
    "This is only applicable, of course, if you've used the one-hot encoded maximum binding y-data. If it is, you can use this to also compare with the original tcellmatch in torch\n"
   ]
  },
  {
   "cell_type": "code",
   "execution_count": 16,
   "metadata": {},
   "outputs": [],
   "source": [
    "if not USE_BIND_COUNTS:\n",
    "    true_labels = np.argmax(ffn.y_test, axis=1)\n",
    "    predicted_labels = np.argmax(ffn.predictions, axis=1)\n",
    "\n",
    "    cm = confusion_matrix(true_labels, predicted_labels)\n",
    "\n",
    "    plt.figure(figsize=(8, 6))\n",
    "    sns.heatmap(cm, annot=True, cmap='Blues', fmt='d')\n",
    "    plt.xlabel('Predicted')\n",
    "    plt.ylabel('True')\n",
    "    plt.title('Confusion Matrix')\n",
    "    plt.show()"
   ]
  },
  {
   "cell_type": "markdown",
   "metadata": {},
   "source": [
    "## Reproduce evaluation in a new instance of model w/ same weights\n",
    "We load the model, with weights and data included, and evaluate and predict on the test data"
   ]
  },
  {
   "cell_type": "code",
   "execution_count": 17,
   "metadata": {},
   "outputs": [],
   "source": [
    "ffn2 = tm.models.EstimatorFfn()\n",
    "ffn2.load_model_full(fn=f'{indir}saved_model-{timestamp}', load_train_data=False)"
   ]
  },
  {
   "cell_type": "code",
   "execution_count": 18,
   "metadata": {},
   "outputs": [],
   "source": [
    "# TODO -> fix this\n",
    "ffn2.model.embed_attention_layers = torch.nn.ModuleList([l.to(device=device) for l in ffn2.model.embed_attention_layers])\n",
    "ffn2.model.linear_layers = torch.nn.ModuleList([l.to(device=device) for l in ffn2.model.linear_layers])"
   ]
  },
  {
   "cell_type": "code",
   "execution_count": 19,
   "metadata": {},
   "outputs": [
    {
     "name": "stdout",
     "output_type": "stream",
     "text": [
      "{'test': {PoissonNLLLoss(): 1.45388891432994, 'Binary Accuracy': 42.63280988974273}}\n"
     ]
    }
   ],
   "source": [
    "print(ffn2.evaluate(test_only=True))\n",
    "ffn2.predict()"
   ]
  },
  {
   "cell_type": "code",
   "execution_count": 1,
   "metadata": {},
   "outputs": [
    {
     "ename": "NameError",
     "evalue": "name 'ffn2' is not defined",
     "output_type": "error",
     "traceback": [
      "\u001b[0;31m---------------------------------------------------------------------------\u001b[0m",
      "\u001b[0;31mNameError\u001b[0m                                 Traceback (most recent call last)",
      "Cell \u001b[0;32mIn[1], line 1\u001b[0m\n\u001b[0;32m----> 1\u001b[0m ffn2\u001b[38;5;241m.\u001b[39mpredictions\n",
      "\u001b[0;31mNameError\u001b[0m: name 'ffn2' is not defined"
     ]
    }
   ],
   "source": [
    "ffn2.predictions"
   ]
  },
  {
   "cell_type": "markdown",
   "metadata": {},
   "source": [
    "## Plot Residuals\n",
    "This function outputs a MatPlotLib histogram of the residuals of the given antigen index (here 0) over the test data. predict() must be called first to generate our test predictions."
   ]
  },
  {
   "cell_type": "code",
   "execution_count": 20,
   "metadata": {},
   "outputs": [],
   "source": [
    "# %% [collapsed] Import list of target binders and non-binders\n",
    "target_ids = [\n",
    "    'A0101_VTEHDTLLY_IE-1_CMV',\n",
    "    'A0201_KTWGQYWQV_gp100_Cancer',\n",
    "    'A0201_ELAGIGILTV_MART-1_Cancer',\n",
    "    'A0201_CLLWSFQTSA_Tyrosinase_Cancer',\n",
    "    'A0201_IMDQVPFSV_gp100_Cancer',\n",
    "    'A0201_SLLMWITQV_NY-ESO-1_Cancer',\n",
    "    'A0201_KVAELVHFL_MAGE-A3_Cancer',\n",
    "    'A0201_KVLEYVIKV_MAGE-A1_Cancer',\n",
    "    'A0201_CLLGTYTQDV_Kanamycin-B-dioxygenase',\n",
    "    'A0201_LLDFVRFMGV_EBNA-3B_EBV',\n",
    "    'A0201_LLMGTLGIVC_HPV-16E7_82-91',\n",
    "    'A0201_CLGGLLTMV_LMP-2A_EBV',\n",
    "    'A0201_YLLEMLWRL_LMP1_EBV',\n",
    "    'A0201_FLYALALLL_LMP2A_EBV',\n",
    "    'A0201_GILGFVFTL_Flu-MP_Influenza',\n",
    "    'A0201_GLCTLVAML_BMLF1_EBV',\n",
    "    'A0201_NLVPMVATV_pp65_CMV',\n",
    "    'A0201_ILKEPVHGV_RT_HIV',\n",
    "    'A0201_FLASKIGRLV_Ca2-indepen-Plip-A2',\n",
    "    'A2402_CYTWNQMNL_WT1-(235-243)236M_Y',\n",
    "    'A0201_RTLNAWVKV_Gag-protein_HIV',\n",
    "    'A0201_KLQCVDLHV_PSA146-154',\n",
    "    'A0201_LLFGYPVYV_HTLV-1',\n",
    "    'A0201_SLFNTVATL_Gag-protein_HIV',\n",
    "    'A0201_SLYNTVATLY_Gag-protein_HIV',\n",
    "    'A0201_SLFNTVATLY_Gag-protein_HIV',\n",
    "    'A0201_RMFPNAPYL_WT-1',\n",
    "    'A0201_YLNDHLEPWI_BCL-X_Cancer',\n",
    "    'A0201_MLDLQPETT_16E7_HPV',\n",
    "    'A0301_KLGGALQAK_IE-1_CMV',\n",
    "    'A0301_RLRAEAQVK_EMNA-3A_EBV',\n",
    "    'A0301_RIAAWMATY_BCL-2L1_Cancer',\n",
    "    'A1101_IVTDFSVIK_EBNA-3B_EBV',\n",
    "    'A1101_AVFDRKSDAK_EBNA-3B_EBV',\n",
    "    'B3501_IPSINVHHY_pp65_CMV',\n",
    "    'A2402_AYAQKIFKI_IE-1_CMV',\n",
    "    'A2402_QYDPVAALF_pp65_CMV',\n",
    "    'B0702_QPRAPIRPI_EBNA-6_EBV',\n",
    "    'B0702_TPRVTGGGAM_pp65_CMV',\n",
    "    'B0702_RPPIFIRRL_EBNA-3A_EBV',\n",
    "    'B0702_RPHERNGFTVL_pp65_CMV',\n",
    "    'B0801_RAKFKQLL_BZLF1_EBV',\n",
    "    'B0801_ELRRKMMYM_IE-1_CMV',\n",
    "    'B0801_FLRGRAYGL_EBNA-3A_EBV',\n",
    "    'A0101_SLEGGGLGY_NC',\n",
    "    'A0101_STEGGGLAY_NC',\n",
    "    'A0201_ALIAPVHAV_NC',\n",
    "    'A2402_AYSSAGASI_NC',\n",
    "    'B0702_GPAESAAGL_NC',\n",
    "    'NR(B0801)_AAKGRGAAL_NC',\n",
    "]\n",
    "nc_cols = [\n",
    "    'A0101_SLEGGGLGY_NC',\n",
    "    'A0101_STEGGGLAY_NC',\n",
    "    'A0201_ALIAPVHAV_NC',\n",
    "    'A2402_AYSSAGASI_NC',\n",
    "    'B0702_GPAESAAGL_NC',\n",
    "    'NR(B0801)_AAKGRGAAL_NC'\n",
    "]"
   ]
  },
  {
   "cell_type": "code",
   "execution_count": 21,
   "metadata": {},
   "outputs": [
    {
     "data": {
      "image/png": "[encoded data removed]",
      "text/plain": [
       "<Figure size 432x288 with 1 Axes>"
      ]
     },
     "metadata": {
      "needs_background": "light"
     },
     "output_type": "display_data"
    },
    {
     "data": {
      "image/png": "[encoded data removed]",
      "text/plain": [
       "<Figure size 432x288 with 1 Axes>"
      ]
     },
     "metadata": {
      "needs_background": "light"
     },
     "output_type": "display_data"
    }
   ],
   "source": [
    "ffn.plot_residuals(antigen_idx=0, target_ids=target_ids)\n",
    "ffn.compare_preds(antigen_idx=0, target_ids=target_ids)"
   ]
  },
  {
   "cell_type": "code",
   "execution_count": null,
   "metadata": {},
   "outputs": [],
   "source": []
  }
 ],
 "metadata": {
  "kernelspec": {
   "display_name": "jboesen tcellmatch",
   "language": "python",
   "name": "jboesen"
  },
  "language_info": {
   "codemirror_mode": {
    "name": "ipython",
    "version": 3
   },
   "file_extension": ".py",
   "mimetype": "text/x-python",
   "name": "python",
   "nbconvert_exporter": "python",
   "pygments_lexer": "ipython3",
   "version": "3.11.0"
  },
  "toc": {
   "base_numbering": 1,
   "nav_menu": {},
   "number_sections": true,
   "sideBar": true,
   "skip_h1_title": false,
   "title_cell": "Table of Contents",
   "title_sidebar": "Contents",
   "toc_cell": false,
   "toc_position": {},
   "toc_section_display": true,
   "toc_window_display": true
  }
 },
 "nbformat": 4,
 "nbformat_minor": 4
}
