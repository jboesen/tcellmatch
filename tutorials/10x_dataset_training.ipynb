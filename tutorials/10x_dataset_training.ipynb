{
 "cells": [
  {
   "cell_type": "markdown",
   "id": "db7736ad",
   "metadata": {},
   "source": [
    "# 10X `tcellmatch` Tutorial - Training\n",
    "Make sure to run the previous notebook `10x_dataset_preprocessing.ipynb` before running this notebook. It also contains details on the dataset used in this tutorial and how it is processed. "
   ]
  },
  {
   "cell_type": "code",
   "execution_count": 2,
   "id": "208b6333-9bc2-4057-b0af-180fdd582e7a",
   "metadata": {},
   "outputs": [],
   "source": [
    "import pandas as pd\n",
    "import tcellmatch.api as tm\n",
    "from sklearn.metrics import confusion_matrix\n",
    "import matplotlib.pyplot as plt\n",
    "import seaborn as sns\n",
    "from pytorch_model_summary import summary\n",
    "from torchmetrics import Accuracy\n",
    "import torch\n",
    "import os\n",
    "import numpy as np\n",
    "import wandb"
   ]
  },
  {
   "cell_type": "markdown",
   "id": "86f2078a-fc09-4550-b3c7-14602257e274",
   "metadata": {},
   "source": [
    "# Load Data"
   ]
  },
  {
   "cell_type": "markdown",
   "id": "275f00c4",
   "metadata": {},
   "source": [
    "This data is saved when running the previous notebook `10x_dataset_preprocessing.ipynb`."
   ]
  },
  {
   "cell_type": "code",
   "execution_count": 3,
   "id": "284466c4-5f02-4011-b17b-24b6e800bdc0",
   "metadata": {},
   "outputs": [],
   "source": [
    "ffn = tm.models.EstimatorFfn()\n",
    "indir = '../tutorial_data/'\n",
    "data = np.load(f\"{indir}ffn_data_ds_continuous.npz\")\n",
    "ffn.x_train = data[\"x_train\"]\n",
    "ffn.covariates_train = data[\"covariates_train\"]\n",
    "ffn.y_train = data[\"y_train\"]\n",
    "ffn.x_test = data[\"x_test\"]\n",
    "ffn.covariates_test = data[\"covariates_test\"]\n",
    "ffn.y_test = data[\"y_test\"]\n",
    "ffn.clone_train = data[\"clone_train\"]"
   ]
  },
  {
   "cell_type": "markdown",
   "id": "4e260df0",
   "metadata": {},
   "source": [
    "These indices are used to split the data into train, validation, and test sets.\n",
    "\n",
    "```python"
   ]
  },
  {
   "cell_type": "code",
   "execution_count": 4,
   "id": "95fe810f-b685-493e-a664-220e06e463b6",
   "metadata": {},
   "outputs": [],
   "source": [
    "ffn.load_idx(f'{indir}SAVED_IDX')"
   ]
  },
  {
   "cell_type": "markdown",
   "id": "d984895f-988f-4944-9c2d-ae0946148f72",
   "metadata": {},
   "source": [
    "# Build Model\n",
    "Here, we can build two models: a BiLSTM-based or self-attention-based model, detailed above.\n",
    "\n",
    "Loss has the following possible parameters\n",
    "\n",
    "1. Discrete\n",
    "    1. Binary Crossentropy (param \"bce\")\n",
    "    2. Weighted Binary Crossentropy (param \"wbce\")\n",
    "    3. Categorical Crossentropy (param \"cce\")\n",
    "2. Continuous\n",
    "    1. MMD (param \"mmd\")\n",
    "    2. Mean Squared error (param \"mse\")\n",
    "    3. Poisson (param \"pois\")\n",
    "    \n",
    "Calling one of these creates the model and sets the ffn.model attribute."
   ]
  },
  {
   "cell_type": "code",
   "execution_count": 5,
   "id": "0d1dd677-d229-49c8-b31d-e52417c55e10",
   "metadata": {},
   "outputs": [],
   "source": [
    "model_name = 'CNN'\n",
    "USE_BIND_COUNTS = True"
   ]
  },
  {
   "cell_type": "code",
   "execution_count": 6,
   "id": "9a56ad08-aa34-433d-900c-d8bb8efb86a9",
   "metadata": {},
   "outputs": [],
   "source": [
    "if model_name.lower() == 'self-attention':\n",
    "    ffn.build_self_attention(\n",
    "        residual_connection=True,\n",
    "        aa_embedding_dim=0,\n",
    "        # hidden size of each attention layer\n",
    "        attention_size=[5, 5],\n",
    "        # number of heads at each layer\n",
    "        attention_heads=[4, 4],\n",
    "        optimizer='adam',\n",
    "        lr=0.001,\n",
    "        loss='mmd' if USE_BIND_COUNTS else 'wbce',\n",
    "        label_smoothing=0\n",
    "    )\n",
    "elif model_name.lower() == 'bilstm':\n",
    "    ffn.build_bilstm(\n",
    "        # The depth of each bilstm layer (length of feature vector)\n",
    "        topology = [10, 10, 10, 10],\n",
    "        # Dimension of the linear amino acid embedding, ie number of 1x1 convolutional filters.\n",
    "        # set to input dimension if aa_embedding_dim==0.\n",
    "        aa_embedding_dim=0,\n",
    "        optimizer='adam',\n",
    "        lr=0.001,\n",
    "        loss='pois' if USE_BIND_COUNTS else 'wcbe',\n",
    "        label_smoothing=0,\n",
    "        # whether to assume covariates in model architecture\n",
    "        use_covariates=False,\n",
    "        # whether we are predicting max binding categorical\n",
    "        # or binding counts\n",
    "        one_hot_y=not USE_BIND_COUNTS\n",
    "    )\n",
    "elif model_name.lower() == 'bigru':\n",
    "    ffn.build_bigru(\n",
    "        topology=[10, 10, 10],\n",
    "        aa_embedding_dim=0,\n",
    "        lr=0.005,\n",
    "        loss='pois' if USE_BIND_COUNTS else 'wbce',\n",
    "        optimize_for_gpu= True,\n",
    "    )\n",
    "elif model_name.lower() == 'cnn':\n",
    "    ffn.build_conv(\n",
    "        n_conv_layers = 3,\n",
    "        depth_final_dense = 3,\n",
    "        filter_widths = [3, 5, 3],  # Filter widths for the three convolutional layers\n",
    "        filters = [16, 32, 64],  # Output channels for the three convolutional layers\n",
    "        pool_sizes = [2] * 3,  # Size of the pooling window\n",
    "        pool_strides = [2] * 3,  # Stride for moving the pooling window,\n",
    "        loss='pois' if USE_BIND_COUNTS else 'wbce',\n",
    "    )"
   ]
  },
  {
   "cell_type": "markdown",
   "id": "565807b7-637c-4cb1-9383-960f63112d6f",
   "metadata": {},
   "source": [
    "# Train model\n",
    "Train this model for 2 epochs     "
   ]
  },
  {
   "cell_type": "code",
   "execution_count": 7,
   "id": "fbf54108-744e-4e54-83e6-68cfa9bd3798",
   "metadata": {},
   "outputs": [
    {
     "name": "stderr",
     "output_type": "stream",
     "text": [
      "Failed to detect the name of this notebook, you can set it manually with the WANDB_NOTEBOOK_NAME environment variable to enable code saving.\n"
     ]
    },
    {
     "name": "stderr",
     "output_type": "stream",
     "text": [
      "\u001b[34m\u001b[1mwandb\u001b[0m: Currently logged in as: \u001b[33mjmboesen\u001b[0m. Use \u001b[1m`wandb login --relogin`\u001b[0m to force relogin\n"
     ]
    },
    {
     "data": {
      "text/html": [
       "wandb version 0.15.5 is available!  To upgrade, please run:\n",
       " $ pip install wandb --upgrade"
      ],
      "text/plain": [
       "<IPython.core.display.HTML object>"
      ]
     },
     "metadata": {},
     "output_type": "display_data"
    },
    {
     "data": {
      "text/html": [
       "Tracking run with wandb version 0.15.4"
      ],
      "text/plain": [
       "<IPython.core.display.HTML object>"
      ]
     },
     "metadata": {},
     "output_type": "display_data"
    },
    {
     "data": {
      "text/html": [
       "Run data is saved locally in <code>/Users/johnboesen/Documents/Code/#Work/tcellmatch/tutorials/wandb/run-20230709_230022-asxu4m1p</code>"
      ],
      "text/plain": [
       "<IPython.core.display.HTML object>"
      ]
     },
     "metadata": {},
     "output_type": "display_data"
    },
    {
     "data": {
      "text/html": [
       "Syncing run <strong><a href='https://wandb.ai/jmboesen/TCR%20fitting/runs/asxu4m1p' target=\"_blank\">young-salad-5</a></strong> to <a href='https://wandb.ai/jmboesen/TCR%20fitting' target=\"_blank\">Weights & Biases</a> (<a href='https://wandb.me/run' target=\"_blank\">docs</a>)<br/>"
      ],
      "text/plain": [
       "<IPython.core.display.HTML object>"
      ]
     },
     "metadata": {},
     "output_type": "display_data"
    },
    {
     "data": {
      "text/html": [
       " View project at <a href='https://wandb.ai/jmboesen/TCR%20fitting' target=\"_blank\">https://wandb.ai/jmboesen/TCR%20fitting</a>"
      ],
      "text/plain": [
       "<IPython.core.display.HTML object>"
      ]
     },
     "metadata": {},
     "output_type": "display_data"
    },
    {
     "data": {
      "text/html": [
       " View run at <a href='https://wandb.ai/jmboesen/TCR%20fitting/runs/asxu4m1p' target=\"_blank\">https://wandb.ai/jmboesen/TCR%20fitting/runs/asxu4m1p</a>"
      ],
      "text/plain": [
       "<IPython.core.display.HTML object>"
      ]
     },
     "metadata": {},
     "output_type": "display_data"
    },
    {
     "data": {
      "text/html": [
       "<button onClick=\"this.nextSibling.style.display='block';this.style.display='none';\">Display W&B run</button><iframe src='https://wandb.ai/jmboesen/TCR%20fitting/runs/asxu4m1p?jupyter=true' style='border:none;width:100%;height:420px;display:none;'></iframe>"
      ],
      "text/plain": [
       "<wandb.sdk.wandb_run.Run at 0x12e186150>"
      ]
     },
     "execution_count": 7,
     "metadata": {},
     "output_type": "execute_result"
    }
   ],
   "source": [
    "EPOCHS = 2\n",
    "batch_size = 100000\n",
    "lr = 0.001\n",
    "depth_final_dense = 3\n",
    "wandb.init(\n",
    "    # set the wandb project where this run will be logged\n",
    "    project=\"TCR fitting\",\n",
    "    # track hyperparameters and run metadata\n",
    "    config={\n",
    "    \"learning_rate\": lr,\n",
    "    \"architecture\": model_name,\n",
    "    \"batch_size\": batch_size,\n",
    "    \"depth_final_dense\" : depth_final_dense,\n",
    "    },\n",
    "    reinit=True\n",
    ")"
   ]
  },
  {
   "cell_type": "code",
   "execution_count": 8,
   "id": "49b938ec-e881-4a08-afd8-0e8615179dca",
   "metadata": {
    "scrolled": true
   },
   "outputs": [
    {
     "name": "stdout",
     "output_type": "stream",
     "text": [
      "Number of observations in evaluation data: 19\n",
      "Number of observations in training data: 181\n",
      "input conv torch.Size([181, 40, 26])\n",
      "output conv torch.Size([181, 64, 5])\n",
      "2.0137991905212402\n",
      "input conv torch.Size([19, 40, 26])\n",
      "output conv torch.Size([19, 64, 5])\n",
      "input conv torch.Size([181, 40, 26])\n",
      "output conv torch.Size([181, 64, 5])\n",
      "1.9823182821273804\n",
      "input conv torch.Size([19, 40, 26])\n",
      "output conv torch.Size([19, 64, 5])\n"
     ]
    }
   ],
   "source": [
    "train_curve, val_curve, antigen_loss, antigen_loss_val = ffn.train(\n",
    "    epochs=EPOCHS,\n",
    "    batch_size=batch_size,\n",
    "    # tensorboard logs to this directory\n",
    "    log_dir='training_runs',\n",
    "    # if true, saves epochs x n_classes as ffn.antigen_loss\n",
    "    # ijth element is loss of ith epoch on jth antigen\n",
    "    # save_antigen_loss=True,\n",
    "    allow_early_stopping=False,\n",
    "    print_loss=True,\n",
    "    lr_schedule_factor=0.99999,\n",
    "    use_wandb=True\n",
    "    )"
   ]
  },
  {
   "cell_type": "markdown",
   "id": "35fa9ccc-b798-431f-a9f5-d89e5a1a62bb",
   "metadata": {},
   "source": [
    "### Plot Loss Curves"
   ]
  },
  {
   "cell_type": "code",
   "execution_count": 9,
   "id": "5b91a999-22ea-4fb6-9c49-d6b171a41f49",
   "metadata": {},
   "outputs": [
    {
     "data": {
      "image/png": "[encoded data removed]",
      "text/plain": [
       "<Figure size 640x480 with 1 Axes>"
      ]
     },
     "metadata": {},
     "output_type": "display_data"
    }
   ],
   "source": [
    "# Plotting the curves\n",
    "plt.plot(train_curve, label='Train Curve')\n",
    "plt.plot(val_curve, label='Validation Curve')\n",
    "\n",
    "# Adding labels and title\n",
    "plt.xlabel('Epochs')\n",
    "plt.ylabel('Loss')\n",
    "plt.title('Training and Validation Curves')\n",
    "\n",
    "# Adding legend\n",
    "plt.legend()\n",
    "\n",
    "# Displaying the plot\n",
    "plt.show()"
   ]
  },
  {
   "cell_type": "markdown",
   "id": "27fb561b-47f3-4869-b7ee-be4b312080db",
   "metadata": {},
   "source": [
    "## Get embeddings"
   ]
  },
  {
   "cell_type": "markdown",
   "id": "599b996d-9a85-4f45-bbe6-04baa196b2d7",
   "metadata": {},
   "source": [
    "Use this function to get the ouputs before our linear layer and store them for other use."
   ]
  },
  {
   "cell_type": "code",
   "execution_count": 10,
   "id": "bc9580fe-6891-4cdf-8ef4-5d66922a9b11",
   "metadata": {},
   "outputs": [],
   "source": [
    "pred = ffn.model.get_embeddings(torch.ones(1, 1, 40, 26))"
   ]
  },
  {
   "cell_type": "markdown",
   "id": "8d4c73d9-ac5e-40b0-8502-e0201e8b5aa7",
   "metadata": {},
   "source": [
    "# Use model"
   ]
  },
  {
   "cell_type": "markdown",
   "id": "6aca9184-ecb6-4a9c-a100-430c9daf93cb",
   "metadata": {},
   "source": [
    "## Evaluate on test set\n",
    "This evaluates the data and returns binary and custom (i.e., based on how the model was built above) loss metrics"
   ]
  },
  {
   "cell_type": "code",
   "execution_count": 11,
   "id": "09fc012c-33e0-4328-8004-61ad4f018508",
   "metadata": {},
   "outputs": [
    {
     "name": "stdout",
     "output_type": "stream",
     "text": [
      "input conv torch.Size([200, 40, 26])\n",
      "output conv torch.Size([200, 64, 5])\n"
     ]
    },
    {
     "data": {
      "text/plain": [
       "{'test': {PoissonNLLLoss(): 2.048863410949707, 'Binary Accuracy': 34.065}}"
      ]
     },
     "execution_count": 11,
     "metadata": {},
     "output_type": "execute_result"
    }
   ],
   "source": [
    "ffn.evaluate(\n",
    "    # given k, returns loss only over the kth antigen in test\n",
    "    antigen_col=None\n",
    ")"
   ]
  },
  {
   "cell_type": "markdown",
   "id": "222086ed-32da-4510-addf-e33df11b90b2",
   "metadata": {},
   "source": [
    "## Save the model"
   ]
  },
  {
   "cell_type": "code",
   "execution_count": 12,
   "id": "12123000-75fc-48da-8058-37346afcc1a7",
   "metadata": {},
   "outputs": [
    {
     "name": "stdout",
     "output_type": "stream",
     "text": [
      "input conv torch.Size([128, 40, 26])\n",
      "output conv torch.Size([128, 64, 5])\n",
      "input conv torch.Size([72, 40, 26])\n",
      "output conv torch.Size([72, 64, 5])\n"
     ]
    }
   ],
   "source": [
    "os.makedirs(f'{indir}saved_model', exist_ok=True)\n",
    "# save_yhat means save predictions\n",
    "ffn.save_model_full(f'{indir}saved_model', save_yhat=True, save_train_data=False)"
   ]
  },
  {
   "cell_type": "markdown",
   "id": "0e26a624-432e-46d9-b849-85f682ea476c",
   "metadata": {},
   "source": [
    "# Evaluate/Compare the Model\n",
    "We predict the labels on test data and store to `ffn.predictions`"
   ]
  },
  {
   "cell_type": "code",
   "execution_count": 13,
   "id": "c5ea71ab-f060-4458-8980-f351a9ac5414",
   "metadata": {},
   "outputs": [
    {
     "name": "stdout",
     "output_type": "stream",
     "text": [
      "input conv torch.Size([128, 40, 26])\n",
      "output conv torch.Size([128, 64, 5])\n",
      "input conv torch.Size([72, 40, 26])\n",
      "output conv torch.Size([72, 64, 5])\n"
     ]
    },
    {
     "data": {
      "text/plain": [
       "(200, 50)"
      ]
     },
     "execution_count": 13,
     "metadata": {},
     "output_type": "execute_result"
    }
   ],
   "source": [
    "ffn.predict()\n",
    "ffn.predictions.shape"
   ]
  },
  {
   "cell_type": "markdown",
   "id": "46dd29e7-9b2a-40b1-b1c3-de8f0ab8a44c",
   "metadata": {},
   "source": [
    "### Create Confusion Matrix\n",
    "This is only applicable, of course, if you've used the one-hot encoded maximum binding y-data. If it is, you can use this to also compare with the original tcellmatch in torch"
   ]
  },
  {
   "cell_type": "code",
   "execution_count": 14,
   "id": "c3182a51-34d2-418a-9702-124faaaea062",
   "metadata": {},
   "outputs": [],
   "source": [
    "if not USE_BIND_COUNTS:\n",
    "    true_labels = np.argmax(ffn.y_test, axis=1)\n",
    "    predicted_labels = np.argmax(ffn.predictions, axis=1)\n",
    "\n",
    "    cm = confusion_matrix(true_labels, predicted_labels)\n",
    "\n",
    "    plt.figure(figsize=(8, 6))\n",
    "    sns.heatmap(cm, annot=True, cmap='Blues', fmt='d')\n",
    "    plt.xlabel('Predicted')\n",
    "    plt.ylabel('True')\n",
    "    plt.title('Confusion Matrix')\n",
    "    plt.show()"
   ]
  },
  {
   "cell_type": "markdown",
   "id": "2d5fa08f-05f7-4ff8-a0ee-12ba114695c1",
   "metadata": {},
   "source": [
    "## Reproduce evaluation in a new instance of model w/ same weights\n",
    "\n",
    "We load the model, with weights and data included, and evaluate and predict on the test data"
   ]
  },
  {
   "cell_type": "code",
   "execution_count": 15,
   "id": "05c08b1b-935b-40cb-b938-555646579c75",
   "metadata": {},
   "outputs": [
    {
     "name": "stdout",
     "output_type": "stream",
     "text": [
      "input conv torch.Size([200, 40, 26])\n",
      "output conv torch.Size([200, 64, 5])\n",
      "{'test': {PoissonNLLLoss(): 2.048863410949707, 'Binary Accuracy': 34.065}}\n",
      "input conv torch.Size([128, 40, 26])\n",
      "output conv torch.Size([128, 64, 5])\n",
      "input conv torch.Size([72, 40, 26])\n",
      "output conv torch.Size([72, 64, 5])\n"
     ]
    }
   ],
   "source": [
    "ffn2 = tm.models.EstimatorFfn()\n",
    "ffn2.load_model_full(fn=f'{indir}saved_model', load_train_data=False)\n",
    "print(ffn2.evaluate(test_only=True))\n",
    "ffn2.predict()"
   ]
  },
  {
   "cell_type": "markdown",
   "id": "854b66a9-1527-40d4-b3da-ebee91c32e33",
   "metadata": {},
   "source": [
    "## Plot Residuals\n",
    "This function outputs a MatPlotLib histogram of the residuals of the given antigen index (here `0`) over the test data. `predict()` must be called first to generate our test predictions."
   ]
  },
  {
   "cell_type": "code",
   "execution_count": 16,
   "id": "a3ae7bbf",
   "metadata": {},
   "outputs": [],
   "source": [
    "# %% [collapsed] Import list of target binders and non-binders\n",
    "target_ids = [\n",
    "    'A0101_VTEHDTLLY_IE-1_CMV',\n",
    "    'A0201_KTWGQYWQV_gp100_Cancer',\n",
    "    'A0201_ELAGIGILTV_MART-1_Cancer',\n",
    "    'A0201_CLLWSFQTSA_Tyrosinase_Cancer',\n",
    "    'A0201_IMDQVPFSV_gp100_Cancer',\n",
    "    'A0201_SLLMWITQV_NY-ESO-1_Cancer',\n",
    "    'A0201_KVAELVHFL_MAGE-A3_Cancer',\n",
    "    'A0201_KVLEYVIKV_MAGE-A1_Cancer',\n",
    "    'A0201_CLLGTYTQDV_Kanamycin-B-dioxygenase',\n",
    "    'A0201_LLDFVRFMGV_EBNA-3B_EBV',\n",
    "    'A0201_LLMGTLGIVC_HPV-16E7_82-91',\n",
    "    'A0201_CLGGLLTMV_LMP-2A_EBV',\n",
    "    'A0201_YLLEMLWRL_LMP1_EBV',\n",
    "    'A0201_FLYALALLL_LMP2A_EBV',\n",
    "    'A0201_GILGFVFTL_Flu-MP_Influenza',\n",
    "    'A0201_GLCTLVAML_BMLF1_EBV',\n",
    "    'A0201_NLVPMVATV_pp65_CMV',\n",
    "    'A0201_ILKEPVHGV_RT_HIV',\n",
    "    'A0201_FLASKIGRLV_Ca2-indepen-Plip-A2',\n",
    "    'A2402_CYTWNQMNL_WT1-(235-243)236M_Y',\n",
    "    'A0201_RTLNAWVKV_Gag-protein_HIV',\n",
    "    'A0201_KLQCVDLHV_PSA146-154',\n",
    "    'A0201_LLFGYPVYV_HTLV-1',\n",
    "    'A0201_SLFNTVATL_Gag-protein_HIV',\n",
    "    'A0201_SLYNTVATLY_Gag-protein_HIV',\n",
    "    'A0201_SLFNTVATLY_Gag-protein_HIV',\n",
    "    'A0201_RMFPNAPYL_WT-1',\n",
    "    'A0201_YLNDHLEPWI_BCL-X_Cancer',\n",
    "    'A0201_MLDLQPETT_16E7_HPV',\n",
    "    'A0301_KLGGALQAK_IE-1_CMV',\n",
    "    'A0301_RLRAEAQVK_EMNA-3A_EBV',\n",
    "    'A0301_RIAAWMATY_BCL-2L1_Cancer',\n",
    "    'A1101_IVTDFSVIK_EBNA-3B_EBV',\n",
    "    'A1101_AVFDRKSDAK_EBNA-3B_EBV',\n",
    "    'B3501_IPSINVHHY_pp65_CMV',\n",
    "    'A2402_AYAQKIFKI_IE-1_CMV',\n",
    "    'A2402_QYDPVAALF_pp65_CMV',\n",
    "    'B0702_QPRAPIRPI_EBNA-6_EBV',\n",
    "    'B0702_TPRVTGGGAM_pp65_CMV',\n",
    "    'B0702_RPPIFIRRL_EBNA-3A_EBV',\n",
    "    'B0702_RPHERNGFTVL_pp65_CMV',\n",
    "    'B0801_RAKFKQLL_BZLF1_EBV',\n",
    "    'B0801_ELRRKMMYM_IE-1_CMV',\n",
    "    'B0801_FLRGRAYGL_EBNA-3A_EBV',\n",
    "    'A0101_SLEGGGLGY_NC',\n",
    "    'A0101_STEGGGLAY_NC',\n",
    "    'A0201_ALIAPVHAV_NC',\n",
    "    'A2402_AYSSAGASI_NC',\n",
    "    'B0702_GPAESAAGL_NC',\n",
    "    'NR(B0801)_AAKGRGAAL_NC',\n",
    "]\n",
    "nc_cols = [\n",
    "    'A0101_SLEGGGLGY_NC',\n",
    "    'A0101_STEGGGLAY_NC',\n",
    "    'A0201_ALIAPVHAV_NC',\n",
    "    'A2402_AYSSAGASI_NC',\n",
    "    'B0702_GPAESAAGL_NC',\n",
    "    'NR(B0801)_AAKGRGAAL_NC'\n",
    "]"
   ]
  },
  {
   "cell_type": "code",
   "execution_count": 17,
   "id": "23410fcb-a1cf-49aa-8bf0-14f041ec5376",
   "metadata": {},
   "outputs": [
    {
     "data": {
      "image/png": "[encoded data removed]",
      "text/plain": [
       "<Figure size 640x480 with 1 Axes>"
      ]
     },
     "metadata": {},
     "output_type": "display_data"
    },
    {
     "data": {
      "image/png": "[encoded data removed]",
      "text/plain": [
       "<Figure size 640x480 with 1 Axes>"
      ]
     },
     "metadata": {},
     "output_type": "display_data"
    }
   ],
   "source": [
    "ffn.plot_residuals(antigen_idx=0, target_ids=target_ids)\n",
    "ffn.compare_preds(antigen_idx=0, target_ids=target_ids)"
   ]
  }
 ],
 "metadata": {
  "kernelspec": {
   "display_name": "tcell-env",
   "language": "python",
   "name": "python3"
  },
  "language_info": {
   "codemirror_mode": {
    "name": "ipython",
    "version": 3
   },
   "file_extension": ".py",
   "mimetype": "text/x-python",
   "name": "python",
   "nbconvert_exporter": "python",
   "pygments_lexer": "ipython3",
   "version": "3.11.3"
  }
 },
 "nbformat": 4,
 "nbformat_minor": 5
}
