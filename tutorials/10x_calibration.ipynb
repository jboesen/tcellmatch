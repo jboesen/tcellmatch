{
 "cells": [
  {
   "cell_type": "code",
   "execution_count": 1,
   "id": "dec9e301-2d64-437c-ae70-e4b6dc4ed647",
   "metadata": {},
   "outputs": [],
   "source": [
    "import tcellmatch.api as tm\n",
    "import torch as tc\n",
    "import torch.nn as nn\n",
    "from math import exp, log"
   ]
  },
  {
   "cell_type": "code",
   "execution_count": 2,
   "id": "c0b25653-1282-4e22-b732-eed7837b7f36",
   "metadata": {},
   "outputs": [],
   "source": [
    "saved_model_path = '../tutorial_data/saved_model-8-2--18:56'\n",
    "ffn = tm.models.EstimatorFfn()\n",
    "ffn.load_model_full(fn=saved_model_path, load_train_data=False)\n",
    "\n",
    "device = 'cuda' if tc.cuda.is_available() else 'cpu'\n",
    "ffn.model = ffn.model.to(device) \n",
    "for param in ffn.model.parameters():\n",
    "    param = param.to(device) "
   ]
  },
  {
   "cell_type": "code",
   "execution_count": 3,
   "id": "3f68677b-9334-4399-a531-7e53b4abe6be",
   "metadata": {},
   "outputs": [],
   "source": [
    "ffn.predict()"
   ]
  },
  {
   "cell_type": "code",
   "execution_count": null,
   "id": "0b1cc4f3-8c5a-4140-95ef-fc939369f34b",
   "metadata": {},
   "outputs": [],
   "source": [
    "#     def summand(lmd, y_hat_j, y_j):\n",
    "#         return exp(-1/(2 * lmd) * (log(max(y_hat_j - y_j + 1, 1)) - log(lmd + 1)) ** 2)\n",
    "#     def p_lmd(lmd, obs):\n",
    "#         return nn.PoissonNLLLoss(log_input=False, full=True)(lmd, obs)\n",
    "#     def calc_norm(y_hat, y):\n",
    "#         n, n_antigens = y_hat.shape\n",
    "#         expectations = tc.zeros(n_antigens)\n",
    "#         for col in range(n_antigens):\n",
    "#             for i in range(n):\n",
    "#                 for j in range(i, n):\n",
    "#                     E = 0\n",
    "#                     mu = y_hat[i, col]\n",
    "#                     for lmd in range(1, max(mu ** 2.5, 5)):\n",
    "#                         E += summand(lmd, y_hat[j, col], y[j, col])\n",
    "#                     expectations[col] += E\n",
    "#         return expectations"
   ]
  },
  {
   "cell_type": "code",
   "execution_count": 7,
   "id": "7fb39c4e-4dad-450b-8e5a-069e9924b210",
   "metadata": {},
   "outputs": [],
   "source": [
    "def mmd_pois(tau, y_hat, y):\n",
    "    # acct for log lmd\n",
    "    y_hat, y = tc.Tensor(y_hat).to(device), tc.Tensor(y).to(device)\n",
    "    y_hat = tc.exp(y_hat)\n",
    "    # broadcast to vectorize pairwise output\n",
    "    y_hat_i = y_hat[:, None, :]  # Add a new dimension to treat i and j differently\n",
    "    y_hat_j = y_hat[None, :, :]  # Add a new dimension to treat i and j differently\n",
    "    \n",
    "    # Broadcasting will take care of the pairwise subtraction\n",
    "    dist_vals = 2 * tc.square(y_hat_i - y_hat_j)\n",
    "    def summand(lmd, y_hat, y):\n",
    "        y_tild = y_hat - y + 1\n",
    "        y_tild[y_tild <= 0] = 1e-6\n",
    "        y_tild = tc.log(y_tild)\n",
    "        return tc.exp(-1/(2*lmd) * (y_tild - tc.log(lmd + 1))**2)\n",
    "    def p_lmd(lmd, obs):\n",
    "        return tc.nn.PoissonNLLLoss(log_input=False, full=True)(lmd, obs)\n",
    "    def calc_norm(y_hat, y):\n",
    "        y_hat, y = tc.Tensor(y_hat).to(device), tc.Tensor(y).to(device)\n",
    "        n, n_antigens = y_hat.shape\n",
    "        max_lambda = max(y_hat.max()**2.5, 5)\n",
    "        lmd = tc.arange(1, max_lambda+1, device=device)\n",
    "        lmd = lmd.unsqueeze(-1) # add singleton dimension\n",
    "        y_hat_j = y_hat.unsqueeze(1).repeat(1, lmd.size(0), 1)\n",
    "        y_j = y.unsqueeze(1).repeat(1, lmd.size(0), 1)\n",
    "\n",
    "        summand_values = summand(lmd, y_hat_j, y_j)\n",
    "        obs = y.unsqueeze(1).repeat(1, lmd.size(0), 1) \n",
    "        p_vals = p_lmd(lmd, obs)\n",
    "        E = summand_values * p_vals\n",
    "        E = E.sum(dim=1).squeeze(1).to(dtype=tc.float64)\n",
    "        return E.sum(dim=0)    \n",
    "    return tc.sum(exp(-1/(2 * tau ** 2)) * dist_vals) + calc_norm(y_hat, y)"
   ]
  },
  {
   "cell_type": "code",
   "execution_count": 8,
   "id": "14d48340-e607-4356-abca-811256c96ac1",
   "metadata": {},
   "outputs": [
    {
     "data": {
      "text/plain": [
       "tensor([1.1806e+08, 1.1997e+08, 1.2093e+08, 1.2189e+08, 1.2065e+08, 1.2057e+08,\n",
       "        1.2116e+08, 1.1806e+08, 1.2145e+08, 1.1861e+08, 1.2212e+08, 1.2221e+08,\n",
       "        1.2112e+08, 1.2149e+08, 1.2635e+08, 1.2296e+08, 1.1958e+08, 1.2068e+08,\n",
       "        1.2043e+08, 1.1996e+08, 1.2150e+08, 1.2060e+08, 1.2027e+08, 1.2081e+08,\n",
       "        1.2175e+08, 1.2116e+08, 1.2113e+08, 1.2094e+08, 1.2078e+08, 1.0743e+08,\n",
       "        1.0283e+08, 1.1026e+08, 1.0644e+08, 1.0544e+08, 1.2049e+08, 1.2000e+08,\n",
       "        1.2009e+08, 1.2029e+08, 1.2096e+08, 1.2053e+08, 1.2121e+08, 1.2420e+08,\n",
       "        1.2026e+08, 1.2087e+08, 1.2122e+08, 1.1769e+08, 1.2033e+08, 1.2035e+08,\n",
       "        1.2068e+08, 1.2068e+08], device='cuda:0', dtype=torch.float64)"
      ]
     },
     "execution_count": 8,
     "metadata": {},
     "output_type": "execute_result"
    }
   ],
   "source": [
    "mmd_pois(1, ffn.predictions, ffn.y_test)"
   ]
  },
  {
   "cell_type": "code",
   "execution_count": 6,
   "id": "4b0d09fc-3493-4b70-9a87-0d9cc43105fa",
   "metadata": {},
   "outputs": [
    {
     "data": {
      "text/plain": [
       "(8979, 50)"
      ]
     },
     "execution_count": 6,
     "metadata": {},
     "output_type": "execute_result"
    }
   ],
   "source": [
    "ffn.y_test.shape"
   ]
  }
 ],
 "metadata": {
  "kernelspec": {
   "display_name": "jboesen tcellmatch",
   "language": "python",
   "name": "jboesen"
  },
  "language_info": {
   "codemirror_mode": {
    "name": "ipython",
    "version": 3
   },
   "file_extension": ".py",
   "mimetype": "text/x-python",
   "name": "python",
   "nbconvert_exporter": "python",
   "pygments_lexer": "ipython3",
   "version": "3.11.0"
  }
 },
 "nbformat": 4,
 "nbformat_minor": 5
}
