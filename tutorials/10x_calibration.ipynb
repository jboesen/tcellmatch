{
 "cells": [
  {
   "cell_type": "code",
   "execution_count": 1,
   "id": "dec9e301-2d64-437c-ae70-e4b6dc4ed647",
   "metadata": {},
   "outputs": [],
   "source": [
    "import numpy as np\n",
    "from numpy import ma\n",
    "import matplotlib.pyplot as plt\n",
    "import matplotlib.colors as colors\n",
    "import sys\n",
    "from scipy.stats import permutation_test\n",
    "import torch as tc\n",
    "import torch.nn as nn\n",
    "import tcellmatch.api as tm"
   ]
  },
  {
   "cell_type": "markdown",
   "id": "6877b7f4-45aa-4a3c-b85c-ce7ffa0f5371",
   "metadata": {},
   "source": [
    "# Load Model"
   ]
  },
  {
   "cell_type": "code",
   "execution_count": 2,
   "id": "c0b25653-1282-4e22-b732-eed7837b7f36",
   "metadata": {},
   "outputs": [],
   "source": [
    "saved_model_path = '../tutorial_data/20230811-151019.saved_model'\n",
    "ffn = tm.models.EstimatorFfn()\n",
    "ffn.load_model_full(fn=saved_model_path, load_train_data=False)\n",
    "\n",
    "device = 'cuda' if tc.cuda.is_available() else 'cpu'\n",
    "# device='cpu'\n",
    "ffn.model = ffn.model.to(device) \n",
    "for param in ffn.model.parameters():\n",
    "    param = param.to(device) "
   ]
  },
  {
   "cell_type": "code",
   "execution_count": 3,
   "id": "3f68677b-9334-4399-a531-7e53b4abe6be",
   "metadata": {},
   "outputs": [],
   "source": [
    "ffn.predict()"
   ]
  },
  {
   "cell_type": "markdown",
   "id": "7c056636-2d12-43a5-8e30-1a987243a02e",
   "metadata": {},
   "source": [
    "# Define helpers\n",
    "## and hyperparameters"
   ]
  },
  {
   "cell_type": "code",
   "execution_count": 4,
   "id": "fbd9c2c6-1793-42c8-989d-05b4b0c7c5c7",
   "metadata": {},
   "outputs": [],
   "source": [
    "N_SAMPLES = 10\n",
    "length_param = np.median(np.abs(ffn.y_test[:, None] - ffn.y_test[None, :])) + 1e-6"
   ]
  },
  {
   "cell_type": "code",
   "execution_count": 5,
   "id": "6a0f3fb8-39c1-4ecc-a593-9cd412c30bf7",
   "metadata": {},
   "outputs": [],
   "source": [
    "# calculate reference vars for second term, (ε_i | ε_j)_k\n",
    "def k(y, y_):\n",
    "    # take sigma squared to be y\n",
    "    return tc.exp(-1/(2 * length_param) * (tc.log(y + 1) - tc.log(y_ + 1)) ** 2)\n",
    "def c(lmd1, lmd2):\n",
    "    # a and b are lambda values\n",
    "    delta_E = lmd1 - lmd2\n",
    "    delta_sd = tc.sqrt(lmd1) - tc.sqrt(lmd2)\n",
    "    return tc.exp(-1/(2 * length_param ** 2) * (delta_E ** 2 + delta_sd ** 2))"
   ]
  },
  {
   "cell_type": "markdown",
   "id": "b5fc0d17-ca1c-45f9-afe4-5e9c780f6e0f",
   "metadata": {},
   "source": [
    "## Define MMD function\n",
    "$\\sum_{i}\\sum_j c(\\mu(X_i),\\mu(X_j))(\\mu(X_i)-y_i|\\mu(X_j)-y_j)_k$"
   ]
  },
  {
   "cell_type": "code",
   "execution_count": 6,
   "id": "76ce054f-a905-4fb7-9f97-3ec5b33b727b",
   "metadata": {},
   "outputs": [],
   "source": [
    "def mmd_pois(y_hat_mtx, y_mtx):\n",
    "    assert len(y_hat_mtx.shape) == len(y_mtx.shape) == 2, f'Input arrays must be two-dimensional, but found shapes {y_hat_mtx.shape} and {y_mtx.shape}'\n",
    "    y_hat_mtx, y_mtx = tc.Tensor(y_hat_mtx).to(device), tc.Tensor(y_mtx).to(device)\n",
    "    n, n_antigens = y_hat_mtx.shape\n",
    "    n = min(N_SAMPLES, n)\n",
    "    samples_idx = tc.randperm(y_hat_mtx.size(0))[:N_SAMPLES]\n",
    "    y_hat_mtx, y_mtx = y_hat_mtx[samples_idx], y_mtx[samples_idx]\n",
    "    # acct for log lmd\n",
    "    y_hat_mtx = tc.exp(y_hat_mtx)\n",
    "    \n",
    "\n",
    "    out = tc.zeros(n_antigens, device=device)\n",
    "\n",
    "    # 3) Look at each antigen\n",
    "    for col in range(n_antigens):\n",
    "        # 1) compute matrix for each value of C term\n",
    "        y, y_hat = y_mtx[:, col], y_hat_mtx[:, col]\n",
    "        C = c(y_hat[:, None], y_hat[None, :]) # shape n x n, C_{ij} = C(mu(X_i), mu(X_j))\n",
    "        # 2) Compute matrix for the expected value over BOTH inputs to the kernel, E k(y, y')\n",
    "        # create matrix of samples:\n",
    "        # samples_one_{ij} = jth sample from Pois(y_hat_i)\n",
    "        s = 1000\n",
    "        samples_one = tc.poisson(y_hat[:, None].expand(n, s)) # shape n x s\n",
    "        samples_two = tc.poisson(y_hat[:, None].expand(n, s))\n",
    "\n",
    "        # Reshape for broadcasting\n",
    "        samples_a = samples_one[:, None, :, None] \n",
    "        samples_b = samples_two[None, :, None, :]\n",
    "        # Compute k for each combination of draws\n",
    "        # - call this matrix B for EV over BOTH inputs\n",
    "        B = k(samples_a, samples_b) # shape n x n x s x s\n",
    "        \n",
    "        # 3) Compute E k(y, y_i)\n",
    "        # reshape y for broadcasting\n",
    "        y_reshaped = y[:, None, None]\n",
    "        samples_three = tc.poisson(y_hat[:, None].expand(n, s)).unsqueeze(0)\n",
    "        # # compute k for each combination\n",
    "        M = k(y_reshaped, samples_three) # shape n x n x s\n",
    "        # 4) Compute the eNd term, N_{ij} = k(y_i, y_j)\n",
    "        N = k(y_hat[:, None], y_hat[None, :]) # shape n x n\n",
    "        \n",
    "        # 5) Put it all together\n",
    "        # we want all mcs to be of shape n x n\n",
    "        # take average over samples        \n",
    "        B = B.mean(dim=(-2, -1))\n",
    "        M = M.mean(dim=-1)\n",
    "        K = B - 2 * M + N\n",
    "        ans = (C * K).mean()\n",
    "        out[col] = ans\n",
    "        tc.cuda.empty_cache()\n",
    "        del B\n",
    "        del M\n",
    "        del N\n",
    "        del C\n",
    "        del K\n",
    "    return out"
   ]
  },
  {
   "cell_type": "code",
   "execution_count": 7,
   "id": "14d48340-e607-4356-abca-811256c96ac1",
   "metadata": {},
   "outputs": [],
   "source": [
    "y_hat_mtx, y_mtx = ffn.predictions, ffn.y_test + 1\n",
    "out = mmd_pois(y_hat_mtx, y_mtx)"
   ]
  },
  {
   "cell_type": "code",
   "execution_count": 8,
   "id": "18efa242-3f4a-41fc-b60b-2caf376af404",
   "metadata": {},
   "outputs": [
    {
     "data": {
      "text/plain": [
       "Text(0, 0.5, 'Frequency')"
      ]
     },
     "execution_count": 8,
     "metadata": {},
     "output_type": "execute_result"
    },
    {
     "data": {
      "image/png": "[encoded data removed]",
      "text/plain": [
       "<Figure size 432x288 with 1 Axes>"
      ]
     },
     "metadata": {
      "needs_background": "light"
     },
     "output_type": "display_data"
    }
   ],
   "source": [
    "plt.hist(out.cpu(), bins=100)\n",
    "plt.title(f\"MMD Antigen values\")\n",
    "plt.xlabel(\"MMD value\")\n",
    "plt.ylabel(\"Frequency\")"
   ]
  },
  {
   "cell_type": "markdown",
   "id": "2ab21bb0-c229-4ccb-8325-cb245a5bee88",
   "metadata": {},
   "source": [
    "# Calculate $p$-value"
   ]
  },
  {
   "cell_type": "code",
   "execution_count": 9,
   "id": "0b6802f8-ce9a-4dbf-ae09-bd5f41f865e1",
   "metadata": {},
   "outputs": [],
   "source": [
    "p_lmd = tc.nn.PoissonNLLLoss(log_input=True, full=True, reduction='none')\n",
    "# pred, obs\n",
    "p = p_lmd(tc.Tensor(y_hat_mtx), tc.Tensor(y_mtx)).mean(dim=0)"
   ]
  },
  {
   "cell_type": "code",
   "execution_count": 10,
   "id": "821b7fb7-3938-4168-be31-5a03bbefcc33",
   "metadata": {},
   "outputs": [
    {
     "data": {
      "text/plain": [
       "Text(0, 0.5, 'Frequency')"
      ]
     },
     "execution_count": 10,
     "metadata": {},
     "output_type": "execute_result"
    },
    {
     "data": {
      "image/png": "[encoded data removed]",
      "text/plain": [
       "<Figure size 432x288 with 1 Axes>"
      ]
     },
     "metadata": {
      "needs_background": "light"
     },
     "output_type": "display_data"
    }
   ],
   "source": [
    "plt.hist(-p)\n",
    "# TODO -> check the p-\n",
    "plt.title(f\"tcellmatch antigen mean p-value\")\n",
    "plt.xlabel(\"log(p)-value\")\n",
    "plt.ylabel(\"Frequency\")"
   ]
  },
  {
   "cell_type": "markdown",
   "id": "202b2c71-4c47-4f29-8e92-31b7e4740b9a",
   "metadata": {
    "tags": []
   },
   "source": [
    "# Plot the Witness Function"
   ]
  },
  {
   "cell_type": "code",
   "execution_count": 11,
   "id": "95fae8fb-20d2-49e4-8a45-8a455ef00513",
   "metadata": {},
   "outputs": [],
   "source": [
    "def f(mu, y):\n",
    "    mu, y = tc.Tensor(np.exp(mu)).to(device), tc.Tensor(y).to(device)\n",
    "    # c_term_{ij} = c(mu_i, mu_j)\n",
    "    # plt.hist(tc.exp(mu).cpu(), bins=100, log=True)\n",
    "    # plt.show()\n",
    "    c_term = c(mu[:, None], mu[None, :])\n",
    "    n_samples = 100\n",
    "    # make broadcastable and sample n x s samples\n",
    "    samples = tc.poisson(mu.unsqueeze(1).expand(-1, n_samples)).to(device)\n",
    "    # k_expectation_{ijk} = k(y_i, kth sample from Pois(mu_j))\n",
    "    k_expectation = k(y[:, None, None], samples[None, :, :]) # shape n x n x s\n",
    "    # k_pairs_{ij} = k(E[mu_i], y_j)\n",
    "    k_pairs = k(mu[:, None], y[None, :]) # shape n x n\n",
    "    # take expectation over mu samples\n",
    "    k_term = k_pairs - k_expectation.mean(dim=2)\n",
    "    # sum over all datapoints\n",
    "    k_term = (k_pairs - k_term).sum(dim=1)\n",
    "    out = k_term * c_term.sum(1)\n",
    "    return out"
   ]
  },
  {
   "cell_type": "code",
   "execution_count": 12,
   "id": "c7246308-f839-4382-a20c-b9a6286b4053",
   "metadata": {},
   "outputs": [],
   "source": [
    "from scipy.interpolate import griddata\n",
    "def plot_witness_surface(col, n_samples=sys.maxsize):\n",
    "    Z = f(y_hat_mtx[:n_samples, col], y_mtx[:n_samples, col])\n",
    "    # plt.hist(Z[:n_samples].cpu(), bins=100, log=True)\n",
    "    X = y_mtx[:n_samples, col]\n",
    "    Y = y_hat_mtx[:n_samples, col]\n",
    "\n",
    "    graph = np.column_stack((X, np.exp(Y), Z.cpu()))\n",
    "    sorted_idcs = np.lexsort((graph[:,2], graph[:,1]))\n",
    "    graph = graph[sorted_idcs]\n",
    "    # graph = graph[graph[:, 0] < 10]\n",
    "\n",
    "    x_range = np.linspace(min(graph[:, 0]), max(graph[:, 0]), 100)\n",
    "    y_range = np.linspace(min(graph[:, 1]), max(graph[:, 1]), 100)\n",
    "    X, Y = np.meshgrid(x_range, y_range)\n",
    "    Z = griddata(graph[:, :2], graph[:, 2], (X, Y), method='cubic') \n",
    "    plt.imshow(Z, cmap='viridis', extent=(min(graph[:, 0]), max(graph[:, 0]), min(graph[:, 1]), max(graph[:, 1])),\n",
    "               aspect='auto')  # 'auto' adjusts the aspect ratio based on the plot size\n",
    "    plt.colorbar()  # Add a colorbar to indicate intensity values\n",
    "    plt.gca().set_xscale('log')\n",
    "    plt.gca().set_yscale('log')\n",
    "\n",
    "    plt.title(f\"Antigen {col} Witness Function\")\n",
    "    plt.xlabel(\"Actual Bind Count\")\n",
    "    plt.ylabel(\"Predicted Bind Count\")\n",
    "    plt.show()"
   ]
  },
  {
   "cell_type": "code",
   "execution_count": 13,
   "id": "ccd3967c-cc41-4029-9904-45b6e5796b6d",
   "metadata": {
    "jp-MarkdownHeadingCollapsed": true,
    "tags": []
   },
   "outputs": [
    {
     "data": {
      "image/png": "[encoded data removed]",
      "text/plain": [
       "<Figure size 432x288 with 2 Axes>"
      ]
     },
     "metadata": {
      "needs_background": "light"
     },
     "output_type": "display_data"
    }
   ],
   "source": [
    "plot_witness_surface(41)"
   ]
  },
  {
   "cell_type": "code",
   "execution_count": 14,
   "id": "c091d77f-2f27-436e-953d-cfcc59b2a6bc",
   "metadata": {},
   "outputs": [
    {
     "data": {
      "image/png": "[encoded data removed]",
      "text/plain": [
       "<Figure size 432x288 with 2 Axes>"
      ]
     },
     "metadata": {
      "needs_background": "light"
     },
     "output_type": "display_data"
    }
   ],
   "source": [
    "def plot_witness(col, n_samples=sys.maxsize):\n",
    "    Z = f(y_hat_mtx[:n_samples, col], y_mtx[:n_samples, col])\n",
    "    # plt.hist(Z[:n_samples].cpu(), bins=100, log=True)\n",
    "    X = y_mtx[:n_samples, col]\n",
    "    Y = y_hat_mtx[:n_samples, col]\n",
    "\n",
    "    graph = np.column_stack((X, np.exp(Y), Z.cpu()))\n",
    "    sorted_idcs = np.lexsort((graph[:,2], graph[:,1]))\n",
    "    graph = graph[sorted_idcs]\n",
    "    graph = graph[graph[:, 0] < 10]\n",
    "\n",
    "    # Using scatter plot for MMD values\n",
    "    plt.scatter(graph[:, 0], graph[:, 1], c=graph[:, 2], cmap='viridis', s=5)\n",
    "    plt.colorbar(label=\"MMD Value\")  # Add a colorbar to indicate MMD values\n",
    "    plt.title(f\"Antigen {col} Witness Function\")\n",
    "    plt.xlabel(\"Actual Bind Count\")\n",
    "    plt.ylabel(\"Predicted Bind Count\")\n",
    "    plt.gca().set_xscale('log')\n",
    "    plt.gca().set_yscale('log')\n",
    "    plt.show()\n",
    "plot_witness(41, n_samples=sys.maxsize)"
   ]
  },
  {
   "cell_type": "code",
   "execution_count": 15,
   "id": "49ccfffa-131c-4fb8-a674-f1e94429422f",
   "metadata": {},
   "outputs": [
    {
     "data": {
      "text/plain": [
       "(array([  3., 468.,  94.,  42.,  29.,   4.,  19.,   3.,  30.,  26.,   1.,\n",
       "          7.,   1.,   7.,   5.,   0., 132.,   5.,  18.,   0.,   1.,   0.,\n",
       "          0.,   1.,   0.,   1.,   0.,   0.,   1.,  29.,   0.,   0.,  11.,\n",
       "          0.,   0.,   7.,  15.,   0.,   0.,   5.,   0.,   0.,   0.,   0.,\n",
       "          0.,   0.,  22.,   0.,   0.,   0.,   0.,   0.,   0.,   0.,   0.,\n",
       "          0.,   0.,   0.,   0.,   0.,   0.,   0.,   0.,   0.,   7.,   0.,\n",
       "          0.,   0.,   0.,   0.,   0.,   0.,   0.,   0.,   0.,   0.,   0.,\n",
       "          0.,   0.,   0.,   0.,   0.,   4.,   0.,   0.,   0.,   0.,   0.,\n",
       "          0.,   0.,   0.,   1.,   0.,   0.,   0.,   0.,   0.,   0.,   0.,\n",
       "          1.]),\n",
       " array([   0.        ,   58.04119492,  116.08238983,  174.12359619,\n",
       "         232.16477966,  290.20599365,  348.24719238,  406.2883606 ,\n",
       "         464.32955933,  522.37078857,  580.4119873 ,  638.45318604,\n",
       "         696.49438477,  754.53552246,  812.57672119,  870.61791992,\n",
       "         928.65911865,  986.70031738, 1044.74157715, 1102.78271484,\n",
       "        1160.82397461, 1218.8651123 , 1276.90637207, 1334.94750977,\n",
       "        1392.98876953, 1451.02990723, 1509.07104492, 1567.11230469,\n",
       "        1625.15344238, 1683.19470215, 1741.23583984, 1799.27709961,\n",
       "        1857.3182373 , 1915.35949707, 1973.40063477, 2031.44189453,\n",
       "        2089.4831543 , 2147.52416992, 2205.56542969, 2263.60668945,\n",
       "        2321.64794922, 2379.68896484, 2437.73022461, 2495.77148438,\n",
       "        2553.81274414, 2611.85375977, 2669.89501953, 2727.9362793 ,\n",
       "        2785.97753906, 2844.01855469, 2902.05981445, 2960.10107422,\n",
       "        3018.14208984, 3076.18334961, 3134.22460938, 3192.26586914,\n",
       "        3250.30688477, 3308.34814453, 3366.3894043 , 3424.43066406,\n",
       "        3482.47167969, 3540.51293945, 3598.55419922, 3656.59545898,\n",
       "        3714.63647461, 3772.67773438, 3830.71899414, 3888.76025391,\n",
       "        3946.80126953, 4004.8425293 , 4062.88378906, 4120.92480469,\n",
       "        4178.96630859, 4237.00732422, 4295.04833984, 4353.08984375,\n",
       "        4411.13085938, 4469.171875  , 4527.21337891, 4585.25439453,\n",
       "        4643.29589844, 4701.33691406, 4759.37792969, 4817.41943359,\n",
       "        4875.46044922, 4933.50146484, 4991.54296875, 5049.58398438,\n",
       "        5107.62548828, 5165.66650391, 5223.70751953, 5281.74902344,\n",
       "        5339.79003906, 5397.83105469, 5455.87255859, 5513.91357422,\n",
       "        5571.95507812, 5629.99609375, 5688.03710938, 5746.07861328,\n",
       "        5804.11962891]),\n",
       " <BarContainer object of 100 artists>)"
      ]
     },
     "execution_count": 15,
     "metadata": {},
     "output_type": "execute_result"
    },
    {
     "data": {
      "image/png": "[encoded data removed]",
      "text/plain": [
       "<Figure size 432x288 with 1 Axes>"
      ]
     },
     "metadata": {
      "needs_background": "light"
     },
     "output_type": "display_data"
    }
   ],
   "source": [
    "plt.hist(f(y_hat_mtx[:1000, 41], y_mtx[:1000, 41]).cpu(), log=True, bins=100)"
   ]
  },
  {
   "cell_type": "markdown",
   "id": "c1bdb86c-c2b7-4586-a0d6-c0b6956d33d1",
   "metadata": {},
   "source": [
    "## Permutation test"
   ]
  },
  {
   "cell_type": "code",
   "execution_count": 17,
   "id": "f41f5644-5ad0-4d30-b7a0-78bd655c22e4",
   "metadata": {},
   "outputs": [
    {
     "name": "stdout",
     "output_type": "stream",
     "text": [
      "Observed Statistic: [0.17342234 0.17785706 0.13135868 0.19199657 0.17198086 0.18195924\n",
      " 0.18001401 0.16263488 0.18606561 0.1353484  0.19548526 0.19669414\n",
      " 0.17318623 0.1240429  0.08301401 0.09463717 0.1671572  0.17936185\n",
      " 0.17585236 0.15030895 0.18404491 0.17731711 0.17000778 0.17401771\n",
      " 0.19247498 0.17836551 0.17335482 0.17130299 0.16496937 0.09227274\n",
      " 0.07628852 0.11465546 0.08943316 0.091553   0.16642806 0.15696041\n",
      " 0.16386046 0.15801544 0.16517033 0.15261284 0.17339687 0.09055868\n",
      " 0.1538231  0.13309442 0.1708532  0.16201267 0.17407733 0.13879217\n",
      " 0.15859476 0.1624651 ]\n",
      "P-value: [0.   0.   0.   0.   0.   0.   0.   0.   0.   0.   0.   0.   0.   0.\n",
      " 0.84 0.98 0.   0.   0.   0.   0.   0.   0.   0.   0.   0.   0.   0.\n",
      " 0.   1.   1.   0.26 0.94 0.96 0.   0.   0.   0.   0.   0.   0.   0.96\n",
      " 0.   0.   0.   0.   0.   0.   0.   0.  ]\n"
     ]
    }
   ],
   "source": [
    "import numpy as np\n",
    "\n",
    "def permutation_test(matrix1, matrix2, n_perms=1000):\n",
    "    if matrix1.shape != matrix2.shape:\n",
    "        raise ValueError(\"Both matrices must have the same shape\")\n",
    "    \n",
    "    n, c = matrix1.shape\n",
    "    observed_statistic = mmd_pois(matrix1, matrix2).cpu().numpy()  # Convert to numpy\n",
    "    num_extreme_values = np.zeros(c)\n",
    "\n",
    "    reshuffled_indices = np.arange(2 * n)  # indices for both matrices concatenated\n",
    "\n",
    "    for _ in range(n_perms):\n",
    "        np.random.shuffle(reshuffled_indices)\n",
    "        \n",
    "        permuted_matrix1 = np.vstack([matrix1, matrix2])[reshuffled_indices[:n]]\n",
    "        permuted_matrix2 = np.vstack([matrix1, matrix2])[reshuffled_indices[n:]]\n",
    "            \n",
    "        permuted_statistic = mmd_pois(permuted_matrix1, permuted_matrix2).cpu().numpy()  # Convert to numpy\n",
    "        num_extreme_values += (np.abs(permuted_statistic) >= np.abs(observed_statistic)).astype(int)\n",
    "                \n",
    "    p_value = num_extreme_values / n_perms\n",
    "\n",
    "    return p_value, observed_statistic\n",
    "\n",
    "# assuming y_hat_mtx and y_mtx are already defined\n",
    "p_value, observed_statistic = permutation_test(y_hat_mtx, y_mtx, n_perms=50)\n",
    "print(f\"Observed Statistic: {observed_statistic}\")\n",
    "print(f\"P-value: {p_value}\")"
   ]
  },
  {
   "cell_type": "markdown",
   "id": "e9408a50-3d08-4f0e-aead-f02d5dd9a79e",
   "metadata": {},
   "source": [
    "### Calculate p-value (U-statistic)"
   ]
  },
  {
   "cell_type": "code",
   "execution_count": 21,
   "id": "83127438-3cb2-47e2-9a8e-14323686d75d",
   "metadata": {},
   "outputs": [],
   "source": [
    "def bootstrap_mat(mat, b=100):\n",
    "    \"\"\"FROM THE PAPER\n",
    "    Algorithm 1 Bootstrap Goodness-of-fit Test based on KSD\n",
    "        Input: Sample {xi } and score function sq (x) = ∇x log q(x). Bootstrap sample size m.\n",
    "        Test: H0: {xi} is drawn from q v.s H1: {xi} is not drawn from q.\n",
    "        1. Compute Sˆu by (14) and uq(x,x′) as defined in The- orem 3.6. Generate m bootstrap sample Sˆ∗u by (16).\n",
    "        2. Reject H0 with significance level α if the percentage of Sˆ∗u that satisfies Sˆ∗u > Sˆu is less than α.\n",
    "    \"\"\"\n",
    "    \"\"\"We bootstrap the degenerate U statistic assuming identical p, q.\n",
    "    We can't use a usual bootstrap (wo -1/N) as dicussed in Arcones & Gine 1992:\n",
    "    We want to perform the bootstrap on the first non-zero term in the Hoeffding decomposition,\n",
    "    which in this case is the same U-stat with h(x, y) made degenerate. This sum will stay\n",
    "    O(1/N) while the actual U-stat is O(1/sqrt(N)).\"\"\"\n",
    "    N = len(mat)\n",
    "    mat = mat.cpu().numpy()\n",
    "    ws = np.random.multinomial(N, np.ones(N)/N, b)\n",
    "    mats = np.einsum('ij,bi,bj->bij', mat, (ws-1)/N, (ws-1)/N)\n",
    "    return [ma.masked_array(mat_i, np.eye(len(mat))).sum() for mat_i in mats]"
   ]
  },
  {
   "cell_type": "code",
   "execution_count": 22,
   "id": "744e9f55-2c7d-45ac-9833-317192c2e97c",
   "metadata": {},
   "outputs": [
    {
     "name": "stdout",
     "output_type": "stream",
     "text": [
      "torch.Size([5815, 5815]) torch.Size([5815, 5815])\n"
     ]
    }
   ],
   "source": [
    "ANTIGEN = 14\n",
    "mu = tc.Tensor(ffn.predictions).to(device)\n",
    "y_mtx = tc.Tensor(ffn.y_test).to(device)\n",
    "C = c(mu[:, None, ANTIGEN], mu[None, :, ANTIGEN])\n",
    "residual = y_mtx - mu\n",
    "K = k(residual[:, None, ANTIGEN], residual[None, :, ANTIGEN])\n",
    "print(C.shape, K.shape)\n",
    "M = C * K"
   ]
  },
  {
   "cell_type": "code",
   "execution_count": 23,
   "id": "4c91e4a5-e512-4213-bde4-53a338535b68",
   "metadata": {},
   "outputs": [
    {
     "data": {
      "text/plain": [
       "0.0"
      ]
     },
     "execution_count": 23,
     "metadata": {},
     "output_type": "execute_result"
    }
   ],
   "source": [
    "# repeat identity mask for all dimensions\n",
    "# mask = np.repeat(np.eye(M.shape[-1])[np.newaxis, :, :], M.shape[0], axis=0)\n",
    "u_stat = ma.masked_array(M.cpu(), np.eye(*M.shape)).mean()\n",
    "p_value = np.mean(u_stat > bootstrap_mat(M))\n",
    "p_value"
   ]
  }
 ],
 "metadata": {
  "kernelspec": {
   "display_name": "jboesen tcellmatch",
   "language": "python",
   "name": "jboesen"
  },
  "language_info": {
   "codemirror_mode": {
    "name": "ipython",
    "version": 3
   },
   "file_extension": ".py",
   "mimetype": "text/x-python",
   "name": "python",
   "nbconvert_exporter": "python",
   "pygments_lexer": "ipython3",
   "version": "3.11.0"
  }
 },
 "nbformat": 4,
 "nbformat_minor": 5
}
