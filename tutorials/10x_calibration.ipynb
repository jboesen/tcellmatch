{
 "cells": [
  {
   "cell_type": "code",
   "execution_count": 1,
   "id": "dec9e301-2d64-437c-ae70-e4b6dc4ed647",
   "metadata": {},
   "outputs": [],
   "source": [
    "import numpy as np\n",
    "from numpy import ma\n",
    "import matplotlib.pyplot as plt\n",
    "import matplotlib.colors as colors\n",
    "import sys\n",
    "import torch as tc\n",
    "import torch.nn as nn\n",
    "import tcellmatch.api as tm"
   ]
  },
  {
   "cell_type": "markdown",
   "id": "6877b7f4-45aa-4a3c-b85c-ce7ffa0f5371",
   "metadata": {},
   "source": [
    "# Load Model"
   ]
  },
  {
   "cell_type": "code",
   "execution_count": 2,
   "id": "c0b25653-1282-4e22-b732-eed7837b7f36",
   "metadata": {},
   "outputs": [],
   "source": [
    "saved_model_path = '../tutorial_data/saved_model-8-2--18:56'\n",
    "ffn = tm.models.EstimatorFfn()\n",
    "ffn.load_model_full(fn=saved_model_path, load_train_data=False)\n",
    "\n",
    "device = 'cuda' if tc.cuda.is_available() else 'cpu'\n",
    "# device='cpu'\n",
    "ffn.model = ffn.model.to(device) \n",
    "for param in ffn.model.parameters():\n",
    "    param = param.to(device) "
   ]
  },
  {
   "cell_type": "code",
   "execution_count": 3,
   "id": "3f68677b-9334-4399-a531-7e53b4abe6be",
   "metadata": {},
   "outputs": [],
   "source": [
    "ffn.predict()"
   ]
  },
  {
   "cell_type": "markdown",
   "id": "7c056636-2d12-43a5-8e30-1a987243a02e",
   "metadata": {},
   "source": [
    "# Define helpers\n",
    "## and hyperparameters"
   ]
  },
  {
   "cell_type": "code",
   "execution_count": 4,
   "id": "fbd9c2c6-1793-42c8-989d-05b4b0c7c5c7",
   "metadata": {},
   "outputs": [],
   "source": [
    "N_SAMPLES = 10\n",
    "length_param = np.median(np.abs(ffn.y_test[:, None] - ffn.y_test[None, :])) + 1e-6"
   ]
  },
  {
   "cell_type": "code",
   "execution_count": 5,
   "id": "6a0f3fb8-39c1-4ecc-a593-9cd412c30bf7",
   "metadata": {},
   "outputs": [],
   "source": [
    "# calculate reference vars for second term, (ε_i | ε_j)_k\n",
    "def k(y, y_):\n",
    "    # take sigma squared to be y\n",
    "    return tc.exp(-1/(2 * length_param) * (tc.log(y + 1) - tc.log(y_ + 1)) ** 2)\n",
    "def c(lmd1, lmd2):\n",
    "    # a and b are lambda values\n",
    "    delta_E = lmd1 - lmd2\n",
    "    delta_sd = tc.sqrt(lmd1) - tc.sqrt(lmd2)\n",
    "    return tc.exp(-1/(2 * length_param ** 2) * (delta_E ** 2 + delta_sd ** 2))"
   ]
  },
  {
   "cell_type": "code",
   "execution_count": 6,
   "id": "76ce054f-a905-4fb7-9f97-3ec5b33b727b",
   "metadata": {},
   "outputs": [],
   "source": [
    "def mmd_pois(y_hat_mtx, y_mtx):\n",
    "    # 1) prepare \n",
    "    y_hat_mtx, y_mtx = tc.Tensor(y_hat_mtx).to(device), tc.Tensor(y_mtx).to(device)\n",
    "    n, n_antigens = y_hat_mtx.shape\n",
    "    n = min(N_SAMPLES, n)\n",
    "    samples_idx = tc.randperm(y_hat_mtx.size(0))[:N_SAMPLES]\n",
    "    y_hat_mtx, y_mtx = y_hat_mtx[samples_idx], y_mtx[samples_idx]\n",
    "    # acct for log lmd\n",
    "    y_hat_mtx = tc.exp(y_hat_mtx)\n",
    "    \n",
    "\n",
    "    out = tc.zeros(n_antigens, device=device)\n",
    "\n",
    "    # 3) Look at each antigen\n",
    "    for col in range(n_antigens):\n",
    "        # 1) compute matrix for each value of C term\n",
    "        y, y_hat = y_mtx[:, col], y_hat_mtx[:, col]\n",
    "        C = c(y_hat[:, None], y_hat[None, :]) # shape n x n\n",
    "        # 2) Compute matrix for the expected value over BOTH inputs to the kernel, E k(y, y')\n",
    "        # create matrix of samples:\n",
    "        # samples_one_{ij} = jth sample from Pois(y_hat_i)\n",
    "        s = 1000\n",
    "        samples_one = tc.poisson(y_hat[:, None].expand(n, s)) # shape n x s\n",
    "        samples_two = tc.poisson(y_hat[:, None].expand(n, s))\n",
    "\n",
    "        # Reshape for broadcasting\n",
    "        samples_a = samples_one[:, None, :, None] \n",
    "        samples_b = samples_two[None, :, None, :]\n",
    "        # Compute k for each combination of draws\n",
    "        # - call this matrix B for EV over BOTH inputs\n",
    "        B = k(samples_a, samples_b) # shape n x n x s x s\n",
    "        \n",
    "        # 3) Compute E k(y, y_i)\n",
    "        # reshape y for broadcasting\n",
    "        y_reshaped = y[:, None, None]\n",
    "        samples_three = tc.poisson(y_hat[:, None].expand(n, s)).unsqueeze(0)\n",
    "        # # compute k for each combination\n",
    "        M = k(y_reshaped, samples_three) # shape n x n x s\n",
    "        # 4) Compute the eNd term, N_{ij} = k(y_i, y_j)\n",
    "        N = k(y_hat[:, None], y_hat[None, :]) # shape n x n\n",
    "        \n",
    "        # 5) Put it all together\n",
    "        # we want all mcs to be of shape n x n\n",
    "        # take average over samples        \n",
    "        B = B.mean(dim=(-2, -1))\n",
    "        M = M.mean(dim=-1)\n",
    "        K = B - 2 * M + N\n",
    "        ans = (C * K).mean()\n",
    "        out[col] = ans\n",
    "        tc.cuda.empty_cache()\n",
    "        del B\n",
    "        del M\n",
    "        del N\n",
    "        del C\n",
    "        del K\n",
    "    return out"
   ]
  },
  {
   "cell_type": "code",
   "execution_count": 7,
   "id": "14d48340-e607-4356-abca-811256c96ac1",
   "metadata": {},
   "outputs": [],
   "source": [
    "y_hat_mtx, y_mtx = ffn.predictions, ffn.y_test + 1\n",
    "out = mmd_pois(y_hat_mtx, y_mtx)"
   ]
  },
  {
   "cell_type": "code",
   "execution_count": 8,
   "id": "18efa242-3f4a-41fc-b60b-2caf376af404",
   "metadata": {},
   "outputs": [
    {
     "data": {
      "text/plain": [
       "Text(0, 0.5, 'Frequency')"
      ]
     },
     "execution_count": 8,
     "metadata": {},
     "output_type": "execute_result"
    },
    {
     "data": {
      "image/png": "[encoded data removed]",
      "text/plain": [
       "<Figure size 432x288 with 1 Axes>"
      ]
     },
     "metadata": {
      "needs_background": "light"
     },
     "output_type": "display_data"
    }
   ],
   "source": [
    "plt.hist(out.cpu(), bins=100)\n",
    "plt.title(f\"MMD Antigen values\")\n",
    "plt.xlabel(\"MMD value\")\n",
    "plt.ylabel(\"Frequency\")"
   ]
  },
  {
   "cell_type": "markdown",
   "id": "2ab21bb0-c229-4ccb-8325-cb245a5bee88",
   "metadata": {},
   "source": [
    "# Calculate $p$-value"
   ]
  },
  {
   "cell_type": "code",
   "execution_count": 9,
   "id": "0b6802f8-ce9a-4dbf-ae09-bd5f41f865e1",
   "metadata": {},
   "outputs": [],
   "source": [
    "p_lmd = tc.nn.PoissonNLLLoss(log_input=True, full=True, reduction='none')\n",
    "# pred, obs\n",
    "p = p_lmd(tc.Tensor(y_hat_mtx), tc.Tensor(y_mtx)).mean(dim=0)"
   ]
  },
  {
   "cell_type": "code",
   "execution_count": 10,
   "id": "821b7fb7-3938-4168-be31-5a03bbefcc33",
   "metadata": {},
   "outputs": [
    {
     "data": {
      "text/plain": [
       "Text(0, 0.5, 'Frequency')"
      ]
     },
     "execution_count": 10,
     "metadata": {},
     "output_type": "execute_result"
    },
    {
     "data": {
      "image/png": "[encoded data removed]",
      "text/plain": [
       "<Figure size 432x288 with 1 Axes>"
      ]
     },
     "metadata": {
      "needs_background": "light"
     },
     "output_type": "display_data"
    }
   ],
   "source": [
    "plt.hist(-p)\n",
    "# TODO -> check the p-\n",
    "plt.title(f\"tcellmatch antigen mean p-value\")\n",
    "plt.xlabel(\"log(p)-value\")\n",
    "plt.ylabel(\"Frequency\")"
   ]
  },
  {
   "cell_type": "markdown",
   "id": "202b2c71-4c47-4f29-8e92-31b7e4740b9a",
   "metadata": {
    "tags": []
   },
   "source": [
    "# Plot the Witness Function\n",
    "$f(x) = E_{x' \\sim \\text{real digits}}[k(x, x')] - E_{x' \\sim \\text{GAN digits}}[k(x, x')]$\n",
    "> \"Difference in values of x\"\n",
    "\n",
    "1) embed x values\n",
    "2) Plot the surface of the predicted lambda versus actual val\n",
    "\n",
    "$f(x) = E_{x' \\sim \\text{Pois}(y)}[k(x, x')] - E_{x' \\sim \\text{Pois}(\\lambda | X}}[k(x, x')]$"
   ]
  },
  {
   "cell_type": "code",
   "execution_count": 11,
   "id": "95fae8fb-20d2-49e4-8a45-8a455ef00513",
   "metadata": {},
   "outputs": [],
   "source": [
    "def f(mu, y):\n",
    "    mu, y = tc.Tensor(np.exp(mu)).to(device), tc.Tensor(y).to(device)\n",
    "    # c_term_{ij} = c(mu_i, mu_j)\n",
    "    # plt.hist(tc.exp(mu).cpu(), bins=100, log=True)\n",
    "    # plt.show()\n",
    "    c_term = c(mu[:, None], mu[None, :])\n",
    "    n_samples = 100\n",
    "    # make broadcastable and sample n x s samples\n",
    "    samples = tc.poisson(mu.unsqueeze(1).expand(-1, n_samples)).to(device)\n",
    "    # k_expectation_{ijk} = k(y_i, kth sample from Pois(mu_j))\n",
    "    k_expectation = k(y[:, None, None], samples[None, :, :]) # shape n x n x s\n",
    "    # k_pairs_{ij} = k(E[mu_i], y_j)\n",
    "    k_pairs = k(mu[:, None], y[None, :]) # shape n x n\n",
    "    # take expectation over mu samples\n",
    "    k_term = k_pairs - k_expectation.mean(dim=2)\n",
    "    # sum over all datapoints\n",
    "    k_term = (k_pairs - k_term).sum(dim=1)\n",
    "    out = k_term * c_term.sum(1)\n",
    "    return out"
   ]
  },
  {
   "cell_type": "code",
   "execution_count": 12,
   "id": "c7246308-f839-4382-a20c-b9a6286b4053",
   "metadata": {},
   "outputs": [],
   "source": [
    "from scipy.interpolate import griddata\n",
    "def plot_witness(col, n_samples=sys.maxsize):\n",
    "    Z = f(y_hat_mtx[:n_samples, col], y_mtx[:n_samples, col])\n",
    "    # plt.hist(Z[:n_samples].cpu(), bins=100, log=True)\n",
    "    X = y_mtx[:n_samples, col]\n",
    "    Y = y_hat_mtx[:n_samples, col]\n",
    "    plt.hist(Y, log=True, bins=100)\n",
    "    plt.title(f\"Antigen {col} Witness Function Values\")\n",
    "    plt.xlabel(\"Value\")\n",
    "    plt.ylabel(\"Frequency\")\n",
    "    plt.show()\n",
    "    graph = np.column_stack((X, np.exp(Y), Z.cpu()))\n",
    "    sorted_idcs = np.lexsort((graph[:,2], graph[:,1]))\n",
    "    graph = graph[sorted_idcs]\n",
    "    graph = graph[graph[:, 0] < 10]\n",
    "\n",
    "    x_range = np.linspace(min(graph[:, 0]), max(graph[:, 0]), 100)\n",
    "    y_range = np.linspace(min(graph[:, 1]), max(graph[:, 1]), 100)\n",
    "    X, Y = np.meshgrid(x_range, y_range)\n",
    "    Z = griddata(graph[:, :2], graph[:, 2], (X, Y), method='cubic')  # You can try different interpolation methods\n",
    "    plt.imshow(Z, cmap='viridis', extent=(min(graph[:, 0]), max(graph[:, 0]), min(graph[:, 1]), max(graph[:, 1])),\n",
    "               aspect='auto')  # 'auto' adjusts the aspect ratio based on the plot size\n",
    "    plt.colorbar()  # Add a colorbar to indicate intensity values\n",
    "\n",
    "    plt.title(f\"Antigen {col} Witness Function\")\n",
    "    plt.xlabel(\"Actual Bind Count\")\n",
    "    plt.ylabel(\"Predicted Bind Count\")\n",
    "    plt.show()"
   ]
  },
  {
   "cell_type": "code",
   "execution_count": 13,
   "id": "ccd3967c-cc41-4029-9904-45b6e5796b6d",
   "metadata": {
    "jp-MarkdownHeadingCollapsed": true,
    "tags": []
   },
   "outputs": [
    {
     "ename": "OutOfMemoryError",
     "evalue": "CUDA out of memory. Tried to allocate 30.04 GiB (GPU 0; 79.15 GiB total capacity; 30.34 GiB already allocated; 23.76 GiB free; 30.64 GiB reserved in total by PyTorch) If reserved memory is >> allocated memory try setting max_split_size_mb to avoid fragmentation.  See documentation for Memory Management and PYTORCH_CUDA_ALLOC_CONF",
     "output_type": "error",
     "traceback": [
      "\u001b[0;31m---------------------------------------------------------------------------\u001b[0m",
      "\u001b[0;31mOutOfMemoryError\u001b[0m                          Traceback (most recent call last)",
      "Cell \u001b[0;32mIn[13], line 1\u001b[0m\n\u001b[0;32m----> 1\u001b[0m plot_witness(\u001b[38;5;241m15\u001b[39m)\n",
      "Cell \u001b[0;32mIn[12], line 3\u001b[0m, in \u001b[0;36mplot_witness\u001b[0;34m(col, n_samples)\u001b[0m\n\u001b[1;32m      2\u001b[0m \u001b[38;5;28;01mdef\u001b[39;00m \u001b[38;5;21mplot_witness\u001b[39m(col, n_samples\u001b[38;5;241m=\u001b[39msys\u001b[38;5;241m.\u001b[39mmaxsize):\n\u001b[0;32m----> 3\u001b[0m     Z \u001b[38;5;241m=\u001b[39m f(y_hat_mtx[:n_samples, col], y_mtx[:n_samples, col])\n\u001b[1;32m      4\u001b[0m     \u001b[38;5;66;03m# plt.hist(Z[:n_samples].cpu(), bins=100, log=True)\u001b[39;00m\n\u001b[1;32m      5\u001b[0m     X \u001b[38;5;241m=\u001b[39m y_mtx[:n_samples, col]\n",
      "Cell \u001b[0;32mIn[11], line 11\u001b[0m, in \u001b[0;36mf\u001b[0;34m(mu, y)\u001b[0m\n\u001b[1;32m      9\u001b[0m samples \u001b[38;5;241m=\u001b[39m tc\u001b[38;5;241m.\u001b[39mpoisson(mu\u001b[38;5;241m.\u001b[39munsqueeze(\u001b[38;5;241m1\u001b[39m)\u001b[38;5;241m.\u001b[39mexpand(\u001b[38;5;241m-\u001b[39m\u001b[38;5;241m1\u001b[39m, n_samples))\u001b[38;5;241m.\u001b[39mto(device)\n\u001b[1;32m     10\u001b[0m \u001b[38;5;66;03m# k_expectation_{ijk} = k(y_i, kth sample from Pois(mu_j))\u001b[39;00m\n\u001b[0;32m---> 11\u001b[0m k_expectation \u001b[38;5;241m=\u001b[39m k(y[:, \u001b[38;5;28;01mNone\u001b[39;00m, \u001b[38;5;28;01mNone\u001b[39;00m], samples[\u001b[38;5;28;01mNone\u001b[39;00m, :, :]) \u001b[38;5;66;03m# shape n x n x s\u001b[39;00m\n\u001b[1;32m     12\u001b[0m \u001b[38;5;66;03m# k_pairs_{ij} = k(E[mu_i], y_j)\u001b[39;00m\n\u001b[1;32m     13\u001b[0m k_pairs \u001b[38;5;241m=\u001b[39m k(mu[:, \u001b[38;5;28;01mNone\u001b[39;00m], y[\u001b[38;5;28;01mNone\u001b[39;00m, :]) \u001b[38;5;66;03m# shape n x n\u001b[39;00m\n",
      "Cell \u001b[0;32mIn[5], line 4\u001b[0m, in \u001b[0;36mk\u001b[0;34m(y, y_)\u001b[0m\n\u001b[1;32m      2\u001b[0m \u001b[38;5;28;01mdef\u001b[39;00m \u001b[38;5;21mk\u001b[39m(y, y_):\n\u001b[1;32m      3\u001b[0m     \u001b[38;5;66;03m# take sigma squared to be y\u001b[39;00m\n\u001b[0;32m----> 4\u001b[0m     \u001b[38;5;28;01mreturn\u001b[39;00m tc\u001b[38;5;241m.\u001b[39mexp(\u001b[38;5;241m-\u001b[39m\u001b[38;5;241m1\u001b[39m\u001b[38;5;241m/\u001b[39m(\u001b[38;5;241m2\u001b[39m \u001b[38;5;241m*\u001b[39m length_param) \u001b[38;5;241m*\u001b[39m (tc\u001b[38;5;241m.\u001b[39mlog(y \u001b[38;5;241m+\u001b[39m \u001b[38;5;241m1\u001b[39m) \u001b[38;5;241m-\u001b[39m tc\u001b[38;5;241m.\u001b[39mlog(y_ \u001b[38;5;241m+\u001b[39m \u001b[38;5;241m1\u001b[39m)) \u001b[38;5;241m*\u001b[39m\u001b[38;5;241m*\u001b[39m \u001b[38;5;241m2\u001b[39m)\n",
      "File \u001b[0;32m~/.conda/envs/jboesen/lib/python3.11/site-packages/torch/_tensor.py:39\u001b[0m, in \u001b[0;36m_handle_torch_function_and_wrap_type_error_to_not_implemented.<locals>.wrapped\u001b[0;34m(*args, **kwargs)\u001b[0m\n\u001b[1;32m     37\u001b[0m     \u001b[38;5;28;01mif\u001b[39;00m has_torch_function(args):\n\u001b[1;32m     38\u001b[0m         \u001b[38;5;28;01mreturn\u001b[39;00m handle_torch_function(wrapped, args, \u001b[38;5;241m*\u001b[39margs, \u001b[38;5;241m*\u001b[39m\u001b[38;5;241m*\u001b[39mkwargs)\n\u001b[0;32m---> 39\u001b[0m     \u001b[38;5;28;01mreturn\u001b[39;00m f(\u001b[38;5;241m*\u001b[39margs, \u001b[38;5;241m*\u001b[39m\u001b[38;5;241m*\u001b[39mkwargs)\n\u001b[1;32m     40\u001b[0m \u001b[38;5;28;01mexcept\u001b[39;00m \u001b[38;5;167;01mTypeError\u001b[39;00m:\n\u001b[1;32m     41\u001b[0m     \u001b[38;5;28;01mreturn\u001b[39;00m \u001b[38;5;28mNotImplemented\u001b[39m\n",
      "\u001b[0;31mOutOfMemoryError\u001b[0m: CUDA out of memory. Tried to allocate 30.04 GiB (GPU 0; 79.15 GiB total capacity; 30.34 GiB already allocated; 23.76 GiB free; 30.64 GiB reserved in total by PyTorch) If reserved memory is >> allocated memory try setting max_split_size_mb to avoid fragmentation.  See documentation for Memory Management and PYTORCH_CUDA_ALLOC_CONF"
     ]
    }
   ],
   "source": [
    "plot_witness(15)"
   ]
  },
  {
   "cell_type": "code",
   "execution_count": null,
   "id": "49ccfffa-131c-4fb8-a674-f1e94429422f",
   "metadata": {},
   "outputs": [],
   "source": [
    "plt.hist(f(y_hat_mtx[:1000, 41], y_mtx[:1000, 41]).cpu(), log=True, bins=100)"
   ]
  },
  {
   "cell_type": "markdown",
   "id": "e9408a50-3d08-4f0e-aead-f02d5dd9a79e",
   "metadata": {},
   "source": [
    "### Calculate p-value (U-statistic)"
   ]
  },
  {
   "cell_type": "code",
   "execution_count": 14,
   "id": "83127438-3cb2-47e2-9a8e-14323686d75d",
   "metadata": {},
   "outputs": [
    {
     "ename": "ValueError",
     "evalue": "operands could not be broadcast together with remapped shapes [original->remapped]: (8979,50)->(8979,50) (100,8979)->(100,8979,newaxis) (100,8979)->(100,newaxis,8979) ",
     "output_type": "error",
     "traceback": [
      "\u001b[0;31m---------------------------------------------------------------------------\u001b[0m",
      "\u001b[0;31mValueError\u001b[0m                                Traceback (most recent call last)",
      "Cell \u001b[0;32mIn[14], line 18\u001b[0m\n\u001b[1;32m     16\u001b[0m     mats \u001b[38;5;241m=\u001b[39m np\u001b[38;5;241m.\u001b[39meinsum(\u001b[38;5;124m'\u001b[39m\u001b[38;5;124mij,bi,bj->bij\u001b[39m\u001b[38;5;124m'\u001b[39m, mat, (ws\u001b[38;5;241m-\u001b[39m\u001b[38;5;241m1\u001b[39m)\u001b[38;5;241m/\u001b[39mN, (ws\u001b[38;5;241m-\u001b[39m\u001b[38;5;241m1\u001b[39m)\u001b[38;5;241m/\u001b[39mN)\n\u001b[1;32m     17\u001b[0m     \u001b[38;5;28;01mreturn\u001b[39;00m [ma\u001b[38;5;241m.\u001b[39mmasked_array(mat_i, np\u001b[38;5;241m.\u001b[39meye(\u001b[38;5;28mlen\u001b[39m(mat)))\u001b[38;5;241m.\u001b[39msum() \u001b[38;5;28;01mfor\u001b[39;00m mat_i \u001b[38;5;129;01min\u001b[39;00m mats]\n\u001b[0;32m---> 18\u001b[0m bootstrap_mat(ffn\u001b[38;5;241m.\u001b[39mpredictions)\n",
      "Cell \u001b[0;32mIn[14], line 16\u001b[0m, in \u001b[0;36mbootstrap_mat\u001b[0;34m(mat, b)\u001b[0m\n\u001b[1;32m     14\u001b[0m N \u001b[38;5;241m=\u001b[39m \u001b[38;5;28mlen\u001b[39m(mat)\n\u001b[1;32m     15\u001b[0m ws \u001b[38;5;241m=\u001b[39m np\u001b[38;5;241m.\u001b[39mrandom\u001b[38;5;241m.\u001b[39mmultinomial(N, np\u001b[38;5;241m.\u001b[39mones(N)\u001b[38;5;241m/\u001b[39mN, b)\n\u001b[0;32m---> 16\u001b[0m mats \u001b[38;5;241m=\u001b[39m np\u001b[38;5;241m.\u001b[39meinsum(\u001b[38;5;124m'\u001b[39m\u001b[38;5;124mij,bi,bj->bij\u001b[39m\u001b[38;5;124m'\u001b[39m, mat, (ws\u001b[38;5;241m-\u001b[39m\u001b[38;5;241m1\u001b[39m)\u001b[38;5;241m/\u001b[39mN, (ws\u001b[38;5;241m-\u001b[39m\u001b[38;5;241m1\u001b[39m)\u001b[38;5;241m/\u001b[39mN)\n\u001b[1;32m     17\u001b[0m \u001b[38;5;28;01mreturn\u001b[39;00m [ma\u001b[38;5;241m.\u001b[39mmasked_array(mat_i, np\u001b[38;5;241m.\u001b[39meye(\u001b[38;5;28mlen\u001b[39m(mat)))\u001b[38;5;241m.\u001b[39msum() \u001b[38;5;28;01mfor\u001b[39;00m mat_i \u001b[38;5;129;01min\u001b[39;00m mats]\n",
      "File \u001b[0;32m~/.conda/envs/jboesen/lib/python3.11/site-packages/numpy/core/einsumfunc.py:1371\u001b[0m, in \u001b[0;36meinsum\u001b[0;34m(out, optimize, *operands, **kwargs)\u001b[0m\n\u001b[1;32m   1369\u001b[0m     \u001b[38;5;28;01mif\u001b[39;00m specified_out:\n\u001b[1;32m   1370\u001b[0m         kwargs[\u001b[38;5;124m'\u001b[39m\u001b[38;5;124mout\u001b[39m\u001b[38;5;124m'\u001b[39m] \u001b[38;5;241m=\u001b[39m out\n\u001b[0;32m-> 1371\u001b[0m     \u001b[38;5;28;01mreturn\u001b[39;00m c_einsum(\u001b[38;5;241m*\u001b[39moperands, \u001b[38;5;241m*\u001b[39m\u001b[38;5;241m*\u001b[39mkwargs)\n\u001b[1;32m   1373\u001b[0m \u001b[38;5;66;03m# Check the kwargs to avoid a more cryptic error later, without having to\u001b[39;00m\n\u001b[1;32m   1374\u001b[0m \u001b[38;5;66;03m# repeat default values here\u001b[39;00m\n\u001b[1;32m   1375\u001b[0m valid_einsum_kwargs \u001b[38;5;241m=\u001b[39m [\u001b[38;5;124m'\u001b[39m\u001b[38;5;124mdtype\u001b[39m\u001b[38;5;124m'\u001b[39m, \u001b[38;5;124m'\u001b[39m\u001b[38;5;124morder\u001b[39m\u001b[38;5;124m'\u001b[39m, \u001b[38;5;124m'\u001b[39m\u001b[38;5;124mcasting\u001b[39m\u001b[38;5;124m'\u001b[39m]\n",
      "\u001b[0;31mValueError\u001b[0m: operands could not be broadcast together with remapped shapes [original->remapped]: (8979,50)->(8979,50) (100,8979)->(100,8979,newaxis) (100,8979)->(100,newaxis,8979) "
     ]
    }
   ],
   "source": [
    "def bootstrap_mat(mat, b=100):\n",
    "    \"\"\"FROM THE PAPER\n",
    "    Algorithm 1 Bootstrap Goodness-of-fit Test based on KSD\n",
    "        Input: Sample {xi } and score function sq (x) = ∇x log q(x). Bootstrap sample size m.\n",
    "        Test: H0: {xi} is drawn from q v.s H1: {xi} is not drawn from q.\n",
    "        1. Compute Sˆu by (14) and uq(x,x′) as defined in The- orem 3.6. Generate m bootstrap sample Sˆ∗u by (16).\n",
    "        2. Reject H0 with significance level α if the percentage of Sˆ∗u that satisfies Sˆ∗u > Sˆu is less than α.\n",
    "    \"\"\"\n",
    "    \"\"\"We bootstrap the degenerate U statistic assuming identical p, q.\n",
    "    We can't use a usual bootstrap (wo -1/N) as dicussed in Arcones & Gine 1992:\n",
    "    We want to perform the bootstrap on the first non-zero term in the Hoeffding decomposition,\n",
    "    which in this case is the same U-stat with h(x, y) made degenerate. This sum will stay\n",
    "    O(1/N) while the actual U-stat is O(1/sqrt(N)).\"\"\"\n",
    "    N = len(mat)\n",
    "    ws = np.random.multinomial(N, np.ones(N)/N, b)\n",
    "    mats = np.einsum('ij,bi,bj->bij', mat, (ws-1)/N, (ws-1)/N)\n",
    "    return [ma.masked_array(mat_i, np.eye(len(mat))).sum() for mat_i in mats]\n",
    "bootstrap_mat(ffn.predictions)"
   ]
  },
  {
   "cell_type": "code",
   "execution_count": null,
   "id": "65315b8c-8ce4-49a3-935f-aa05cc054478",
   "metadata": {},
   "outputs": [],
   "source": []
  }
 ],
 "metadata": {
  "kernelspec": {
   "display_name": "jboesen tcellmatch",
   "language": "python",
   "name": "jboesen"
  },
  "language_info": {
   "codemirror_mode": {
    "name": "ipython",
    "version": 3
   },
   "file_extension": ".py",
   "mimetype": "text/x-python",
   "name": "python",
   "nbconvert_exporter": "python",
   "pygments_lexer": "ipython3",
   "version": "3.11.0"
  }
 },
 "nbformat": 4,
 "nbformat_minor": 5
}
