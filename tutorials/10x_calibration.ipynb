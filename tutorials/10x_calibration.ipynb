{
 "cells": [
  {
   "cell_type": "code",
   "execution_count": 1,
   "id": "dec9e301-2d64-437c-ae70-e4b6dc4ed647",
   "metadata": {},
   "outputs": [],
   "source": [
    "import tcellmatch.api as tm\n",
    "import torch as tc\n",
    "import torch.nn as nn\n",
    "from math import exp, log\n",
    "import matplotlib.pyplot as plt"
   ]
  },
  {
   "cell_type": "code",
   "execution_count": 2,
   "id": "c0b25653-1282-4e22-b732-eed7837b7f36",
   "metadata": {},
   "outputs": [],
   "source": [
    "saved_model_path = '../tutorial_data/saved_model-8-2--18:56'\n",
    "ffn = tm.models.EstimatorFfn()\n",
    "ffn.load_model_full(fn=saved_model_path, load_train_data=False)\n",
    "\n",
    "device = 'cuda' if tc.cuda.is_available() else 'cpu'\n",
    "# device='cpu'\n",
    "ffn.model = ffn.model.to(device) \n",
    "for param in ffn.model.parameters():\n",
    "    param = param.to(device) "
   ]
  },
  {
   "cell_type": "code",
   "execution_count": 3,
   "id": "3f68677b-9334-4399-a531-7e53b4abe6be",
   "metadata": {},
   "outputs": [],
   "source": [
    "ffn.predict()"
   ]
  },
  {
   "cell_type": "code",
   "execution_count": 4,
   "id": "08ee011d-03e5-45dc-89bd-6a6f37fc4eaa",
   "metadata": {},
   "outputs": [],
   "source": [
    "N_SAMPLES = 10\n",
    "import numpy as np"
   ]
  },
  {
   "cell_type": "code",
   "execution_count": 5,
   "id": "fbd9c2c6-1793-42c8-989d-05b4b0c7c5c7",
   "metadata": {},
   "outputs": [],
   "source": [
    "length_param = np.median(np.abs(ffn.y_test[:, None] - ffn.y_test[None, :])) + 1e-6"
   ]
  },
  {
   "cell_type": "code",
   "execution_count": 6,
   "id": "6a0f3fb8-39c1-4ecc-a593-9cd412c30bf7",
   "metadata": {},
   "outputs": [],
   "source": [
    "# calculate reference vars for second term, (ε_i | ε_j)_k\n",
    "def k(y, y_):\n",
    "    # take sigma squared to be y\n",
    "    return tc.exp(-1/(2 * length_param) * (tc.log(y + 1) - tc.log(y_ + 1)) ** 2)\n",
    "def c(lmd1, lmd2, tau):\n",
    "    # a and b are lambda values\n",
    "    delta_E = lmd1 - lmd2\n",
    "    delta_sd = tc.sqrt(lmd1) - tc.sqrt(lmd2)\n",
    "    return tc.exp(-1/(2 * length_param ** 2) * (delta_E ** 2 + delta_sd ** 2))"
   ]
  },
  {
   "cell_type": "code",
   "execution_count": 7,
   "id": "76ce054f-a905-4fb7-9f97-3ec5b33b727b",
   "metadata": {},
   "outputs": [],
   "source": [
    "def mmd_pois(y_hat_mtx, y_mtx):\n",
    "    # 1) prepare \n",
    "    y_hat_mtx, y_mtx = tc.Tensor(y_hat_mtx).to(device), tc.Tensor(y_mtx).to(device)\n",
    "    n, n_antigens = y_hat_mtx.shape\n",
    "    n = min(N_SAMPLES, n)\n",
    "    samples_idx = tc.randperm(y_hat_mtx.size(0))[:N_SAMPLES]\n",
    "    y_hat_mtx, y_mtx = y_hat_mtx[samples_idx], y_mtx[samples_idx]\n",
    "    # acct for log lmd\n",
    "    y_hat_mtx = tc.exp(y_hat_mtx)\n",
    "    \n",
    "\n",
    "    out = tc.zeros(n_antigens, device=device)\n",
    "\n",
    "    # 3) Look at each antigen\n",
    "    for col in range(n_antigens):\n",
    "        # 1) compute matrix for each value of C term\n",
    "        y, y_hat = y_mtx[:, col], y_hat_mtx[:, col]\n",
    "        C = c(y_hat[:, None], y_hat[None, :], 5) # shape n x n\n",
    "        # 2) Compute matrix for the expected value over BOTH inputs to the kernel, E k(y, y')\n",
    "        # create matrix of samples:\n",
    "        # samples_one_{ij} = jth sample from Pois(y_hat_i)\n",
    "        s = 1000\n",
    "        samples_one = tc.poisson(y_hat[:, None].expand(n, s)) # shape n x s\n",
    "        samples_two = tc.poisson(y_hat[:, None].expand(n, s))\n",
    "\n",
    "        # Reshape for broadcasting\n",
    "        samples_a = samples_one[:, None, :, None] \n",
    "        samples_b = samples_two[None, :, None, :]\n",
    "        # Compute k for each combination of draws\n",
    "        # - call this matrix B for EV over BOTH inputs\n",
    "        B = k(samples_a, samples_b) # shape n x n x s x s\n",
    "        \n",
    "        # 3) Compute E k(y, y_i)\n",
    "        # reshape y for broadcasting\n",
    "        y_reshaped = y[:, None, None]\n",
    "        samples_three = tc.poisson(y_hat[:, None].expand(n, s)).unsqueeze(0)\n",
    "        # # compute k for each combination\n",
    "        M = k(y_reshaped, samples_three) # shape n x n x s\n",
    "        # 4) Compute the eNd term, N_{ij} = k(y_i, y_j)\n",
    "        N = k(y_hat[:, None], y_hat[None, :]) # shape n x n\n",
    "        \n",
    "        # 5) Put it all together\n",
    "        # we want all mcs to be of shape n x n\n",
    "        # take average over samples        \n",
    "        B = B.mean(dim=(-2, -1))\n",
    "        M = M.mean(dim=-1)\n",
    "        # print(tc.nonzero(tc.isnan(C), as_tuple=False))\n",
    "        # print(tc.nonzero(tc.isnan(B), as_tuple=False))\n",
    "        # print(tc.nonzero(tc.isnan(M), as_tuple=False))\n",
    "        # print(tc.nonzero(tc.isnan(N), as_tuple=False))\n",
    "        K = B - 2 * M + N\n",
    "        ans = (C * K).mean()\n",
    "        out[col] = ans\n",
    "        tc.cuda.empty_cache()\n",
    "        del B\n",
    "        del M\n",
    "        del N\n",
    "        del C\n",
    "        del K\n",
    "    return out"
   ]
  },
  {
   "cell_type": "code",
   "execution_count": 8,
   "id": "14d48340-e607-4356-abca-811256c96ac1",
   "metadata": {},
   "outputs": [],
   "source": [
    "out = mmd_pois(ffn.predictions, ffn.y_test)"
   ]
  },
  {
   "cell_type": "code",
   "execution_count": 9,
   "id": "18efa242-3f4a-41fc-b60b-2caf376af404",
   "metadata": {},
   "outputs": [
    {
     "data": {
      "text/plain": [
       "(array([13., 12.,  2.,  1.,  0.,  0.,  0.,  0.,  0.,  0.,  0.,  0.,  0.,\n",
       "         1.,  0.,  1.,  2.,  6.,  2.,  1.,  0.,  0.,  0.,  0.,  0.,  0.,\n",
       "         0.,  0.,  0.,  0.,  0.,  0.,  1.,  1.,  0.,  0.,  0.,  0.,  0.,\n",
       "         0.,  0.,  0.,  0.,  0.,  0.,  0.,  0.,  0.,  0.,  0.,  0.,  0.,\n",
       "         0.,  0.,  0.,  0.,  0.,  0.,  0.,  0.,  0.,  0.,  0.,  1.,  0.,\n",
       "         0.,  0.,  0.,  0.,  0.,  0.,  0.,  0.,  0.,  0.,  0.,  0.,  0.,\n",
       "         0.,  0.,  0.,  1.,  0.,  0.,  1.,  0.,  1.,  0.,  0.,  0.,  0.,\n",
       "         0.,  0.,  0.,  0.,  0.,  0.,  1.,  1.,  1.]),\n",
       " array([-0.00019466,  0.00086495,  0.00192456,  0.00298417,  0.00404378,\n",
       "         0.00510339,  0.006163  ,  0.00722261,  0.00828222,  0.00934183,\n",
       "         0.01040144,  0.01146105,  0.01252066,  0.01358027,  0.01463988,\n",
       "         0.01569949,  0.0167591 ,  0.01781871,  0.01887832,  0.01993793,\n",
       "         0.02099754,  0.02205716,  0.02311677,  0.02417638,  0.02523599,\n",
       "         0.0262956 ,  0.02735521,  0.02841482,  0.02947443,  0.03053404,\n",
       "         0.03159365,  0.03265326,  0.03371287,  0.03477248,  0.03583209,\n",
       "         0.0368917 ,  0.03795131,  0.03901092,  0.04007053,  0.04113014,\n",
       "         0.04218975,  0.04324936,  0.04430898,  0.04536859,  0.0464282 ,\n",
       "         0.04748781,  0.04854742,  0.04960703,  0.05066664,  0.05172625,\n",
       "         0.05278586,  0.05384547,  0.05490508,  0.05596469,  0.0570243 ,\n",
       "         0.05808391,  0.05914352,  0.06020314,  0.06126275,  0.06232236,\n",
       "         0.06338196,  0.06444158,  0.06550118,  0.0665608 ,  0.0676204 ,\n",
       "         0.06868002,  0.06973962,  0.07079924,  0.07185885,  0.07291846,\n",
       "         0.07397807,  0.07503768,  0.07609729,  0.0771569 ,  0.07821652,\n",
       "         0.07927612,  0.08033574,  0.08139534,  0.08245496,  0.08351456,\n",
       "         0.08457418,  0.08563378,  0.0866934 ,  0.08775301,  0.08881262,\n",
       "         0.08987223,  0.09093184,  0.09199145,  0.09305106,  0.09411067,\n",
       "         0.09517028,  0.09622989,  0.0972895 ,  0.09834911,  0.09940872,\n",
       "         0.10046833,  0.10152794,  0.10258755,  0.10364717,  0.10470677,\n",
       "         0.10576639]),\n",
       " <BarContainer object of 100 artists>)"
      ]
     },
     "execution_count": 9,
     "metadata": {},
     "output_type": "execute_result"
    },
    {
     "data": {
      "image/png": "[encoded data removed]",
      "text/plain": [
       "<Figure size 432x288 with 1 Axes>"
      ]
     },
     "metadata": {
      "needs_background": "light"
     },
     "output_type": "display_data"
    }
   ],
   "source": [
    "plt.hist(out.cpu(), bins=100)"
   ]
  }
 ],
 "metadata": {
  "kernelspec": {
   "display_name": "jboesen tcellmatch",
   "language": "python",
   "name": "jboesen"
  },
  "language_info": {
   "codemirror_mode": {
    "name": "ipython",
    "version": 3
   },
   "file_extension": ".py",
   "mimetype": "text/x-python",
   "name": "python",
   "nbconvert_exporter": "python",
   "pygments_lexer": "ipython3",
   "version": "3.11.0"
  }
 },
 "nbformat": 4,
 "nbformat_minor": 5
}
