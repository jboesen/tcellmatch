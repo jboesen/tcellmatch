{
 "cells": [
  {
   "cell_type": "code",
   "execution_count": 1,
   "id": "ce68c02e",
   "metadata": {},
   "outputs": [
    {
     "name": "stderr",
     "output_type": "stream",
     "text": [
      "2023-06-13 08:56:05.260596: I tensorflow/core/platform/cpu_feature_guard.cc:182] This TensorFlow binary is optimized to use available CPU instructions in performance-critical operations.\n",
      "To enable the following instructions: AVX2 AVX512F AVX512_VNNI FMA, in other operations, rebuild TensorFlow with the appropriate compiler flags.\n"
     ]
    }
   ],
   "source": [
    "import numpy as np\n",
    "# import tensorflow as tf\n",
    "import tcellmatch.api as tm\n",
    "from torchmetrics import Accuracy\n",
    "# confusion mtx\n",
    "from sklearn.metrics import confusion_matrix\n",
    "import matplotlib.pyplot as plt\n",
    "import seaborn as sns"
   ]
  },
  {
   "cell_type": "code",
   "execution_count": 2,
   "id": "a06ec7a0",
   "metadata": {},
   "outputs": [],
   "source": [
    "ffn = tm.models.EstimatorFfn()\n",
    "# data = np.load(\"ffn__resampled.npz\")\n",
    "data = np.load(\"ffn_data.npz\")\n",
    "ffn.x_train = data[\"x_train\"]\n",
    "ffn.covariates_train = data[\"covariates_train\"]\n",
    "ffn.y_train = data[\"y_train\"]\n",
    "ffn.x_test = data[\"x_test\"]\n",
    "ffn.covariates_test = data[\"covariates_test\"]\n",
    "ffn.y_test = data[\"y_test\"]\n",
    "ffn.clone_train = data[\"clone_train\"]"
   ]
  },
  {
   "cell_type": "code",
   "execution_count": 3,
   "id": "e050334b",
   "metadata": {},
   "outputs": [
    {
     "data": {
      "text/plain": [
       "(51122, 1, 40, 26)"
      ]
     },
     "execution_count": 3,
     "metadata": {},
     "output_type": "execute_result"
    }
   ],
   "source": [
    "ffn.x_train.shape"
   ]
  },
  {
   "cell_type": "code",
   "execution_count": 4,
   "id": "7ff7a0ba",
   "metadata": {},
   "outputs": [],
   "source": [
    "ffn.load_idx('SAVED_IDX')"
   ]
  },
  {
   "cell_type": "code",
   "execution_count": 5,
   "id": "5f38a3a1",
   "metadata": {},
   "outputs": [],
   "source": [
    "ffn.build_bilstm(\n",
    "    topology = [10, 10],\n",
    "    residual_connection=True,\n",
    "    aa_embedding_dim=0,\n",
    "    optimizer='adam',\n",
    "    lr=0.001,\n",
    "    loss='cce',\n",
    "    label_smoothing=0,\n",
    "    use_covariates=False\n",
    ")"
   ]
  },
  {
   "cell_type": "code",
   "execution_count": 6,
   "id": "ff3c65ba",
   "metadata": {},
   "outputs": [
    {
     "data": {
      "text/plain": [
       "{'model': 'bilstm',\n",
       " 'topology': [10, 10],\n",
       " 'split': False,\n",
       " 'aa_embedding_dim': 0,\n",
       " 'depth_final_dense': 1,\n",
       " 'residual_connection': True,\n",
       " 'dropout': 0.0,\n",
       " 'optimizer': 'adam',\n",
       " 'lr': 0.001,\n",
       " 'loss': 'cce',\n",
       " 'label_smoothing': 0,\n",
       " 'optimize_for_gpu': True,\n",
       " 'dtype': 'float32'}"
      ]
     },
     "execution_count": 6,
     "metadata": {},
     "output_type": "execute_result"
    }
   ],
   "source": [
    "ffn.model_hyperparam"
   ]
  },
  {
   "cell_type": "code",
   "execution_count": 16,
   "id": "b46437c3",
   "metadata": {},
   "outputs": [
    {
     "name": "stdout",
     "output_type": "stream",
     "text": [
      "(1, 40, 26, 0, None)\n"
     ]
    }
   ],
   "source": [
    "print(ffn.model.input_shapes)"
   ]
  },
  {
   "cell_type": "code",
   "execution_count": 6,
   "id": "af6550b6",
   "metadata": {},
   "outputs": [],
   "source": [
    "# import numpy as np\n",
    "# np.savez_compressed(\n",
    "#     \"ffn_resampled.npz\",\n",
    "#     x_train=ffn.x_train,\n",
    "#     covariates_train=ffn.covariates_train,\n",
    "#     y_train=ffn.y_train,\n",
    "#     x_test=ffn.x_test,\n",
    "#     covariates_test=ffn.covariates_test,\n",
    "#     y_test=ffn.y_test,\n",
    "#     clone_train=ffn.clone_train\n",
    "# )"
   ]
  },
  {
   "cell_type": "code",
   "execution_count": 7,
   "id": "70a1fcef",
   "metadata": {},
   "outputs": [
    {
     "ename": "IndexError",
     "evalue": "index 36450 is out of bounds for axis 0 with size 36450",
     "output_type": "error",
     "traceback": [
      "\u001b[0;31m---------------------------------------------------------------------------\u001b[0m",
      "\u001b[0;31mIndexError\u001b[0m                                Traceback (most recent call last)",
      "Cell \u001b[0;32mIn[7], line 2\u001b[0m\n\u001b[1;32m      1\u001b[0m \u001b[39m# !! WWLO -> train esta sando renotsmarto\u001b[39;00m\n\u001b[0;32m----> 2\u001b[0m ffn\u001b[39m.\u001b[39;49mtrain(\n\u001b[1;32m      3\u001b[0m     epochs\u001b[39m=\u001b[39;49m\u001b[39m1\u001b[39;49m,\n\u001b[1;32m      4\u001b[0m     batch_size\u001b[39m=\u001b[39;49m\u001b[39m8\u001b[39;49m,\n\u001b[1;32m      5\u001b[0m     log_dir\u001b[39m=\u001b[39;49m\u001b[39m'\u001b[39;49m\u001b[39mTRAINING_RUN_1pm\u001b[39;49m\u001b[39m'\u001b[39;49m\n\u001b[1;32m      6\u001b[0m     )\n",
      "File \u001b[0;32m~/Documents/Code/#Work/tcellmatch/tcell-env/lib/python3.11/site-packages/tcellmatch/estimators/estimator_ffn.py:831\u001b[0m, in \u001b[0;36mEstimatorFfn.train\u001b[0;34m(self, epochs, batch_size, validation_split, patience, lr_schedule_min_lr, lr_schedule_factor, lr_schedule_patience, log_dir, use_existing_eval_partition, validation_batch_size)\u001b[0m\n\u001b[1;32m    828\u001b[0m idx_train \u001b[39m=\u001b[39m np\u001b[39m.\u001b[39margwhere(np\u001b[39m.\u001b[39misin(\u001b[39mself\u001b[39m\u001b[39m.\u001b[39mclone_train, clones_train))\u001b[39m.\u001b[39mflatten()\n\u001b[1;32m    829\u001b[0m \u001b[39m# turn these indices into indices of the train-val set (we do this b/c\u001b[39;00m\n\u001b[1;32m    830\u001b[0m \u001b[39m# there can now be multiple of one type of clone)\u001b[39;00m\n\u001b[0;32m--> 831\u001b[0m \u001b[39mself\u001b[39m\u001b[39m.\u001b[39midx_train \u001b[39m=\u001b[39m \u001b[39mself\u001b[39;49m\u001b[39m.\u001b[39;49midx_train_val[idx_train]\n\u001b[1;32m    832\u001b[0m \u001b[39mself\u001b[39m\u001b[39m.\u001b[39midx_val \u001b[39m=\u001b[39m \u001b[39mself\u001b[39m\u001b[39m.\u001b[39midx_train_val[idx_val]\n\u001b[1;32m    834\u001b[0m \u001b[39m# Assert that split is exclusive and complete:\u001b[39;00m\n",
      "\u001b[0;31mIndexError\u001b[0m: index 36450 is out of bounds for axis 0 with size 36450"
     ]
    }
   ],
   "source": [
    "# !! WWLO -> train esta sando renotsmarto\n",
    "ffn.train(\n",
    "    epochs=1,\n",
    "    batch_size=8,\n",
    "    # log_dir='TRAINING_RUN_1pm'\n",
    "    )"
   ]
  },
  {
   "cell_type": "code",
   "execution_count": null,
   "id": "41e97891",
   "metadata": {},
   "outputs": [],
   "source": [
    "import os\n",
    "os.makedirs('saved_model', exist_ok=True)\n",
    "ffn.save_model_full('saved_model', save_yhat=False, save_train_data=True)"
   ]
  },
  {
   "cell_type": "code",
   "execution_count": null,
   "id": "47c0a0c5",
   "metadata": {},
   "outputs": [],
   "source": [
    "import torch"
   ]
  },
  {
   "cell_type": "code",
   "execution_count": null,
   "id": "ee0c1db7",
   "metadata": {},
   "outputs": [],
   "source": [
    "# WWLO -> training and getting weights\n",
    "# need to fix train function to work w/o covariates\n",
    "\n",
    "all_clono = torch.load('all_unique_clono.pt')\n",
    "all_clono= all_clono.to(torch.float32)\n",
    "with torch.no_grad():\n",
    "    ffn.model(all_clono, torch.tensor([[]]), save_embeddings=True)"
   ]
  },
  {
   "cell_type": "code",
   "execution_count": null,
   "id": "4e7842e9",
   "metadata": {},
   "outputs": [
    {
     "name": "stdout",
     "output_type": "stream",
     "text": [
      "{'test': {CrossEntropyLoss(): 3.2413878867950277, 'Binary Accuracy': 15.448191078328065}}\n"
     ]
    }
   ],
   "source": [
    "print(ffn.evaluate(test_only=True))\n",
    "ffn.predict(save_embeddings=True)"
   ]
  },
  {
   "attachments": {},
   "cell_type": "markdown",
   "id": "f8d1783b",
   "metadata": {},
   "source": [
    "### See how balanced the ds is"
   ]
  },
  {
   "cell_type": "code",
   "execution_count": null,
   "id": "6defc337",
   "metadata": {},
   "outputs": [],
   "source": [
    "y_train = np.argmax(ffn.y_train, axis=1)\n",
    "y_true = np.argmax(ffn.y_test, axis=1)"
   ]
  },
  {
   "cell_type": "code",
   "execution_count": null,
   "id": "d88815bf",
   "metadata": {},
   "outputs": [
    {
     "name": "stdout",
     "output_type": "stream",
     "text": [
      "1: 6\n",
      "2: 229\n",
      "4: 9\n",
      "5: 3\n",
      "7: 2\n",
      "8: 1\n",
      "9: 60\n",
      "12: 6\n",
      "13: 142\n",
      "14: 3144\n",
      "15: 377\n",
      "18: 7\n",
      "19: 9\n",
      "20: 21\n",
      "22: 30\n",
      "23: 3\n",
      "25: 13\n",
      "26: 4\n",
      "27: 3\n",
      "28: 10\n",
      "29: 3923\n",
      "30: 124\n",
      "31: 1\n",
      "32: 311\n",
      "33: 549\n",
      "34: 3\n",
      "35: 14\n",
      "36: 3\n",
      "37: 2\n",
      "38: 1\n",
      "40: 1\n",
      "41: 2296\n",
      "43: 47\n",
      "50: 39839\n"
     ]
    }
   ],
   "source": [
    "# Count the occurrences of each value\n",
    "unique_values, value_counts = np.unique(y_train, return_counts=True)\n",
    "\n",
    "# Print the unique values and their counts\n",
    "for value, count in zip(unique_values, value_counts):\n",
    "    print(f\"{value}: {count}\")"
   ]
  },
  {
   "attachments": {},
   "cell_type": "markdown",
   "id": "bc73b3b8",
   "metadata": {},
   "source": [
    "### Evaluation"
   ]
  },
  {
   "cell_type": "code",
   "execution_count": null,
   "id": "ff3ea3d7",
   "metadata": {},
   "outputs": [
    {
     "data": {
      "image/png": "[encoded data removed]",
      "text/plain": [
       "<Figure size 800x600 with 2 Axes>"
      ]
     },
     "metadata": {},
     "output_type": "display_data"
    }
   ],
   "source": [
    "# CONFUSION MATRIX\n",
    "true_labels = np.argmax(ffn.y_test, axis=1)\n",
    "predicted_labels = np.argmax(ffn.predictions, axis=1)\n",
    "\n",
    "cm = confusion_matrix(true_labels, predicted_labels)\n",
    "\n",
    "plt.figure(figsize=(8, 6))\n",
    "sns.heatmap(cm, annot=True, cmap='Blues', fmt='d')\n",
    "plt.xlabel('Predicted')\n",
    "plt.ylabel('True')\n",
    "plt.title('Confusion Matrix')\n",
    "plt.show()"
   ]
  },
  {
   "cell_type": "code",
   "execution_count": null,
   "id": "41b32b87",
   "metadata": {},
   "outputs": [
    {
     "ename": "NameError",
     "evalue": "name 'y_hat' is not defined",
     "output_type": "error",
     "traceback": [
      "\u001b[0;31m---------------------------------------------------------------------------\u001b[0m",
      "\u001b[0;31mNameError\u001b[0m                                 Traceback (most recent call last)",
      "Cell \u001b[0;32mIn[14], line 2\u001b[0m\n\u001b[1;32m      1\u001b[0m accuracy \u001b[38;5;241m=\u001b[39m Accuracy(task\u001b[38;5;241m=\u001b[39m\u001b[38;5;124m\"\u001b[39m\u001b[38;5;124mmulticlass\u001b[39m\u001b[38;5;124m\"\u001b[39m, num_classes\u001b[38;5;241m=\u001b[39m\u001b[38;5;241m51\u001b[39m)\n\u001b[0;32m----> 2\u001b[0m y_hat \u001b[38;5;241m=\u001b[39m torch\u001b[38;5;241m.\u001b[39mfrom_numpy(\u001b[43my_hat\u001b[49m)\n\u001b[1;32m      3\u001b[0m y_true \u001b[38;5;241m=\u001b[39m torch\u001b[38;5;241m.\u001b[39mfrom_numpy(y_true)\n\u001b[1;32m      4\u001b[0m accuracy(y_hat, y_true)\n",
      "\u001b[0;31mNameError\u001b[0m: name 'y_hat' is not defined"
     ]
    }
   ],
   "source": [
    "accuracy = Accuracy(task=\"multiclass\", num_classes=51)\n",
    "y_hat = torch.from_numpy(y_hat)\n",
    "y_true = torch.from_numpy(y_true)\n",
    "accuracy(y_hat, y_true)"
   ]
  },
  {
   "cell_type": "code",
   "execution_count": null,
   "id": "99fc19c3",
   "metadata": {},
   "outputs": [],
   "source": [
    "ffn2 = tm.models.EstimatorFfn()\n",
    "ffn2.load_model_full(fn='saved_model')"
   ]
  }
 ],
 "metadata": {
  "kernelspec": {
   "display_name": "tcell-env",
   "language": "python",
   "name": "tcell-env"
  },
  "language_info": {
   "codemirror_mode": {
    "name": "ipython",
    "version": 3
   },
   "file_extension": ".py",
   "mimetype": "text/x-python",
   "name": "python",
   "nbconvert_exporter": "python",
   "pygments_lexer": "ipython3",
   "version": "3.11.3"
  }
 },
 "nbformat": 4,
 "nbformat_minor": 5
}
