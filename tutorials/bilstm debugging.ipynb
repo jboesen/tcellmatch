{
 "cells": [
  {
   "cell_type": "code",
   "execution_count": 6,
   "id": "ce68c02e",
   "metadata": {},
   "outputs": [],
   "source": [
    "import numpy as np\n",
    "# import tensorflow as tf\n",
    "import tcellmatch.api as tm\n",
    "from torchmetrics import Accuracy\n",
    "# confusion mtx\n",
    "from sklearn.metrics import confusion_matrix\n",
    "import matplotlib.pyplot as plt\n",
    "import seaborn as sns"
   ]
  },
  {
   "cell_type": "code",
   "execution_count": 7,
   "id": "a06ec7a0",
   "metadata": {},
   "outputs": [],
   "source": [
    "ffn = tm.models.EstimatorFfn()\n",
    "# data = np.load(\"ffn__resampled.npz\")\n",
    "data = np.load(\"ffn_data.npz\")\n",
    "ffn.x_train = data[\"x_train\"]\n",
    "ffn.covariates_train = data[\"covariates_train\"]\n",
    "ffn.y_train = data[\"y_train\"]\n",
    "ffn.x_test = data[\"x_test\"]\n",
    "ffn.covariates_test = data[\"covariates_test\"]\n",
    "ffn.y_test = data[\"y_test\"]\n",
    "ffn.clone_train = data[\"clone_train\"]"
   ]
  },
  {
   "cell_type": "code",
   "execution_count": 8,
   "id": "7ff7a0ba",
   "metadata": {},
   "outputs": [],
   "source": [
    "ffn.load_idx('SAVED_IDX')"
   ]
  },
  {
   "cell_type": "code",
   "execution_count": 9,
   "id": "5f38a3a1",
   "metadata": {},
   "outputs": [],
   "source": [
    "ffn.build_bilstm(\n",
    "    topology = [10, 10],\n",
    "    residual_connection=True,\n",
    "    aa_embedding_dim=0,\n",
    "    optimizer='adam',\n",
    "    lr=0.001,\n",
    "    loss='cce',\n",
    "    label_smoothing=0,\n",
    ")"
   ]
  },
  {
   "cell_type": "code",
   "execution_count": 10,
   "id": "69aa8d61",
   "metadata": {},
   "outputs": [],
   "source": [
    "# Assuming the training data is in the variables x_train_resampled, covariates_train_resampled, and y_train_resampled\n",
    "\n",
    "# convert one-hot encoded labels to class indices\n",
    "y_train_indices = np.argmax(ffn.y_train, axis=1)\n",
    "classes, counts = np.unique(y_train_indices, return_counts=True)\n",
    "\n",
    "# Identify classes with 3 or fewer samples\n",
    "rare_classes = classes[counts <= 3]\n",
    "\n",
    "# Initialize masks for x_train and covariates_train with all True values\n",
    "mask_x_train = np.ones(len(y_train_indices), dtype=bool)\n",
    "mask_covariates_train = np.ones(len(y_train_indices), dtype=bool)\n",
    "\n",
    "# Set mask values for rare classes to False\n",
    "for rc in rare_classes:\n",
    "    mask_x_train[y_train_indices == rc] = False\n",
    "    mask_covariates_train[y_train_indices == rc] = False\n",
    "\n",
    "# Apply masks to drop rare classes\n",
    "ffn.x_train = ffn.x_train[mask_x_train]\n",
    "ffn.covariates_train = ffn.covariates_train[mask_covariates_train]\n",
    "ffn.y_train = ffn.y_train[mask_x_train]  # Here's the corrected line\n",
    "\n",
    "# The new training data is x_train_filtered, covariates_train_filtered, y_train_filtered"
   ]
  },
  {
   "cell_type": "code",
   "execution_count": 11,
   "id": "b0417d0b",
   "metadata": {},
   "outputs": [],
   "source": [
    "R = tm.utils.balance_multiclass_dataset(\n",
    "        ffn.x_train,\n",
    "        ffn.covariates_train,\n",
    "        ffn.y_train,\n",
    "        min_samples=30,\n",
    "        max_samples=4000,\n",
    "    )"
   ]
  },
  {
   "cell_type": "code",
   "execution_count": 16,
   "id": "cd39669f",
   "metadata": {},
   "outputs": [],
   "source": [
    "ffn.x_train, ffn.covariates_train, ffn.y_train = R\n",
    "ffn.idx_train_val = np.arange(0, ffn.x_train.shape[0])"
   ]
  },
  {
   "cell_type": "code",
   "execution_count": 13,
   "id": "3dee0b66",
   "metadata": {
    "scrolled": true
   },
   "outputs": [
    {
     "name": "stdout",
     "output_type": "stream",
     "text": [
      "(15702, 1, 40, 26)\n"
     ]
    }
   ],
   "source": [
    "print(ffn.x_train.shape)"
   ]
  },
  {
   "cell_type": "code",
   "execution_count": 15,
   "id": "8c6ff014",
   "metadata": {},
   "outputs": [
    {
     "name": "stdout",
     "output_type": "stream",
     "text": [
      "(51301,)\n"
     ]
    }
   ],
   "source": [
    "print(ffn.idx_train_val.shape)"
   ]
  },
  {
   "cell_type": "code",
   "execution_count": 8,
   "id": "af6550b6",
   "metadata": {},
   "outputs": [],
   "source": [
    "# import numpy as np\n",
    "# np.savez_compressed(\n",
    "#     \"ffn_resampled.npz\",\n",
    "#     x_train=ffn.x_train,\n",
    "#     covariates_train=ffn.covariates_train,\n",
    "#     y_train=ffn.y_train,\n",
    "#     x_test=ffn.x_test,\n",
    "#     covariates_test=ffn.covariates_test,\n",
    "#     y_test=ffn.y_test,\n",
    "#     clone_train=ffn.clone_train\n",
    "# )"
   ]
  },
  {
   "cell_type": "code",
   "execution_count": 17,
   "id": "70a1fcef",
   "metadata": {},
   "outputs": [
    {
     "ename": "IndexError",
     "evalue": "index 15702 is out of bounds for axis 0 with size 15702",
     "output_type": "error",
     "traceback": [
      "\u001b[0;31m---------------------------------------------------------------------------\u001b[0m",
      "\u001b[0;31mIndexError\u001b[0m                                Traceback (most recent call last)",
      "Cell \u001b[0;32mIn[17], line 2\u001b[0m\n\u001b[1;32m      1\u001b[0m \u001b[38;5;66;03m# !! WWLO -> train esta sando renotsmarto\u001b[39;00m\n\u001b[0;32m----> 2\u001b[0m \u001b[43mffn\u001b[49m\u001b[38;5;241;43m.\u001b[39;49m\u001b[43mtrain\u001b[49m\u001b[43m(\u001b[49m\n\u001b[1;32m      3\u001b[0m \u001b[43m    \u001b[49m\u001b[43mepochs\u001b[49m\u001b[38;5;241;43m=\u001b[39;49m\u001b[38;5;241;43m5\u001b[39;49m\u001b[43m,\u001b[49m\n\u001b[1;32m      4\u001b[0m \u001b[43m    \u001b[49m\u001b[43mbatch_size\u001b[49m\u001b[38;5;241;43m=\u001b[39;49m\u001b[38;5;241;43m8\u001b[39;49m\u001b[43m,\u001b[49m\n\u001b[1;32m      5\u001b[0m \u001b[38;5;66;43;03m#   log_dir='TRAINING_RUN_1pm'\u001b[39;49;00m\n\u001b[1;32m      6\u001b[0m \u001b[43m    \u001b[49m\u001b[43m)\u001b[49m\n",
      "File \u001b[0;32m~/Documents/Code/#Work/tcellmatch/tcell-env/lib/python3.11/site-packages/tcellmatch/estimators/estimator_ffn.py:824\u001b[0m, in \u001b[0;36mEstimatorFfn.train\u001b[0;34m(self, epochs, batch_size, validation_split, patience, lr_schedule_min_lr, lr_schedule_factor, lr_schedule_patience, log_dir, use_existing_eval_partition, validation_batch_size)\u001b[0m\n\u001b[1;32m    821\u001b[0m idx_train \u001b[38;5;241m=\u001b[39m np\u001b[38;5;241m.\u001b[39margwhere(np\u001b[38;5;241m.\u001b[39misin(\u001b[38;5;28mself\u001b[39m\u001b[38;5;241m.\u001b[39mclone_train, clones_train))\u001b[38;5;241m.\u001b[39mflatten()\n\u001b[1;32m    822\u001b[0m \u001b[38;5;66;03m# turn these indices into indices of the train-val set (we do this b/c)\u001b[39;00m\n\u001b[1;32m    823\u001b[0m \u001b[38;5;66;03m# there can now be multiple of one type of clone\u001b[39;00m\n\u001b[0;32m--> 824\u001b[0m \u001b[38;5;28mself\u001b[39m\u001b[38;5;241m.\u001b[39midx_train \u001b[38;5;241m=\u001b[39m \u001b[38;5;28;43mself\u001b[39;49m\u001b[38;5;241;43m.\u001b[39;49m\u001b[43midx_train_val\u001b[49m\u001b[43m[\u001b[49m\u001b[43midx_train\u001b[49m\u001b[43m]\u001b[49m\n\u001b[1;32m    825\u001b[0m \u001b[38;5;28mself\u001b[39m\u001b[38;5;241m.\u001b[39midx_val \u001b[38;5;241m=\u001b[39m \u001b[38;5;28mself\u001b[39m\u001b[38;5;241m.\u001b[39midx_train_val[idx_val]\n\u001b[1;32m    827\u001b[0m \u001b[38;5;66;03m# Assert that split is exclusive and complete:\u001b[39;00m\n",
      "\u001b[0;31mIndexError\u001b[0m: index 15702 is out of bounds for axis 0 with size 15702"
     ]
    }
   ],
   "source": [
    "# !! WWLO -> train esta sando renotsmarto\n",
    "ffn.train(\n",
    "    epochs=5,\n",
    "    batch_size=8,\n",
    "#   log_dir='TRAINING_RUN_1pm'\n",
    "    )"
   ]
  },
  {
   "cell_type": "code",
   "execution_count": 18,
   "id": "1b69c277",
   "metadata": {},
   "outputs": [
    {
     "data": {
      "text/plain": [
       "(51343,)"
      ]
     },
     "execution_count": 18,
     "metadata": {},
     "output_type": "execute_result"
    }
   ],
   "source": [
    "ffn.clone_train.shape"
   ]
  },
  {
   "cell_type": "code",
   "execution_count": null,
   "id": "4e7842e9",
   "metadata": {},
   "outputs": [],
   "source": [
    "print(ffn.evaluate(test_only=True))\n",
    "ffn.predict()"
   ]
  },
  {
   "cell_type": "markdown",
   "id": "f8d1783b",
   "metadata": {},
   "source": [
    "### See how balanced the ds is"
   ]
  },
  {
   "cell_type": "code",
   "execution_count": null,
   "id": "6defc337",
   "metadata": {},
   "outputs": [],
   "source": [
    "y_train = np.argmax(ffn.y_train, axis=1)\n",
    "y_true = np.argmax(ffn.y_test, axis=1)"
   ]
  },
  {
   "cell_type": "code",
   "execution_count": null,
   "id": "d88815bf",
   "metadata": {},
   "outputs": [],
   "source": [
    "# Count the occurrences of each value\n",
    "unique_values, value_counts = np.unique(y_train, return_counts=True)\n",
    "\n",
    "# Print the unique values and their counts\n",
    "for value, count in zip(unique_values, value_counts):\n",
    "    print(f\"{value}: {count}\")"
   ]
  },
  {
   "cell_type": "markdown",
   "id": "bc73b3b8",
   "metadata": {},
   "source": [
    "### Evaluation"
   ]
  },
  {
   "cell_type": "code",
   "execution_count": null,
   "id": "ff3ea3d7",
   "metadata": {},
   "outputs": [],
   "source": [
    "# CONFUSION MATRIX\n",
    "true_labels = np.argmax(ffn.y_test, axis=1)\n",
    "predicted_labels = np.argmax(ffn.predictions, axis=1)\n",
    "\n",
    "cm = confusion_matrix(true_labels, predicted_labels)\n",
    "\n",
    "plt.figure(figsize=(8, 6))\n",
    "sns.heatmap(cm, annot=True, cmap='Blues', fmt='d')\n",
    "plt.xlabel('Predicted')\n",
    "plt.ylabel('True')\n",
    "plt.title('Confusion Matrix')\n",
    "plt.show()"
   ]
  },
  {
   "cell_type": "code",
   "execution_count": null,
   "id": "41b32b87",
   "metadata": {},
   "outputs": [],
   "source": [
    "accuracy = Accuracy(task=\"multiclass\", num_classes=51)\n",
    "y_hat = torch.from_numpy(y_hat)\n",
    "y_true = torch.from_numpy(y_true)\n",
    "accuracy(y_hat, y_true)"
   ]
  },
  {
   "cell_type": "code",
   "execution_count": null,
   "id": "2835568b",
   "metadata": {},
   "outputs": [],
   "source": []
  }
 ],
 "metadata": {
  "kernelspec": {
   "display_name": "tcell-env",
   "language": "python",
   "name": "tcell-env"
  },
  "language_info": {
   "codemirror_mode": {
    "name": "ipython",
    "version": 3
   },
   "file_extension": ".py",
   "mimetype": "text/x-python",
   "name": "python",
   "nbconvert_exporter": "python",
   "pygments_lexer": "ipython3",
   "version": "3.11.3"
  }
 },
 "nbformat": 4,
 "nbformat_minor": 5
}
